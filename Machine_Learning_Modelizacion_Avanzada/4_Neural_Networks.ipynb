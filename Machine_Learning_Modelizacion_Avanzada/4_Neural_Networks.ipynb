{
 "metadata": {
  "language_info": {
   "codemirror_mode": {
    "name": "ipython",
    "version": 3
   },
   "file_extension": ".py",
   "mimetype": "text/x-python",
   "name": "python",
   "nbconvert_exporter": "python",
   "pygments_lexer": "ipython3",
   "version": "3.8.5-final"
  },
  "orig_nbformat": 2,
  "kernelspec": {
   "name": "python3",
   "display_name": "Python 3",
   "language": "python"
  }
 },
 "nbformat": 4,
 "nbformat_minor": 2,
 "cells": [
  {
   "cell_type": "code",
   "execution_count": 9,
   "metadata": {},
   "outputs": [],
   "source": [
    "from sklearn.neural_network import MLPClassifier\n",
    "from sklearn.neural_network import MLPRegressor\n",
    "from sklearn.preprocessing import StandardScaler\n",
    "\n",
    "from sklearn.model_selection import train_test_split\n",
    "from sklearn.metrics import r2_score\n",
    "\n",
    "import pandas as pd"
   ]
  },
  {
   "cell_type": "code",
   "execution_count": 10,
   "metadata": {},
   "outputs": [],
   "source": [
    "data = pd.read_csv(\"../../Tascas/Data/DelayedFlights.csv\")"
   ]
  },
  {
   "cell_type": "code",
   "execution_count": 11,
   "metadata": {},
   "outputs": [],
   "source": [
    "df = data.dropna(subset = [\"ArrDelay\"])\n",
    "df = df.sample(frac=1).head(1000)\n",
    "\n",
    "#df[\"Month\"] = df[\"Month\"].apply(str)\n",
    "#df[\"DayofMonth\"] = df[\"DayofMonth\"].apply(str)\n",
    "#df[\"DayOfWeek\"] = df[\"DayOfWeek\"].apply(str)\n",
    "\n",
    "#dummies = pd.get_dummies(data=df[['Month', 'DayofMonth', 'DayOfWeek', 'Origin', 'Dest']])\n",
    "#X = dummies.add(X, fill_value=0)\n",
    "\n",
    "X = df[[\"AirTime\", \"Distance\", \"DepDelay\"]]\n",
    "Y = df[\"ArrDelay\"]"
   ]
  },
  {
   "cell_type": "code",
   "execution_count": 12,
   "metadata": {},
   "outputs": [],
   "source": [
    "X_train, X_test, y_train, y_test =  train_test_split(X,Y, test_size=.2, random_state = 1) # split BD"
   ]
  },
  {
   "cell_type": "code",
   "execution_count": 13,
   "metadata": {},
   "outputs": [],
   "source": [
    "# escalamos los datos\n",
    "scaler = StandardScaler()\n",
    "scaler.fit(X_train)\n",
    "\n",
    "X_train = scaler.transform(X_train)\n",
    "X_test = scaler.transform(X_test)"
   ]
  },
  {
   "cell_type": "code",
   "execution_count": 15,
   "metadata": {},
   "outputs": [
    {
     "output_type": "stream",
     "name": "stdout",
     "text": [
      "R cuadrado:  0.9575453349329774\n"
     ]
    }
   ],
   "source": [
    "# ajustamos la red neuronal\n",
    "clf = MLPRegressor(solver='lbfgs', alpha=1e-5, hidden_layer_sizes=(5, ))  \n",
    "# adam / penalizacion / capas / neuronas / activation=\"logistic\" or \"relu\" /  learnng_rate=\"adaptative\" or \"constant\" / max_iter = 1000000 / warm_start= True /\n",
    "\n",
    "model = clf.fit(X_train, y_train)\n",
    "\n",
    "predictions = model.predict(X_test)\n",
    "print(\"R cuadrado: \", r2_score(y_test, predictions))"
   ]
  },
  {
   "cell_type": "code",
   "execution_count": null,
   "metadata": {},
   "outputs": [],
   "source": [
    "# Es elevado por que las variables estan muy correlacionadas"
   ]
  }
 ]
}