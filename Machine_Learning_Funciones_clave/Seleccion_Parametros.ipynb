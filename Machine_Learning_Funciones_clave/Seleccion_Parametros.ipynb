{
 "metadata": {
  "language_info": {
   "codemirror_mode": {
    "name": "ipython",
    "version": 3
   },
   "file_extension": ".py",
   "mimetype": "text/x-python",
   "name": "python",
   "nbconvert_exporter": "python",
   "pygments_lexer": "ipython3",
   "version": "3.8.5-final"
  },
  "orig_nbformat": 2,
  "kernelspec": {
   "name": "python3",
   "display_name": "Python 3",
   "language": "python"
  }
 },
 "nbformat": 4,
 "nbformat_minor": 2,
 "cells": [
  {
   "cell_type": "code",
   "execution_count": 1,
   "metadata": {},
   "outputs": [
    {
     "output_type": "stream",
     "name": "stderr",
     "text": [
      "<frozen importlib._bootstrap>:219: RuntimeWarning: numpy.ufunc size changed, may indicate binary incompatibility. Expected 192 from C header, got 216 from PyObject\n"
     ]
    }
   ],
   "source": [
    "from sklearn.neural_network import MLPRegressor\n",
    "from sklearn.preprocessing import StandardScaler\n",
    "from sklearn.model_selection import train_test_split\n",
    "from sklearn.metrics import r2_score\n",
    "\n",
    "import pandas as pd"
   ]
  },
  {
   "cell_type": "code",
   "execution_count": 2,
   "metadata": {},
   "outputs": [],
   "source": [
    "data = pd.read_csv(\"../../Tascas/Data/DelayedFlights.csv\")"
   ]
  },
  {
   "cell_type": "code",
   "execution_count": 5,
   "metadata": {},
   "outputs": [],
   "source": [
    "df = data.dropna(subset = [\"AirTime\", \"Distance\", \"TaxiIn\",\"TaxiOut\",\"DepDelay\"])\n",
    "df = df.sample(frac=1).head(1000)\n",
    "X = df[[\"AirTime\", \"Distance\", \"TaxiIn\",\"TaxiOut\",\"DepDelay\"]]\n",
    "Y = df[\"ArrDelay\"]\n",
    "\n",
    "X_train, X_test, y_train, y_test =  train_test_split(X,Y, test_size=.2, random_state = 1)"
   ]
  },
  {
   "cell_type": "code",
   "execution_count": 6,
   "metadata": {},
   "outputs": [],
   "source": [
    "scaler = StandardScaler()\n",
    "scaler.fit(X_train)\n",
    "\n",
    "X_train = scaler.transform(X_train)\n",
    "X_test = scaler.transform(X_test)"
   ]
  },
  {
   "cell_type": "code",
   "execution_count": 8,
   "metadata": {},
   "outputs": [],
   "source": [
    "alphas = [0.000001,0.0001,0.01,0.1] # regularizacion\n",
    "layers = [5,10,50,100]              # capas ocultas\n",
    "solvers = [\"lbfgs\",\"adam\"]          # algoritmos"
   ]
  },
  {
   "cell_type": "code",
   "execution_count": 9,
   "metadata": {},
   "outputs": [
    {
     "output_type": "stream",
     "name": "stdout",
     "text": [
      "32\n"
     ]
    }
   ],
   "source": [
    "print(len(alphas)*len(layers)*len(solvers))"
   ]
  },
  {
   "cell_type": "code",
   "execution_count": 10,
   "metadata": {},
   "outputs": [
    {
     "output_type": "stream",
     "name": "stdout",
     "text": [
      "R cuadrado:  0.9630190554157584   Solver:  lbfgs   Layers:  5   Alphas:  [1e-06, 0.0001, 0.01, 0.1]\n",
      "R cuadrado:  0.9653730178608607   Solver:  adam   Layers:  5   Alphas:  [1e-06, 0.0001, 0.01, 0.1]\n",
      "R cuadrado:  0.9651584600621691   Solver:  lbfgs   Layers:  10   Alphas:  [1e-06, 0.0001, 0.01, 0.1]\n",
      "R cuadrado:  0.9654377546597948   Solver:  adam   Layers:  10   Alphas:  [1e-06, 0.0001, 0.01, 0.1]\n",
      "R cuadrado:  0.9501702233296848   Solver:  lbfgs   Layers:  50   Alphas:  [1e-06, 0.0001, 0.01, 0.1]\n",
      "R cuadrado:  0.9634265102028762   Solver:  adam   Layers:  50   Alphas:  [1e-06, 0.0001, 0.01, 0.1]\n",
      "R cuadrado:  0.8624539720112837   Solver:  lbfgs   Layers:  100   Alphas:  [1e-06, 0.0001, 0.01, 0.1]\n",
      "R cuadrado:  0.9613773051193553   Solver:  adam   Layers:  100   Alphas:  [1e-06, 0.0001, 0.01, 0.1]\n",
      "R cuadrado:  0.9654950095042413   Solver:  lbfgs   Layers:  5   Alphas:  [1e-06, 0.0001, 0.01, 0.1]\n",
      "R cuadrado:  0.9659212585259451   Solver:  adam   Layers:  5   Alphas:  [1e-06, 0.0001, 0.01, 0.1]\n",
      "R cuadrado:  0.9588954069592355   Solver:  lbfgs   Layers:  10   Alphas:  [1e-06, 0.0001, 0.01, 0.1]\n",
      "R cuadrado:  0.9640716652534608   Solver:  adam   Layers:  10   Alphas:  [1e-06, 0.0001, 0.01, 0.1]\n",
      "R cuadrado:  0.9406447243676804   Solver:  lbfgs   Layers:  50   Alphas:  [1e-06, 0.0001, 0.01, 0.1]\n",
      "R cuadrado:  0.9620787881070527   Solver:  adam   Layers:  50   Alphas:  [1e-06, 0.0001, 0.01, 0.1]\n",
      "/home/jesus/anaconda3/lib/python3.8/site-packages/sklearn/neural_network/_multilayer_perceptron.py:471: ConvergenceWarning: lbfgs failed to converge (status=1):\n",
      "STOP: TOTAL NO. of ITERATIONS REACHED LIMIT.\n",
      "\n",
      "Increase the number of iterations (max_iter) or scale the data as shown in:\n",
      "    https://scikit-learn.org/stable/modules/preprocessing.html\n",
      "  self.n_iter_ = _check_optimize_result(\"lbfgs\", opt_res, self.max_iter)\n",
      "R cuadrado:  0.8267608184450076   Solver:  lbfgs   Layers:  100   Alphas:  [1e-06, 0.0001, 0.01, 0.1]\n",
      "/home/jesus/anaconda3/lib/python3.8/site-packages/sklearn/neural_network/_multilayer_perceptron.py:587: UserWarning: Training interrupted by user.\n",
      "  warnings.warn(\"Training interrupted by user.\")\n",
      "R cuadrado:  0.9635480726793244   Solver:  adam   Layers:  100   Alphas:  [1e-06, 0.0001, 0.01, 0.1]\n",
      "R cuadrado:  0.9624538824564632   Solver:  lbfgs   Layers:  5   Alphas:  [1e-06, 0.0001, 0.01, 0.1]\n",
      "R cuadrado:  0.9638051307947854   Solver:  adam   Layers:  5   Alphas:  [1e-06, 0.0001, 0.01, 0.1]\n",
      "R cuadrado:  0.9636825766782087   Solver:  lbfgs   Layers:  10   Alphas:  [1e-06, 0.0001, 0.01, 0.1]\n",
      "R cuadrado:  0.9649982611300079   Solver:  adam   Layers:  10   Alphas:  [1e-06, 0.0001, 0.01, 0.1]\n"
     ]
    }
   ],
   "source": [
    "# seleccion automatica si no tienes paquetes dedicados a ello\n",
    "for alpha in alphas:\n",
    "    for layer in layers:\n",
    "        for solver in solvers:\n",
    "            clf = MLPRegressor(solver=solver, alpha=alpha, hidden_layer_sizes=(layer,), warm_start= True, max_iter=10000)\n",
    "            model = clf.fit(X_train, y_train)\n",
    "            predictions = model.predict(X_test)\n",
    "            print(\"R cuadrado: \", r2_score(y_test, predictions), \"  Solver: \", solver, \"  Layers: \", layer, \"  Alphas: \", alphas)\n",
    "\n",
    "# funciones groupby\n",
    "\n"
   ]
  },
  {
   "cell_type": "code",
   "execution_count": null,
   "metadata": {},
   "outputs": [],
   "source": []
  }
 ]
}