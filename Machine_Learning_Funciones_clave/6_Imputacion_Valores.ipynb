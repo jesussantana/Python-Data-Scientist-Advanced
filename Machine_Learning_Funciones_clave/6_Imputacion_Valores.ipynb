{
 "metadata": {
  "language_info": {
   "codemirror_mode": {
    "name": "ipython",
    "version": 3
   },
   "file_extension": ".py",
   "mimetype": "text/x-python",
   "name": "python",
   "nbconvert_exporter": "python",
   "pygments_lexer": "ipython3",
   "version": "3.8.5-final"
  },
  "orig_nbformat": 2,
  "kernelspec": {
   "name": "python3",
   "display_name": "Python 3",
   "language": "python"
  }
 },
 "nbformat": 4,
 "nbformat_minor": 2,
 "cells": [
  {
   "cell_type": "code",
   "execution_count": 1,
   "metadata": {},
   "outputs": [],
   "source": [
    "from sklearn.impute import SimpleImputer\n",
    "from sklearn import linear_model\n",
    "\n",
    "import pandas as pd\n",
    "import numpy as np\n",
    "import time"
   ]
  },
  {
   "cell_type": "code",
   "execution_count": 2,
   "metadata": {},
   "outputs": [],
   "source": [
    "data = pd.read_csv(\"../../Tascas/Data/DelayedFlights.csv\")"
   ]
  },
  {
   "cell_type": "code",
   "execution_count": 3,
   "metadata": {},
   "outputs": [],
   "source": [
    "#df = data.dropna(subset = [\"ArrTime\",\"Distance\",\"TaxiIn\",\"TaxiOut\",\"DepDelay\",\"ArrDelay\"])\n",
    "df = data.sample(frac=1).head(10000)\n",
    "\n",
    "X = df[[\"ArrTime\",\"Distance\",\"TaxiIn\",\"TaxiOut\",\"DayOfWeek\",\"DepDelay\",\"ArrDelay\",\"CarrierDelay\"]]"
   ]
  },
  {
   "cell_type": "code",
   "execution_count": 4,
   "metadata": {},
   "outputs": [
    {
     "output_type": "execute_result",
     "data": {
      "text/plain": [
       "         ArrTime  Distance  TaxiIn  TaxiOut  DayOfWeek  DepDelay  ArrDelay  \\\n",
       "104498    1222.0       214     7.0     16.0          6       6.0       4.0   \n",
       "678855    2012.0       185     4.0     50.0          5      12.0      47.0   \n",
       "886148    1157.0       507     6.0     15.0          4      16.0       7.0   \n",
       "1098556   2352.0       546     2.0     10.0          5      87.0      77.0   \n",
       "634441    1716.0       733     4.0     19.0          3      15.0      -3.0   \n",
       "...          ...       ...     ...      ...        ...       ...       ...   \n",
       "1868244   1049.0       134    13.0      8.0          5      18.0      19.0   \n",
       "1176974   2002.0      4502     9.0     24.0          3      15.0      10.0   \n",
       "572489    2316.0       689    99.0     12.0          6     153.0     231.0   \n",
       "393415    2229.0       304     4.0      6.0          2      79.0      74.0   \n",
       "135097    1107.0       349     2.0     23.0          2      19.0      16.0   \n",
       "\n",
       "         CarrierDelay  \n",
       "104498            NaN  \n",
       "678855            0.0  \n",
       "886148            NaN  \n",
       "1098556           0.0  \n",
       "634441            NaN  \n",
       "...               ...  \n",
       "1868244           0.0  \n",
       "1176974           NaN  \n",
       "572489            0.0  \n",
       "393415            0.0  \n",
       "135097           16.0  \n",
       "\n",
       "[10000 rows x 8 columns]"
      ],
      "text/html": "<div>\n<style scoped>\n    .dataframe tbody tr th:only-of-type {\n        vertical-align: middle;\n    }\n\n    .dataframe tbody tr th {\n        vertical-align: top;\n    }\n\n    .dataframe thead th {\n        text-align: right;\n    }\n</style>\n<table border=\"1\" class=\"dataframe\">\n  <thead>\n    <tr style=\"text-align: right;\">\n      <th></th>\n      <th>ArrTime</th>\n      <th>Distance</th>\n      <th>TaxiIn</th>\n      <th>TaxiOut</th>\n      <th>DayOfWeek</th>\n      <th>DepDelay</th>\n      <th>ArrDelay</th>\n      <th>CarrierDelay</th>\n    </tr>\n  </thead>\n  <tbody>\n    <tr>\n      <th>104498</th>\n      <td>1222.0</td>\n      <td>214</td>\n      <td>7.0</td>\n      <td>16.0</td>\n      <td>6</td>\n      <td>6.0</td>\n      <td>4.0</td>\n      <td>NaN</td>\n    </tr>\n    <tr>\n      <th>678855</th>\n      <td>2012.0</td>\n      <td>185</td>\n      <td>4.0</td>\n      <td>50.0</td>\n      <td>5</td>\n      <td>12.0</td>\n      <td>47.0</td>\n      <td>0.0</td>\n    </tr>\n    <tr>\n      <th>886148</th>\n      <td>1157.0</td>\n      <td>507</td>\n      <td>6.0</td>\n      <td>15.0</td>\n      <td>4</td>\n      <td>16.0</td>\n      <td>7.0</td>\n      <td>NaN</td>\n    </tr>\n    <tr>\n      <th>1098556</th>\n      <td>2352.0</td>\n      <td>546</td>\n      <td>2.0</td>\n      <td>10.0</td>\n      <td>5</td>\n      <td>87.0</td>\n      <td>77.0</td>\n      <td>0.0</td>\n    </tr>\n    <tr>\n      <th>634441</th>\n      <td>1716.0</td>\n      <td>733</td>\n      <td>4.0</td>\n      <td>19.0</td>\n      <td>3</td>\n      <td>15.0</td>\n      <td>-3.0</td>\n      <td>NaN</td>\n    </tr>\n    <tr>\n      <th>...</th>\n      <td>...</td>\n      <td>...</td>\n      <td>...</td>\n      <td>...</td>\n      <td>...</td>\n      <td>...</td>\n      <td>...</td>\n      <td>...</td>\n    </tr>\n    <tr>\n      <th>1868244</th>\n      <td>1049.0</td>\n      <td>134</td>\n      <td>13.0</td>\n      <td>8.0</td>\n      <td>5</td>\n      <td>18.0</td>\n      <td>19.0</td>\n      <td>0.0</td>\n    </tr>\n    <tr>\n      <th>1176974</th>\n      <td>2002.0</td>\n      <td>4502</td>\n      <td>9.0</td>\n      <td>24.0</td>\n      <td>3</td>\n      <td>15.0</td>\n      <td>10.0</td>\n      <td>NaN</td>\n    </tr>\n    <tr>\n      <th>572489</th>\n      <td>2316.0</td>\n      <td>689</td>\n      <td>99.0</td>\n      <td>12.0</td>\n      <td>6</td>\n      <td>153.0</td>\n      <td>231.0</td>\n      <td>0.0</td>\n    </tr>\n    <tr>\n      <th>393415</th>\n      <td>2229.0</td>\n      <td>304</td>\n      <td>4.0</td>\n      <td>6.0</td>\n      <td>2</td>\n      <td>79.0</td>\n      <td>74.0</td>\n      <td>0.0</td>\n    </tr>\n    <tr>\n      <th>135097</th>\n      <td>1107.0</td>\n      <td>349</td>\n      <td>2.0</td>\n      <td>23.0</td>\n      <td>2</td>\n      <td>19.0</td>\n      <td>16.0</td>\n      <td>16.0</td>\n    </tr>\n  </tbody>\n</table>\n<p>10000 rows × 8 columns</p>\n</div>"
     },
     "metadata": {},
     "execution_count": 4
    }
   ],
   "source": [
    "X  # cuando hay muchos faltantes en alguna columna podemos imputar un valor"
   ]
  },
  {
   "cell_type": "code",
   "execution_count": 5,
   "metadata": {},
   "outputs": [
    {
     "output_type": "execute_result",
     "data": {
      "text/plain": [
       "SimpleImputer()"
      ]
     },
     "metadata": {},
     "execution_count": 5
    }
   ],
   "source": [
    "# media  no recomendable!!!\n",
    "imp = SimpleImputer(missing_values= np.nan, strategy=\"mean\")\n",
    "imp.fit(X)"
   ]
  },
  {
   "cell_type": "code",
   "execution_count": 6,
   "metadata": {},
   "outputs": [],
   "source": [
    "X2 = imp.fit_transform(X)"
   ]
  },
  {
   "cell_type": "code",
   "execution_count": 7,
   "metadata": {},
   "outputs": [
    {
     "output_type": "execute_result",
     "data": {
      "text/plain": [
       "           0       1     2     3    4      5      6          7\n",
       "0     1222.0   214.0   7.0  16.0  6.0    6.0    4.0  18.876073\n",
       "1     2012.0   185.0   4.0  50.0  5.0   12.0   47.0   0.000000\n",
       "2     1157.0   507.0   6.0  15.0  4.0   16.0    7.0  18.876073\n",
       "3     2352.0   546.0   2.0  10.0  5.0   87.0   77.0   0.000000\n",
       "4     1716.0   733.0   4.0  19.0  3.0   15.0   -3.0  18.876073\n",
       "...      ...     ...   ...   ...  ...    ...    ...        ...\n",
       "9995  1049.0   134.0  13.0   8.0  5.0   18.0   19.0   0.000000\n",
       "9996  2002.0  4502.0   9.0  24.0  3.0   15.0   10.0  18.876073\n",
       "9997  2316.0   689.0  99.0  12.0  6.0  153.0  231.0   0.000000\n",
       "9998  2229.0   304.0   4.0   6.0  2.0   79.0   74.0   0.000000\n",
       "9999  1107.0   349.0   2.0  23.0  2.0   19.0   16.0  16.000000\n",
       "\n",
       "[10000 rows x 8 columns]"
      ],
      "text/html": "<div>\n<style scoped>\n    .dataframe tbody tr th:only-of-type {\n        vertical-align: middle;\n    }\n\n    .dataframe tbody tr th {\n        vertical-align: top;\n    }\n\n    .dataframe thead th {\n        text-align: right;\n    }\n</style>\n<table border=\"1\" class=\"dataframe\">\n  <thead>\n    <tr style=\"text-align: right;\">\n      <th></th>\n      <th>0</th>\n      <th>1</th>\n      <th>2</th>\n      <th>3</th>\n      <th>4</th>\n      <th>5</th>\n      <th>6</th>\n      <th>7</th>\n    </tr>\n  </thead>\n  <tbody>\n    <tr>\n      <th>0</th>\n      <td>1222.0</td>\n      <td>214.0</td>\n      <td>7.0</td>\n      <td>16.0</td>\n      <td>6.0</td>\n      <td>6.0</td>\n      <td>4.0</td>\n      <td>18.876073</td>\n    </tr>\n    <tr>\n      <th>1</th>\n      <td>2012.0</td>\n      <td>185.0</td>\n      <td>4.0</td>\n      <td>50.0</td>\n      <td>5.0</td>\n      <td>12.0</td>\n      <td>47.0</td>\n      <td>0.000000</td>\n    </tr>\n    <tr>\n      <th>2</th>\n      <td>1157.0</td>\n      <td>507.0</td>\n      <td>6.0</td>\n      <td>15.0</td>\n      <td>4.0</td>\n      <td>16.0</td>\n      <td>7.0</td>\n      <td>18.876073</td>\n    </tr>\n    <tr>\n      <th>3</th>\n      <td>2352.0</td>\n      <td>546.0</td>\n      <td>2.0</td>\n      <td>10.0</td>\n      <td>5.0</td>\n      <td>87.0</td>\n      <td>77.0</td>\n      <td>0.000000</td>\n    </tr>\n    <tr>\n      <th>4</th>\n      <td>1716.0</td>\n      <td>733.0</td>\n      <td>4.0</td>\n      <td>19.0</td>\n      <td>3.0</td>\n      <td>15.0</td>\n      <td>-3.0</td>\n      <td>18.876073</td>\n    </tr>\n    <tr>\n      <th>...</th>\n      <td>...</td>\n      <td>...</td>\n      <td>...</td>\n      <td>...</td>\n      <td>...</td>\n      <td>...</td>\n      <td>...</td>\n      <td>...</td>\n    </tr>\n    <tr>\n      <th>9995</th>\n      <td>1049.0</td>\n      <td>134.0</td>\n      <td>13.0</td>\n      <td>8.0</td>\n      <td>5.0</td>\n      <td>18.0</td>\n      <td>19.0</td>\n      <td>0.000000</td>\n    </tr>\n    <tr>\n      <th>9996</th>\n      <td>2002.0</td>\n      <td>4502.0</td>\n      <td>9.0</td>\n      <td>24.0</td>\n      <td>3.0</td>\n      <td>15.0</td>\n      <td>10.0</td>\n      <td>18.876073</td>\n    </tr>\n    <tr>\n      <th>9997</th>\n      <td>2316.0</td>\n      <td>689.0</td>\n      <td>99.0</td>\n      <td>12.0</td>\n      <td>6.0</td>\n      <td>153.0</td>\n      <td>231.0</td>\n      <td>0.000000</td>\n    </tr>\n    <tr>\n      <th>9998</th>\n      <td>2229.0</td>\n      <td>304.0</td>\n      <td>4.0</td>\n      <td>6.0</td>\n      <td>2.0</td>\n      <td>79.0</td>\n      <td>74.0</td>\n      <td>0.000000</td>\n    </tr>\n    <tr>\n      <th>9999</th>\n      <td>1107.0</td>\n      <td>349.0</td>\n      <td>2.0</td>\n      <td>23.0</td>\n      <td>2.0</td>\n      <td>19.0</td>\n      <td>16.0</td>\n      <td>16.000000</td>\n    </tr>\n  </tbody>\n</table>\n<p>10000 rows × 8 columns</p>\n</div>"
     },
     "metadata": {},
     "execution_count": 7
    }
   ],
   "source": [
    "pd.DataFrame(X2)"
   ]
  },
  {
   "cell_type": "code",
   "execution_count": 8,
   "metadata": {},
   "outputs": [
    {
     "output_type": "execute_result",
     "data": {
      "text/plain": [
       "               ArrTime  Distance    TaxiIn   TaxiOut  DayOfWeek  DepDelay  \\\n",
       "ArrTime       1.000000 -0.033990  0.043318  0.021362   0.017482 -0.038082   \n",
       "Distance     -0.033990  1.000000  0.093573  0.057567  -0.003339 -0.010863   \n",
       "TaxiIn        0.043318  0.093573  1.000000  0.066510   0.004676  0.079307   \n",
       "TaxiOut       0.021362  0.057567  0.066510  1.000000  -0.005390  0.100497   \n",
       "DayOfWeek     0.017482 -0.003339  0.004676 -0.005390   1.000000  0.019539   \n",
       "DepDelay     -0.038082 -0.010863  0.079307  0.100497   0.019539  1.000000   \n",
       "ArrDelay     -0.032536 -0.034358  0.175530  0.305556   0.017945  0.951944   \n",
       "CarrierDelay -0.078529  0.017311 -0.026523 -0.023098  -0.002227  0.523320   \n",
       "\n",
       "              ArrDelay  CarrierDelay  \n",
       "ArrTime      -0.032536     -0.078529  \n",
       "Distance     -0.034358      0.017311  \n",
       "TaxiIn        0.175530     -0.026523  \n",
       "TaxiOut       0.305556     -0.023098  \n",
       "DayOfWeek     0.017945     -0.002227  \n",
       "DepDelay      0.951944      0.523320  \n",
       "ArrDelay      1.000000      0.493147  \n",
       "CarrierDelay  0.493147      1.000000  "
      ],
      "text/html": "<div>\n<style scoped>\n    .dataframe tbody tr th:only-of-type {\n        vertical-align: middle;\n    }\n\n    .dataframe tbody tr th {\n        vertical-align: top;\n    }\n\n    .dataframe thead th {\n        text-align: right;\n    }\n</style>\n<table border=\"1\" class=\"dataframe\">\n  <thead>\n    <tr style=\"text-align: right;\">\n      <th></th>\n      <th>ArrTime</th>\n      <th>Distance</th>\n      <th>TaxiIn</th>\n      <th>TaxiOut</th>\n      <th>DayOfWeek</th>\n      <th>DepDelay</th>\n      <th>ArrDelay</th>\n      <th>CarrierDelay</th>\n    </tr>\n  </thead>\n  <tbody>\n    <tr>\n      <th>ArrTime</th>\n      <td>1.000000</td>\n      <td>-0.033990</td>\n      <td>0.043318</td>\n      <td>0.021362</td>\n      <td>0.017482</td>\n      <td>-0.038082</td>\n      <td>-0.032536</td>\n      <td>-0.078529</td>\n    </tr>\n    <tr>\n      <th>Distance</th>\n      <td>-0.033990</td>\n      <td>1.000000</td>\n      <td>0.093573</td>\n      <td>0.057567</td>\n      <td>-0.003339</td>\n      <td>-0.010863</td>\n      <td>-0.034358</td>\n      <td>0.017311</td>\n    </tr>\n    <tr>\n      <th>TaxiIn</th>\n      <td>0.043318</td>\n      <td>0.093573</td>\n      <td>1.000000</td>\n      <td>0.066510</td>\n      <td>0.004676</td>\n      <td>0.079307</td>\n      <td>0.175530</td>\n      <td>-0.026523</td>\n    </tr>\n    <tr>\n      <th>TaxiOut</th>\n      <td>0.021362</td>\n      <td>0.057567</td>\n      <td>0.066510</td>\n      <td>1.000000</td>\n      <td>-0.005390</td>\n      <td>0.100497</td>\n      <td>0.305556</td>\n      <td>-0.023098</td>\n    </tr>\n    <tr>\n      <th>DayOfWeek</th>\n      <td>0.017482</td>\n      <td>-0.003339</td>\n      <td>0.004676</td>\n      <td>-0.005390</td>\n      <td>1.000000</td>\n      <td>0.019539</td>\n      <td>0.017945</td>\n      <td>-0.002227</td>\n    </tr>\n    <tr>\n      <th>DepDelay</th>\n      <td>-0.038082</td>\n      <td>-0.010863</td>\n      <td>0.079307</td>\n      <td>0.100497</td>\n      <td>0.019539</td>\n      <td>1.000000</td>\n      <td>0.951944</td>\n      <td>0.523320</td>\n    </tr>\n    <tr>\n      <th>ArrDelay</th>\n      <td>-0.032536</td>\n      <td>-0.034358</td>\n      <td>0.175530</td>\n      <td>0.305556</td>\n      <td>0.017945</td>\n      <td>0.951944</td>\n      <td>1.000000</td>\n      <td>0.493147</td>\n    </tr>\n    <tr>\n      <th>CarrierDelay</th>\n      <td>-0.078529</td>\n      <td>0.017311</td>\n      <td>-0.026523</td>\n      <td>-0.023098</td>\n      <td>-0.002227</td>\n      <td>0.523320</td>\n      <td>0.493147</td>\n      <td>1.000000</td>\n    </tr>\n  </tbody>\n</table>\n</div>"
     },
     "metadata": {},
     "execution_count": 8
    }
   ],
   "source": [
    "X.corr()  # que filas tienen una correlacion mas fuerte"
   ]
  },
  {
   "cell_type": "code",
   "execution_count": 9,
   "metadata": {},
   "outputs": [
    {
     "output_type": "execute_result",
     "data": {
      "text/plain": [
       "LinearRegression()"
      ]
     },
     "metadata": {},
     "execution_count": 9
    }
   ],
   "source": [
    "# ajustar modelo   CarrierDelay en funcion DepDelay, ArrDelay\n",
    "X = X.dropna(subset=[\"DepDelay\",\"ArrDelay\"])\n",
    "newX = X[[\"DepDelay\",\"ArrDelay\",\"CarrierDelay\"]]\n",
    "new_train = newX[np.isnan(X.CarrierDelay)==False]\n",
    "\n",
    "regr = linear_model.LinearRegression()\n",
    "regr.fit(new_train[[\"DepDelay\",\"ArrDelay\"]], new_train[\"CarrierDelay\"])"
   ]
  },
  {
   "cell_type": "code",
   "execution_count": 10,
   "metadata": {},
   "outputs": [
    {
     "output_type": "execute_result",
     "data": {
      "text/plain": [
       "array([ 0.40513459, -0.02371918])"
      ]
     },
     "metadata": {},
     "execution_count": 10
    }
   ],
   "source": [
    "regr.coef_"
   ]
  },
  {
   "cell_type": "code",
   "execution_count": 11,
   "metadata": {},
   "outputs": [],
   "source": [
    "# valores que faltan\n",
    "valores_imputacion = newX[np.isnan(X.CarrierDelay)]\n",
    "valores_imputacion = valores_imputacion[[\"DepDelay\", \"ArrDelay\"]]"
   ]
  },
  {
   "cell_type": "code",
   "execution_count": 12,
   "metadata": {},
   "outputs": [],
   "source": [
    "nuevos_valores = regr.predict(valores_imputacion)"
   ]
  },
  {
   "cell_type": "code",
   "execution_count": 13,
   "metadata": {},
   "outputs": [
    {
     "output_type": "stream",
     "name": "stderr",
     "text": [
      "/home/jesus/anaconda3/lib/python3.8/site-packages/pandas/core/indexing.py:1745: SettingWithCopyWarning: \nA value is trying to be set on a copy of a slice from a DataFrame.\nTry using .loc[row_indexer,col_indexer] = value instead\n\nSee the caveats in the documentation: https://pandas.pydata.org/pandas-docs/stable/user_guide/indexing.html#returning-a-view-versus-a-copy\n  isetter(ilocs[0], value)\n"
     ]
    }
   ],
   "source": [
    "X.loc[np.isnan(X.CarrierDelay), \"CarrierDelay\"] = nuevos_valores  # los sustituimos"
   ]
  },
  {
   "cell_type": "code",
   "execution_count": 14,
   "metadata": {},
   "outputs": [
    {
     "output_type": "execute_result",
     "data": {
      "text/plain": [
       "         ArrTime  Distance  TaxiIn  TaxiOut  DayOfWeek  DepDelay  ArrDelay  \\\n",
       "104498    1222.0       214     7.0     16.0          6       6.0       4.0   \n",
       "678855    2012.0       185     4.0     50.0          5      12.0      47.0   \n",
       "886148    1157.0       507     6.0     15.0          4      16.0       7.0   \n",
       "1098556   2352.0       546     2.0     10.0          5      87.0      77.0   \n",
       "634441    1716.0       733     4.0     19.0          3      15.0      -3.0   \n",
       "...          ...       ...     ...      ...        ...       ...       ...   \n",
       "1868244   1049.0       134    13.0      8.0          5      18.0      19.0   \n",
       "1176974   2002.0      4502     9.0     24.0          3      15.0      10.0   \n",
       "572489    2316.0       689    99.0     12.0          6     153.0     231.0   \n",
       "393415    2229.0       304     4.0      6.0          2      79.0      74.0   \n",
       "135097    1107.0       349     2.0     23.0          2      19.0      16.0   \n",
       "\n",
       "         CarrierDelay  \n",
       "104498      -1.533821  \n",
       "678855       0.000000  \n",
       "886148       2.446368  \n",
       "1098556      0.000000  \n",
       "634441       2.278425  \n",
       "...               ...  \n",
       "1868244      0.000000  \n",
       "1176974      1.970076  \n",
       "572489       0.000000  \n",
       "393415       0.000000  \n",
       "135097      16.000000  \n",
       "\n",
       "[9954 rows x 8 columns]"
      ],
      "text/html": "<div>\n<style scoped>\n    .dataframe tbody tr th:only-of-type {\n        vertical-align: middle;\n    }\n\n    .dataframe tbody tr th {\n        vertical-align: top;\n    }\n\n    .dataframe thead th {\n        text-align: right;\n    }\n</style>\n<table border=\"1\" class=\"dataframe\">\n  <thead>\n    <tr style=\"text-align: right;\">\n      <th></th>\n      <th>ArrTime</th>\n      <th>Distance</th>\n      <th>TaxiIn</th>\n      <th>TaxiOut</th>\n      <th>DayOfWeek</th>\n      <th>DepDelay</th>\n      <th>ArrDelay</th>\n      <th>CarrierDelay</th>\n    </tr>\n  </thead>\n  <tbody>\n    <tr>\n      <th>104498</th>\n      <td>1222.0</td>\n      <td>214</td>\n      <td>7.0</td>\n      <td>16.0</td>\n      <td>6</td>\n      <td>6.0</td>\n      <td>4.0</td>\n      <td>-1.533821</td>\n    </tr>\n    <tr>\n      <th>678855</th>\n      <td>2012.0</td>\n      <td>185</td>\n      <td>4.0</td>\n      <td>50.0</td>\n      <td>5</td>\n      <td>12.0</td>\n      <td>47.0</td>\n      <td>0.000000</td>\n    </tr>\n    <tr>\n      <th>886148</th>\n      <td>1157.0</td>\n      <td>507</td>\n      <td>6.0</td>\n      <td>15.0</td>\n      <td>4</td>\n      <td>16.0</td>\n      <td>7.0</td>\n      <td>2.446368</td>\n    </tr>\n    <tr>\n      <th>1098556</th>\n      <td>2352.0</td>\n      <td>546</td>\n      <td>2.0</td>\n      <td>10.0</td>\n      <td>5</td>\n      <td>87.0</td>\n      <td>77.0</td>\n      <td>0.000000</td>\n    </tr>\n    <tr>\n      <th>634441</th>\n      <td>1716.0</td>\n      <td>733</td>\n      <td>4.0</td>\n      <td>19.0</td>\n      <td>3</td>\n      <td>15.0</td>\n      <td>-3.0</td>\n      <td>2.278425</td>\n    </tr>\n    <tr>\n      <th>...</th>\n      <td>...</td>\n      <td>...</td>\n      <td>...</td>\n      <td>...</td>\n      <td>...</td>\n      <td>...</td>\n      <td>...</td>\n      <td>...</td>\n    </tr>\n    <tr>\n      <th>1868244</th>\n      <td>1049.0</td>\n      <td>134</td>\n      <td>13.0</td>\n      <td>8.0</td>\n      <td>5</td>\n      <td>18.0</td>\n      <td>19.0</td>\n      <td>0.000000</td>\n    </tr>\n    <tr>\n      <th>1176974</th>\n      <td>2002.0</td>\n      <td>4502</td>\n      <td>9.0</td>\n      <td>24.0</td>\n      <td>3</td>\n      <td>15.0</td>\n      <td>10.0</td>\n      <td>1.970076</td>\n    </tr>\n    <tr>\n      <th>572489</th>\n      <td>2316.0</td>\n      <td>689</td>\n      <td>99.0</td>\n      <td>12.0</td>\n      <td>6</td>\n      <td>153.0</td>\n      <td>231.0</td>\n      <td>0.000000</td>\n    </tr>\n    <tr>\n      <th>393415</th>\n      <td>2229.0</td>\n      <td>304</td>\n      <td>4.0</td>\n      <td>6.0</td>\n      <td>2</td>\n      <td>79.0</td>\n      <td>74.0</td>\n      <td>0.000000</td>\n    </tr>\n    <tr>\n      <th>135097</th>\n      <td>1107.0</td>\n      <td>349</td>\n      <td>2.0</td>\n      <td>23.0</td>\n      <td>2</td>\n      <td>19.0</td>\n      <td>16.0</td>\n      <td>16.000000</td>\n    </tr>\n  </tbody>\n</table>\n<p>9954 rows × 8 columns</p>\n</div>"
     },
     "metadata": {},
     "execution_count": 14
    }
   ],
   "source": [
    "X  # aprovecha mejor la informacion de una manera mas sensata"
   ]
  },
  {
   "cell_type": "code",
   "execution_count": null,
   "metadata": {},
   "outputs": [],
   "source": []
  }
 ]
}