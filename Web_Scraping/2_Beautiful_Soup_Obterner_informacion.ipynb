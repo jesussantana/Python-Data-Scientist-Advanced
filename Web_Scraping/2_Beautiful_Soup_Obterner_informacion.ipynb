{
 "metadata": {
  "language_info": {
   "codemirror_mode": {
    "name": "ipython",
    "version": 3
   },
   "file_extension": ".py",
   "mimetype": "text/x-python",
   "name": "python",
   "nbconvert_exporter": "python",
   "pygments_lexer": "ipython3",
   "version": "3.8.2-final"
  },
  "orig_nbformat": 2,
  "kernelspec": {
   "name": "python3",
   "display_name": "Python 3",
   "language": "python"
  }
 },
 "nbformat": 4,
 "nbformat_minor": 2,
 "cells": [
  {
   "cell_type": "code",
   "execution_count": 1,
   "metadata": {
    "tags": [
     "outputPrepend"
    ]
   },
   "outputs": [
    {
     "output_type": "stream",
     "name": "stdout",
     "text": [
      "lass=\"interlanguage-link interwiki-mk\">\n        <a class=\"interlanguage-link-target\" href=\"https://mk.wikipedia.org/wiki/%D0%9F%D0%B0%D1%98%D1%82%D0%BE%D0%BD_(%D0%BF%D1%80%D0%BE%D0%B3%D1%80%D0%B0%D0%BC%D1%81%D0%BA%D0%B8_%D1%98%D0%B0%D0%B7%D0%B8%D0%BA)\" hreflang=\"mk\" lang=\"mk\" title=\"Пајтон (програмски јазик) (macedonio)\">\n         Македонски\n        </a>\n       </li>\n       <li class=\"interlanguage-link interwiki-ml\">\n        <a class=\"interlanguage-link-target\" href=\"https://ml.wikipedia.org/wiki/%E0%B4%AA%E0%B5%88%E0%B4%A4%E0%B5%8D%E0%B4%A4%E0%B5%BA_(%E0%B4%AA%E0%B5%8D%E0%B4%B0%E0%B5%8B%E0%B4%97%E0%B5%8D%E0%B4%B0%E0%B4%BE%E0%B4%AE%E0%B4%BF%E0%B4%99%E0%B5%8D%E0%B4%99%E0%B5%8D_%E0%B4%AD%E0%B4%BE%E0%B4%B7)\" hreflang=\"ml\" lang=\"ml\" title=\"പൈത്തൺ (പ്രോഗ്രാമിങ്ങ് ഭാഷ) (malayalam)\">\n         മലയാളം\n        </a>\n       </li>\n       <li class=\"interlanguage-link interwiki-mn\">\n        <a class=\"interlanguage-link-target\" href=\"https://mn.wikipedia.org/wiki/Python\" hreflang=\"mn\" lang=\"mn\" title=\"Python (mongol)\">\n         Монгол\n        </a>\n       </li>\n       <li class=\"interlanguage-link interwiki-mr\">\n        <a class=\"interlanguage-link-target\" href=\"https://mr.wikipedia.org/wiki/%E0%A4%AA%E0%A4%BE%E0%A4%AF%E0%A4%A5%E0%A5%89%E0%A4%A8\" hreflang=\"mr\" lang=\"mr\" title=\"पायथॉन (maratí)\">\n         मराठी\n        </a>\n       </li>\n       <li class=\"interlanguage-link interwiki-ms\">\n        <a class=\"interlanguage-link-target\" href=\"https://ms.wikipedia.org/wiki/Python\" hreflang=\"ms\" lang=\"ms\" title=\"Python (malayo)\">\n         Bahasa Melayu\n        </a>\n       </li>\n       <li class=\"interlanguage-link interwiki-my\">\n        <a class=\"interlanguage-link-target\" href=\"https://my.wikipedia.org/wiki/Python_(programming_language)\" hreflang=\"my\" lang=\"my\" title=\"Python (programming language) (birmano)\">\n         မြန်မာဘာသာ\n        </a>\n       </li>\n       <li class=\"interlanguage-link interwiki-nds\">\n        <a class=\"interlanguage-link-target\" href=\"https://nds.wikipedia.org/wiki/Python_(Programmeerspraak)\" hreflang=\"nds\" lang=\"nds\" title=\"Python (Programmeerspraak) (bajo alemán)\">\n         Plattdüütsch\n        </a>\n       </li>\n       <li class=\"interlanguage-link interwiki-nl\">\n        <a class=\"interlanguage-link-target\" href=\"https://nl.wikipedia.org/wiki/Python_(programmeertaal)\" hreflang=\"nl\" lang=\"nl\" title=\"Python (programmeertaal) (neerlandés)\">\n         Nederlands\n        </a>\n       </li>\n       <li class=\"interlanguage-link interwiki-nn\">\n        <a class=\"interlanguage-link-target\" href=\"https://nn.wikipedia.org/wiki/Python\" hreflang=\"nn\" lang=\"nn\" title=\"Python (noruego nynorsk)\">\n         Norsk nynorsk\n        </a>\n       </li>\n       <li class=\"interlanguage-link interwiki-no\">\n        <a class=\"interlanguage-link-target\" href=\"https://no.wikipedia.org/wiki/Python\" hreflang=\"nb\" lang=\"nb\" title=\"Python (noruego bokmal)\">\n         Norsk bokmål\n        </a>\n       </li>\n       <li class=\"interlanguage-link interwiki-nqo\">\n        <a class=\"interlanguage-link-target\" href=\"https://nqo.wikipedia.org/wiki/%DF%93%DF%8A%DF%A6%DF%8C%DF%95%DF%90%DF%A3\" hreflang=\"nqo\" lang=\"nqo\" title=\"ߓߊߦߌߕߐߣ (n’ko)\">\n         ߒߞߏ\n        </a>\n       </li>\n       <li class=\"interlanguage-link interwiki-or\">\n        <a class=\"interlanguage-link-target\" href=\"https://or.wikipedia.org/wiki/%E0%AC%AA%E0%AC%BE%E0%AC%87%E0%AC%A5%E0%AC%A8%E0%AD%8D_(%E0%AC%AA%E0%AD%8D%E0%AC%B0%E0%AD%8B%E0%AC%97%E0%AD%8D%E0%AC%B0%E0%AC%BE%E0%AC%AE%E0%AC%BF%E0%AC%82_%E0%AC%AD%E0%AC%BE%E0%AC%B7%E0%AC%BE)\" hreflang=\"or\" lang=\"or\" title=\"ପାଇଥନ୍ (ପ୍ରୋଗ୍ରାମିଂ ଭାଷା) (oriya)\">\n         ଓଡ଼ିଆ\n        </a>\n       </li>\n       <li class=\"interlanguage-link interwiki-pa\">\n        <a class=\"interlanguage-link-target\" href=\"https://pa.wikipedia.org/wiki/%E0%A8%AA%E0%A8%BE%E0%A8%88%E0%A8%A5%E0%A8%A8_(%E0%A8%AA%E0%A9%8D%E0%A8%B0%E0%A9%8B%E0%A8%97%E0%A8%B0%E0%A8%BE%E0%A8%AE%E0%A8%BF%E0%A9%B0%E0%A8%97_%E0%A8%AD%E0%A8%BE%E0%A8%B8%E0%A8%BC%E0%A8%BE)\" hreflang=\"pa\" lang=\"pa\" title=\"ਪਾਈਥਨ (ਪ੍ਰੋਗਰਾਮਿੰਗ ਭਾਸ਼ਾ) (punyabí)\">\n         ਪੰਜਾਬੀ\n        </a>\n       </li>\n       <li class=\"interlanguage-link interwiki-pl\">\n        <a class=\"interlanguage-link-target\" href=\"https://pl.wikipedia.org/wiki/Python\" hreflang=\"pl\" lang=\"pl\" title=\"Python (polaco)\">\n         Polski\n        </a>\n       </li>\n       <li class=\"interlanguage-link interwiki-pnb\">\n        <a class=\"interlanguage-link-target\" href=\"https://pnb.wikipedia.org/wiki/%D9%BE%D8%A7%D8%A6%DB%8C%D8%AA%DA%BE%D9%86_(%DA%A9%D9%85%D9%BE%DB%8C%D9%88%D9%B9%D8%B1_%D8%A8%D9%88%D9%84%DB%8C)\" hreflang=\"pnb\" lang=\"pnb\" title=\"پائیتھن (کمپیوٹر بولی) (Western Punjabi)\">\n         پنجابی\n        </a>\n       </li>\n       <li class=\"interlanguage-link interwiki-pt\">\n        <a class=\"interlanguage-link-target\" href=\"https://pt.wikipedia.org/wiki/Python\" hreflang=\"pt\" lang=\"pt\" title=\"Python (portugués)\">\n         Português\n        </a>\n       </li>\n       <li class=\"interlanguage-link interwiki-ro\">\n        <a class=\"interlanguage-link-target\" href=\"https://ro.wikipedia.org/wiki/Python\" hreflang=\"ro\" lang=\"ro\" title=\"Python (rumano)\">\n         Română\n        </a>\n       </li>\n       <li class=\"interlanguage-link interwiki-ru\">\n        <a class=\"interlanguage-link-target\" href=\"https://ru.wikipedia.org/wiki/Python\" hreflang=\"ru\" lang=\"ru\" title=\"Python (ruso)\">\n         Русский\n        </a>\n       </li>\n       <li class=\"interlanguage-link interwiki-sah\">\n        <a class=\"interlanguage-link-target\" href=\"https://sah.wikipedia.org/wiki/Python\" hreflang=\"sah\" lang=\"sah\" title=\"Python (sakha)\">\n         Саха тыла\n        </a>\n       </li>\n       <li class=\"interlanguage-link interwiki-sat\">\n        <a class=\"interlanguage-link-target\" href=\"https://sat.wikipedia.org/wiki/%E1%B1%AF%E1%B1%9F%E1%B1%AD%E1%B1%9B%E1%B1%B7%E1%B1%9A%E1%B1%B1(%E1%B1%AF%E1%B1%A8%E1%B1%B3%E1%B1%9C%E1%B1%BD%E1%B1%A8%E1%B1%9F%E1%B1%A2%E1%B1%A4%E1%B1%9D_%E1%B1%AF%E1%B1%9F%E1%B1%B9%E1%B1%A8%E1%B1%A5%E1%B1%A4)\" hreflang=\"sat\" lang=\"sat\" title=\"ᱯᱟᱭᱛᱷᱚᱱ(ᱯᱨᱳᱜᱽᱨᱟᱢᱤᱝ ᱯᱟᱹᱨᱥᱤ) (santali)\">\n         ᱥᱟᱱᱛᱟᱲᱤ\n        </a>\n       </li>\n       <li class=\"interlanguage-link interwiki-sco\">\n        <a class=\"interlanguage-link-target\" href=\"https://sco.wikipedia.org/wiki/Python_(programmin_leid)\" hreflang=\"sco\" lang=\"sco\" title=\"Python (programmin leid) (escocés)\">\n         Scots\n        </a>\n       </li>\n       <li class=\"interlanguage-link interwiki-sh\">\n        <a class=\"interlanguage-link-target\" href=\"https://sh.wikipedia.org/wiki/Python_programski_jezik\" hreflang=\"sh\" lang=\"sh\" title=\"Python programski jezik (serbocroata)\">\n         Srpskohrvatski / српскохрватски\n        </a>\n       </li>\n       <li class=\"interlanguage-link interwiki-shn\">\n        <a class=\"interlanguage-link-target\" href=\"https://shn.wikipedia.org/wiki/Python_(programming_language)\" hreflang=\"shn\" lang=\"shn\" title=\"Python (programming language) (shan)\">\n         ၽႃႇသႃႇတႆး\n        </a>\n       </li>\n       <li class=\"interlanguage-link interwiki-si\">\n        <a class=\"interlanguage-link-target\" href=\"https://si.wikipedia.org/wiki/%E0%B6%B4%E0%B6%BA%E0%B7%92%E0%B6%AD%E0%B6%B1%E0%B7%8A\" hreflang=\"si\" lang=\"si\" title=\"පයිතන් (cingalés)\">\n         සිංහල\n        </a>\n       </li>\n       <li class=\"interlanguage-link interwiki-simple\">\n        <a class=\"interlanguage-link-target\" href=\"https://simple.wikipedia.org/wiki/Python_(programming_language)\" hreflang=\"en-simple\" lang=\"en-simple\" title=\"Python (programming language) (Simple English)\">\n         Simple English\n        </a>\n       </li>\n       <li class=\"interlanguage-link interwiki-sk\">\n        <a class=\"interlanguage-link-target\" href=\"https://sk.wikipedia.org/wiki/Python_(programovac%C3%AD_jazyk)\" hreflang=\"sk\" lang=\"sk\" title=\"Python (programovací jazyk) (eslovaco)\">\n         Slovenčina\n        </a>\n       </li>\n       <li class=\"interlanguage-link interwiki-sl\">\n        <a class=\"interlanguage-link-target\" href=\"https://sl.wikipedia.org/wiki/Python_(programski_jezik)\" hreflang=\"sl\" lang=\"sl\" title=\"Python (programski jezik) (esloveno)\">\n         Slovenščina\n        </a>\n       </li>\n       <li class=\"interlanguage-link interwiki-sq\">\n        <a class=\"interlanguage-link-target\" href=\"https://sq.wikipedia.org/wiki/Python\" hreflang=\"sq\" lang=\"sq\" title=\"Python (albanés)\">\n         Shqip\n        </a>\n       </li>\n       <li class=\"interlanguage-link interwiki-sr\">\n        <a class=\"interlanguage-link-target\" href=\"https://sr.wikipedia.org/wiki/Python_(%D0%BF%D1%80%D0%BE%D0%B3%D1%80%D0%B0%D0%BC%D1%81%D0%BA%D0%B8_%D1%98%D0%B5%D0%B7%D0%B8%D0%BA)\" hreflang=\"sr\" lang=\"sr\" title=\"Python (програмски језик) (serbio)\">\n         Српски / srpski\n        </a>\n       </li>\n       <li class=\"interlanguage-link interwiki-sv\">\n        <a class=\"interlanguage-link-target\" href=\"https://sv.wikipedia.org/wiki/Python_(programspr%C3%A5k)\" hreflang=\"sv\" lang=\"sv\" title=\"Python (programspråk) (sueco)\">\n         Svenska\n        </a>\n       </li>\n       <li class=\"interlanguage-link interwiki-sw\">\n        <a class=\"interlanguage-link-target\" href=\"https://sw.wikipedia.org/wiki/Python_(Lugha_ya_programu)\" hreflang=\"sw\" lang=\"sw\" title=\"Python (Lugha ya programu) (suajili)\">\n         Kiswahili\n        </a>\n       </li>\n       <li class=\"interlanguage-link interwiki-ta\">\n        <a class=\"interlanguage-link-target\" href=\"https://ta.wikipedia.org/wiki/%E0%AE%AA%E0%AF%88%E0%AE%A4%E0%AF%8D%E0%AE%A4%E0%AE%BE%E0%AE%A9%E0%AF%8D\" hreflang=\"ta\" lang=\"ta\" title=\"பைத்தான் (tamil)\">\n         தமிழ்\n        </a>\n       </li>\n       <li class=\"interlanguage-link interwiki-te\">\n        <a class=\"interlanguage-link-target\" href=\"https://te.wikipedia.org/wiki/%E0%B0%AA%E0%B1%88%E0%B0%A5%E0%B0%BE%E0%B0%A8%E0%B1%8D_(%E0%B0%95%E0%B0%82%E0%B0%AA%E0%B1%8D%E0%B0%AF%E0%B1%82%E0%B0%9F%E0%B0%B0%E0%B1%8D_%E0%B0%AD%E0%B0%BE%E0%B0%B7)\" hreflang=\"te\" lang=\"te\" title=\"పైథాన్ (కంప్యూటర్ భాష) (telugu)\">\n         తెలుగు\n        </a>\n       </li>\n       <li class=\"interlanguage-link interwiki-tg\">\n        <a class=\"interlanguage-link-target\" href=\"https://tg.wikipedia.org/wiki/Python\" hreflang=\"tg\" lang=\"tg\" title=\"Python (tayiko)\">\n         Тоҷикӣ\n        </a>\n       </li>\n       <li class=\"interlanguage-link interwiki-th\">\n        <a class=\"interlanguage-link-target\" href=\"https://th.wikipedia.org/wiki/%E0%B9%84%E0%B8%9E%E0%B8%97%E0%B8%AD%E0%B8%99_(%E0%B8%A0%E0%B8%B2%E0%B8%A9%E0%B8%B2%E0%B9%82%E0%B8%9B%E0%B8%A3%E0%B9%81%E0%B8%81%E0%B8%A3%E0%B8%A1)\" hreflang=\"th\" lang=\"th\" title=\"ไพทอน (ภาษาโปรแกรม) (tailandés)\">\n         ไทย\n        </a>\n       </li>\n       <li class=\"interlanguage-link interwiki-tl\">\n        <a class=\"interlanguage-link-target\" href=\"https://tl.wikipedia.org/wiki/Python_(wikang_pamprograma)\" hreflang=\"tl\" lang=\"tl\" title=\"Python (wikang pamprograma) (tagalo)\">\n         Tagalog\n        </a>\n       </li>\n       <li class=\"interlanguage-link interwiki-tr\">\n        <a class=\"interlanguage-link-target\" href=\"https://tr.wikipedia.org/wiki/Python_(programlama_dili)\" hreflang=\"tr\" lang=\"tr\" title=\"Python (programlama dili) (turco)\">\n         Türkçe\n        </a>\n       </li>\n       <li class=\"interlanguage-link interwiki-tt\">\n        <a class=\"interlanguage-link-target\" href=\"https://tt.wikipedia.org/wiki/Python\" hreflang=\"tt\" lang=\"tt\" title=\"Python (tártaro)\">\n         Татарча/tatarça\n        </a>\n       </li>\n       <li class=\"interlanguage-link interwiki-ug\">\n        <a class=\"interlanguage-link-target\" href=\"https://ug.wikipedia.org/wiki/%D9%BE%D8%A7%D9%8A%D8%B3%D9%88%D9%86\" hreflang=\"ug\" lang=\"ug\" title=\"پايسون (uigur)\">\n         ئۇيغۇرچە / Uyghurche\n        </a>\n       </li>\n       <li class=\"interlanguage-link interwiki-uk\">\n        <a class=\"interlanguage-link-target\" href=\"https://uk.wikipedia.org/wiki/Python\" hreflang=\"uk\" lang=\"uk\" title=\"Python (ucraniano)\">\n         Українська\n        </a>\n       </li>\n       <li class=\"interlanguage-link interwiki-ur\">\n        <a class=\"interlanguage-link-target\" href=\"https://ur.wikipedia.org/wiki/%D9%BE%D8%A7%D8%A6%DB%8C%D8%AA%DA%BE%D9%86_(%D9%BE%D8%B1%D9%88%DA%AF%D8%B1%D8%A7%D9%85%D9%86%DA%AF_%D8%B2%D8%A8%D8%A7%D9%86)\" hreflang=\"ur\" lang=\"ur\" title=\"پائیتھن (پروگرامنگ زبان) (urdu)\">\n         اردو\n        </a>\n       </li>\n       <li class=\"interlanguage-link interwiki-uz\">\n        <a class=\"interlanguage-link-target\" href=\"https://uz.wikipedia.org/wiki/Python\" hreflang=\"uz\" lang=\"uz\" title=\"Python (uzbeko)\">\n         Oʻzbekcha/ўзбекча\n        </a>\n       </li>\n       <li class=\"interlanguage-link interwiki-vi\">\n        <a class=\"interlanguage-link-target\" href=\"https://vi.wikipedia.org/wiki/Python_(ng%C3%B4n_ng%E1%BB%AF_l%E1%BA%ADp_tr%C3%ACnh)\" hreflang=\"vi\" lang=\"vi\" title=\"Python (ngôn ngữ lập trình) (vietnamita)\">\n         Tiếng Việt\n        </a>\n       </li>\n       <li class=\"interlanguage-link interwiki-wa\">\n        <a class=\"interlanguage-link-target\" href=\"https://wa.wikipedia.org/wiki/Python_(lingaedje_%C3%A9ndjolike)\" hreflang=\"wa\" lang=\"wa\" title=\"Python (lingaedje éndjolike) (valón)\">\n         Walon\n        </a>\n       </li>\n       <li class=\"interlanguage-link interwiki-war\">\n        <a class=\"interlanguage-link-target\" href=\"https://war.wikipedia.org/wiki/Python_(programming_language)\" hreflang=\"war\" lang=\"war\" title=\"Python (programming language) (waray)\">\n         Winaray\n        </a>\n       </li>\n       <li class=\"interlanguage-link interwiki-wuu\">\n        <a class=\"interlanguage-link-target\" href=\"https://wuu.wikipedia.org/wiki/Python\" hreflang=\"wuu\" lang=\"wuu\" title=\"Python (chino wu)\">\n         吴语\n        </a>\n       </li>\n       <li class=\"interlanguage-link interwiki-zh\">\n        <a class=\"interlanguage-link-target\" href=\"https://zh.wikipedia.org/wiki/Python\" hreflang=\"zh\" lang=\"zh\" title=\"Python (chino)\">\n         中文\n        </a>\n       </li>\n       <li class=\"interlanguage-link interwiki-zh-min-nan\">\n        <a class=\"interlanguage-link-target\" href=\"https://zh-min-nan.wikipedia.org/wiki/Python\" hreflang=\"nan\" lang=\"nan\" title=\"Python (Chinese (Min Nan))\">\n         Bân-lâm-gú\n        </a>\n       </li>\n       <li class=\"interlanguage-link interwiki-zh-yue\">\n        <a class=\"interlanguage-link-target\" href=\"https://zh-yue.wikipedia.org/wiki/Python\" hreflang=\"yue\" lang=\"yue\" title=\"Python (Cantonese)\">\n         粵語\n        </a>\n       </li>\n      </ul>\n      <div class=\"after-portlet after-portlet-lang\">\n       <span class=\"wb-langlinks-edit wb-langlinks-link\">\n        <a class=\"wbc-editpage\" href=\"https://www.wikidata.org/wiki/Special:EntityPage/Q28865#sitelinks-wikipedia\" title=\"Editar enlaces interlingüísticos\">\n         Editar enlaces\n        </a>\n       </span>\n      </div>\n     </div>\n    </nav>\n   </div>\n  </div>\n  <footer class=\"mw-footer\" id=\"footer\" role=\"contentinfo\">\n   <ul id=\"footer-info\">\n    <li id=\"footer-info-lastmod\">\n     Esta página se editó por última vez el 16 mar 2021 a las 17:42.\n    </li>\n    <li id=\"footer-info-copyright\">\n     El texto está disponible bajo la\n     <a href=\"//es.wikipedia.org/wiki/Wikipedia:Texto_de_la_Licencia_Creative_Commons_Atribuci%C3%B3n-CompartirIgual_3.0_Unported\" rel=\"license\">\n      Licencia Creative Commons Atribución Compartir Igual 3.0\n     </a>\n     <a href=\"http://creativecommons.org/licenses/by-sa/3.0/\" rel=\"license\" style=\"display:none;\">\n     </a>\n     ;\npueden aplicarse cláusulas adicionales. Al usar este sitio, usted acepta nuestros\n     <a href=\"//wikimediafoundation.org/wiki/Terms_of_Use\">\n      términos de uso\n     </a>\n     y nuestra\n     <a href=\"//wikimediafoundation.org/wiki/Privacy_policy\">\n      política de privacidad\n     </a>\n     .\n     <br/>\n     Wikipedia® es una marca registrada de la\n     <a href=\"//www.wikimediafoundation.org/\">\n      Fundación Wikimedia, Inc.\n     </a>\n     , una organización sin ánimo de lucro.\n    </li>\n   </ul>\n   <ul id=\"footer-places\">\n    <li id=\"footer-places-privacy\">\n     <a class=\"extiw\" href=\"https://meta.wikimedia.org/wiki/Privacy_policy/es\" title=\"m:Privacy policy/es\">\n      Política de privacidad\n     </a>\n    </li>\n    <li id=\"footer-places-about\">\n     <a href=\"/wiki/Wikipedia:Acerca_de\" title=\"Wikipedia:Acerca de\">\n      Acerca de Wikipedia\n     </a>\n    </li>\n    <li id=\"footer-places-disclaimer\">\n     <a href=\"/wiki/Wikipedia:Limitaci%C3%B3n_general_de_responsabilidad\" title=\"Wikipedia:Limitación general de responsabilidad\">\n      Limitación de responsabilidad\n     </a>\n    </li>\n    <li id=\"footer-places-mobileview\">\n     <a class=\"noprint stopMobileRedirectToggle\" href=\"//es.m.wikipedia.org/w/index.php?title=Python&amp;mobileaction=toggle_view_mobile\">\n      Versión para móviles\n     </a>\n    </li>\n    <li id=\"footer-places-developers\">\n     <a href=\"https://www.mediawiki.org/wiki/Special:MyLanguage/How_to_contribute\">\n      Desarrolladores\n     </a>\n    </li>\n    <li id=\"footer-places-statslink\">\n     <a href=\"https://stats.wikimedia.org/#/es.wikipedia.org\">\n      Estadísticas\n     </a>\n    </li>\n    <li id=\"footer-places-cookiestatement\">\n     <a href=\"https://foundation.wikimedia.org/wiki/Cookie_statement/es\">\n      Declaración de cookies\n     </a>\n    </li>\n   </ul>\n   <ul class=\"noprint\" id=\"footer-icons\">\n    <li id=\"footer-copyrightico\">\n     <a href=\"https://wikimediafoundation.org/\">\n      <img alt=\"Wikimedia Foundation\" height=\"31\" loading=\"lazy\" src=\"/static/images/footer/wikimedia-button.png\" srcset=\"/static/images/footer/wikimedia-button-1.5x.png 1.5x, /static/images/footer/wikimedia-button-2x.png 2x\" width=\"88\"/>\n     </a>\n    </li>\n    <li id=\"footer-poweredbyico\">\n     <a href=\"https://www.mediawiki.org/\">\n      <img alt=\"Powered by MediaWiki\" height=\"31\" loading=\"lazy\" src=\"/static/images/footer/poweredby_mediawiki_88x31.png\" srcset=\"/static/images/footer/poweredby_mediawiki_132x47.png 1.5x, /static/images/footer/poweredby_mediawiki_176x62.png 2x\" width=\"88\"/>\n     </a>\n    </li>\n   </ul>\n   <div style=\"clear: both;\">\n   </div>\n  </footer>\n  <script>\n   (RLQ=window.RLQ||[]).push(function(){mw.config.set({\"wgPageParseReport\":{\"limitreport\":{\"cputime\":\"1.115\",\"walltime\":\"1.364\",\"ppvisitednodes\":{\"value\":4118,\"limit\":1000000},\"postexpandincludesize\":{\"value\":62779,\"limit\":2097152},\"templateargumentsize\":{\"value\":5395,\"limit\":2097152},\"expansiondepth\":{\"value\":24,\"limit\":40},\"expensivefunctioncount\":{\"value\":6,\"limit\":500},\"unstrip-depth\":{\"value\":0,\"limit\":20},\"unstrip-size\":{\"value\":92518,\"limit\":5000000},\"entityaccesscount\":{\"value\":7,\"limit\":400},\"timingprofile\":[\"100.00% 1058.846      1 -total\",\" 45.16%  478.223      1 Plantilla:Ficha_de_lenguaje_de_programación\",\" 44.43%  470.433      1 Plantilla:Ficha\",\" 37.98%  402.119     14 Plantilla:Propiedad\",\" 26.04%  275.746      1 Plantilla:Control_de_autoridades\",\" 13.36%  141.480      1 Plantilla:Listaref\",\"  9.34%   98.921     19 Plantilla:Cita_web\",\"  3.57%   37.819      1 Plantilla:Fecha_de_lanzamiento\",\"  2.51%   26.582      3 Plantilla:Otros_usos\",\"  2.07%   21.886      3 Plantilla:Texto_de_la_coletilla_del_título\"]},\"scribunto\":{\"limitreport-timeusage\":{\"value\":\"0.648\",\"limit\":\"10.000\"},\"limitreport-memusage\":{\"value\":12059653,\"limit\":52428800}},\"cachereport\":{\"origin\":\"mw1272\",\"timestamp\":\"20210318002050\",\"ttl\":3600,\"transientcontent\":true}}});});\n  </script>\n  <script type=\"application/ld+json\">\n   {\"@context\":\"https:\\/\\/schema.org\",\"@type\":\"Article\",\"name\":\"Python\",\"url\":\"https:\\/\\/es.wikipedia.org\\/wiki\\/Python\",\"sameAs\":\"http:\\/\\/www.wikidata.org\\/entity\\/Q28865\",\"mainEntity\":\"http:\\/\\/www.wikidata.org\\/entity\\/Q28865\",\"author\":{\"@type\":\"Organization\",\"name\":\"Colaboradores de los proyectos Wikimedia\"},\"publisher\":{\"@type\":\"Organization\",\"name\":\"Wikimedia Foundation, Inc.\",\"logo\":{\"@type\":\"ImageObject\",\"url\":\"https:\\/\\/www.wikimedia.org\\/static\\/images\\/wmf-hor-googpub.png\"}},\"datePublished\":\"2002-02-13T07:52:06Z\",\"dateModified\":\"2021-03-16T17:42:45Z\",\"headline\":\"lenguaje de programaci\\u00f3n de alto nivel\"}\n  </script>\n  <script>\n   (RLQ=window.RLQ||[]).push(function(){mw.config.set({\"wgBackendResponseTime\":244,\"wgHostname\":\"mw1264\"});});\n  </script>\n </body>\n</html>\n"
     ]
    }
   ],
   "source": [
    "from bs4 import BeautifulSoup\n",
    "import requests\n",
    "\n",
    "pagina = requests.get(\"https://es.wikipedia.org/wiki/Python\")\n",
    "soup = BeautifulSoup(pagina.content, 'html.parser')\n",
    "\n",
    "print(soup.prettify())"
   ]
  },
  {
   "cell_type": "code",
   "execution_count": 2,
   "metadata": {},
   "outputs": [
    {
     "output_type": "execute_result",
     "data": {
      "text/plain": [
       "<span class=\"mw-headline\" id=\"Referencias\">Referencias</span>"
      ]
     },
     "metadata": {},
     "execution_count": 2
    }
   ],
   "source": [
    "soup.find(id=\"Referencias\")"
   ]
  },
  {
   "cell_type": "code",
   "execution_count": 3,
   "metadata": {},
   "outputs": [],
   "source": [
    "enlaces = soup.find(id=\"Referencias\")"
   ]
  },
  {
   "cell_type": "code",
   "execution_count": 4,
   "metadata": {},
   "outputs": [
    {
     "output_type": "execute_result",
     "data": {
      "text/plain": [
       "<span class=\"mw-headline\" id=\"Referencias\">Referencias</span>"
      ]
     },
     "metadata": {},
     "execution_count": 4
    }
   ],
   "source": [
    "enlaces"
   ]
  },
  {
   "cell_type": "code",
   "execution_count": 5,
   "metadata": {},
   "outputs": [
    {
     "output_type": "execute_result",
     "data": {
      "text/plain": [
       "<span class=\"mw-editsection\"><span class=\"mw-editsection-bracket\">[</span><a href=\"/w/index.php?title=Python&amp;action=edit&amp;section=33\" title=\"Editar sección: Referencias\">editar</a><span class=\"mw-editsection-bracket\">]</span></span>"
      ]
     },
     "metadata": {},
     "execution_count": 5
    }
   ],
   "source": [
    "enlaces.find_next()"
   ]
  },
  {
   "cell_type": "code",
   "execution_count": 6,
   "metadata": {},
   "outputs": [
    {
     "output_type": "execute_result",
     "data": {
      "text/plain": [
       "['Referencias']"
      ]
     },
     "metadata": {},
     "execution_count": 6
    }
   ],
   "source": [
    "enlaces.contents"
   ]
  },
  {
   "cell_type": "code",
   "execution_count": 7,
   "metadata": {},
   "outputs": [],
   "source": [
    "enlaces = soup.findAll(\"div\",{\"class\": \"Listaref\"})"
   ]
  },
  {
   "cell_type": "code",
   "execution_count": 8,
   "metadata": {},
   "outputs": [
    {
     "output_type": "execute_result",
     "data": {
      "text/plain": [
       "iki-gu\"><a class=\"interlanguage-link-target\" href=\"https://gu.wikipedia.org/wiki/%E0%AA%AA%E0%AA%BE%E0%AA%AF%E0%AA%A5%E0%AB%8B%E0%AA%A8(%E0%AA%AA%E0%AB%8D%E0%AA%B0%E0%AB%8B%E0%AA%97%E0%AB%8D%E0%AA%B0%E0%AA%BE%E0%AA%AE%E0%AA%BF%E0%AA%82%E0%AA%97_%E0%AA%AD%E0%AA%BE%E0%AA%B7%E0%AA%BE)\" hreflang=\"gu\" lang=\"gu\" title=\"પાયથોન(પ્રોગ્રામિંગ ભાષા) (guyaratí)\">ગુજરાતી</a></li>,\n",
       " <li class=\"interlanguage-link interwiki-he\"><a class=\"interlanguage-link-target\" href=\"https://he.wikipedia.org/wiki/%D7%A4%D7%99%D7%99%D7%AA%D7%95%D7%9F\" hreflang=\"he\" lang=\"he\" title=\"פייתון (hebreo)\">עברית</a></li>,\n",
       " <li class=\"interlanguage-link interwiki-hi\"><a class=\"interlanguage-link-target\" href=\"https://hi.wikipedia.org/wiki/%E0%A4%AA%E0%A4%BE%E0%A4%87%E0%A4%A5%E0%A4%A8\" hreflang=\"hi\" lang=\"hi\" title=\"पाइथन (hindi)\">हिन्दी</a></li>,\n",
       " <li class=\"interlanguage-link interwiki-hr\"><a class=\"interlanguage-link-target\" href=\"https://hr.wikipedia.org/wiki/Python_(programski_jezik)\" hreflang=\"hr\" lang=\"hr\" title=\"Python (programski jezik) (croata)\">Hrvatski</a></li>,\n",
       " <li class=\"interlanguage-link interwiki-hu\"><a class=\"interlanguage-link-target\" href=\"https://hu.wikipedia.org/wiki/Python_(programoz%C3%A1si_nyelv)\" hreflang=\"hu\" lang=\"hu\" title=\"Python (programozási nyelv) (húngaro)\">Magyar</a></li>,\n",
       " <li class=\"interlanguage-link interwiki-hy\"><a class=\"interlanguage-link-target\" href=\"https://hy.wikipedia.org/wiki/Python\" hreflang=\"hy\" lang=\"hy\" title=\"Python (armenio)\">Հայերեն</a></li>,\n",
       " <li class=\"interlanguage-link interwiki-ia\"><a class=\"interlanguage-link-target\" href=\"https://ia.wikipedia.org/wiki/Python_(linguage_de_programmation)\" hreflang=\"ia\" lang=\"ia\" title=\"Python (linguage de programmation) (interlingua)\">Interlingua</a></li>,\n",
       " <li class=\"interlanguage-link interwiki-id\"><a class=\"interlanguage-link-target\" href=\"https://id.wikipedia.org/wiki/Python_(bahasa_pemrograman)\" hreflang=\"id\" lang=\"id\" title=\"Python (bahasa pemrograman) (indonesio)\">Bahasa Indonesia</a></li>,\n",
       " <li class=\"interlanguage-link interwiki-is\"><a class=\"interlanguage-link-target\" href=\"https://is.wikipedia.org/wiki/Python_(forritunarm%C3%A1l)\" hreflang=\"is\" lang=\"is\" title=\"Python (forritunarmál) (islandés)\">Íslenska</a></li>,\n",
       " <li class=\"interlanguage-link interwiki-it\"><a class=\"interlanguage-link-target\" href=\"https://it.wikipedia.org/wiki/Python\" hreflang=\"it\" lang=\"it\" title=\"Python (italiano)\">Italiano</a></li>,\n",
       " <li class=\"interlanguage-link interwiki-ja\"><a class=\"interlanguage-link-target\" href=\"https://ja.wikipedia.org/wiki/Python\" hreflang=\"ja\" lang=\"ja\" title=\"Python (japonés)\">日本語</a></li>,\n",
       " <li class=\"interlanguage-link interwiki-jbo\"><a class=\"interlanguage-link-target\" href=\"https://jbo.wikipedia.org/wiki/paiton\" hreflang=\"jbo\" lang=\"jbo\" title=\"paiton (lojban)\">La .lojban.</a></li>,\n",
       " <li class=\"interlanguage-link interwiki-ka\"><a class=\"interlanguage-link-target\" href=\"https://ka.wikipedia.org/wiki/%E1%83%9E%E1%83%90%E1%83%98%E1%83%97%E1%83%9D%E1%83%9C%E1%83%98_(%E1%83%9E%E1%83%A0%E1%83%9D%E1%83%92%E1%83%A0%E1%83%90%E1%83%9B%E1%83%98%E1%83%A0%E1%83%94%E1%83%91%E1%83%98%E1%83%A1_%E1%83%94%E1%83%9C%E1%83%90)\" hreflang=\"ka\" lang=\"ka\" title=\"პაითონი (პროგრამირების ენა) (georgiano)\">ქართული</a></li>,\n",
       " <li class=\"interlanguage-link interwiki-kk\"><a class=\"interlanguage-link-target\" href=\"https://kk.wikipedia.org/wiki/Python\" hreflang=\"kk\" lang=\"kk\" title=\"Python (kazajo)\">Қазақша</a></li>,\n",
       " <li class=\"interlanguage-link interwiki-km\"><a class=\"interlanguage-link-target\" href=\"https://km.wikipedia.org/wiki/%E1%9E%95%E1%9E%B6%E1%9E%99%E1%9E%90%E1%9E%BB%E1%9E%93\" hreflang=\"km\" lang=\"km\" title=\"ផាយថុន (jemer)\">ភាសាខ្មែរ</a></li>,\n",
       " <li class=\"interlanguage-link interwiki-ko\"><a class=\"interlanguage-link-target\" href=\"https://ko.wikipedia.org/wiki/%ED%8C%8C%EC%9D%B4%EC%8D%AC\" hreflang=\"ko\" lang=\"ko\" title=\"파이썬 (coreano)\">한국어</a></li>,\n",
       " <li class=\"interlanguage-link interwiki-ku\"><a class=\"interlanguage-link-target\" href=\"https://ku.wikipedia.org/wiki/Python_(ziman%C3%AA_programkirin%C3%AA)\" hreflang=\"ku\" lang=\"ku\" title=\"Python (zimanê programkirinê) (kurdo)\">Kurdî</a></li>,\n",
       " <li class=\"interlanguage-link interwiki-ky\"><a class=\"interlanguage-link-target\" href=\"https://ky.wikipedia.org/wiki/Python\" hreflang=\"ky\" lang=\"ky\" title=\"Python (kirguís)\">Кыргызча</a></li>,\n",
       " <li class=\"interlanguage-link interwiki-la\"><a class=\"interlanguage-link-target\" href=\"https://la.wikipedia.org/wiki/Python_(lingua_programmandi)\" hreflang=\"la\" lang=\"la\" title=\"Python (lingua programmandi) (latín)\">Latina</a></li>,\n",
       " <li class=\"interlanguage-link interwiki-lmo\"><a class=\"interlanguage-link-target\" href=\"https://lmo.wikipedia.org/wiki/Python\" hreflang=\"lmo\" lang=\"lmo\" title=\"Python (Lombard)\">Lumbaart</a></li>,\n",
       " <li class=\"interlanguage-link interwiki-lt\"><a class=\"interlanguage-link-target\" href=\"https://lt.wikipedia.org/wiki/Python\" hreflang=\"lt\" lang=\"lt\" title=\"Python (lituano)\">Lietuvių</a></li>,\n",
       " <li class=\"interlanguage-link interwiki-lv\"><a class=\"interlanguage-link-target\" href=\"https://lv.wikipedia.org/wiki/Python\" hreflang=\"lv\" lang=\"lv\" title=\"Python (letón)\">Latviešu</a></li>,\n",
       " <li class=\"interlanguage-link interwiki-mk\"><a class=\"interlanguage-link-target\" href=\"https://mk.wikipedia.org/wiki/%D0%9F%D0%B0%D1%98%D1%82%D0%BE%D0%BD_(%D0%BF%D1%80%D0%BE%D0%B3%D1%80%D0%B0%D0%BC%D1%81%D0%BA%D0%B8_%D1%98%D0%B0%D0%B7%D0%B8%D0%BA)\" hreflang=\"mk\" lang=\"mk\" title=\"Пајтон (програмски јазик) (macedonio)\">Македонски</a></li>,\n",
       " <li class=\"interlanguage-link interwiki-ml\"><a class=\"interlanguage-link-target\" href=\"https://ml.wikipedia.org/wiki/%E0%B4%AA%E0%B5%88%E0%B4%A4%E0%B5%8D%E0%B4%A4%E0%B5%BA_(%E0%B4%AA%E0%B5%8D%E0%B4%B0%E0%B5%8B%E0%B4%97%E0%B5%8D%E0%B4%B0%E0%B4%BE%E0%B4%AE%E0%B4%BF%E0%B4%99%E0%B5%8D%E0%B4%99%E0%B5%8D_%E0%B4%AD%E0%B4%BE%E0%B4%B7)\" hreflang=\"ml\" lang=\"ml\" title=\"പൈത്തൺ (പ്രോഗ്രാമിങ്ങ് ഭാഷ) (malayalam)\">മലയാളം</a></li>,\n",
       " <li class=\"interlanguage-link interwiki-mn\"><a class=\"interlanguage-link-target\" href=\"https://mn.wikipedia.org/wiki/Python\" hreflang=\"mn\" lang=\"mn\" title=\"Python (mongol)\">Монгол</a></li>,\n",
       " <li class=\"interlanguage-link interwiki-mr\"><a class=\"interlanguage-link-target\" href=\"https://mr.wikipedia.org/wiki/%E0%A4%AA%E0%A4%BE%E0%A4%AF%E0%A4%A5%E0%A5%89%E0%A4%A8\" hreflang=\"mr\" lang=\"mr\" title=\"पायथॉन (maratí)\">मराठी</a></li>,\n",
       " <li class=\"interlanguage-link interwiki-ms\"><a class=\"interlanguage-link-target\" href=\"https://ms.wikipedia.org/wiki/Python\" hreflang=\"ms\" lang=\"ms\" title=\"Python (malayo)\">Bahasa Melayu</a></li>,\n",
       " <li class=\"interlanguage-link interwiki-my\"><a class=\"interlanguage-link-target\" href=\"https://my.wikipedia.org/wiki/Python_(programming_language)\" hreflang=\"my\" lang=\"my\" title=\"Python (programming language) (birmano)\">မြန်မာဘာသာ</a></li>,\n",
       " <li class=\"interlanguage-link interwiki-nds\"><a class=\"interlanguage-link-target\" href=\"https://nds.wikipedia.org/wiki/Python_(Programmeerspraak)\" hreflang=\"nds\" lang=\"nds\" title=\"Python (Programmeerspraak) (bajo alemán)\">Plattdüütsch</a></li>,\n",
       " <li class=\"interlanguage-link interwiki-nl\"><a class=\"interlanguage-link-target\" href=\"https://nl.wikipedia.org/wiki/Python_(programmeertaal)\" hreflang=\"nl\" lang=\"nl\" title=\"Python (programmeertaal) (neerlandés)\">Nederlands</a></li>,\n",
       " <li class=\"interlanguage-link interwiki-nn\"><a class=\"interlanguage-link-target\" href=\"https://nn.wikipedia.org/wiki/Python\" hreflang=\"nn\" lang=\"nn\" title=\"Python (noruego nynorsk)\">Norsk nynorsk</a></li>,\n",
       " <li class=\"interlanguage-link interwiki-no\"><a class=\"interlanguage-link-target\" href=\"https://no.wikipedia.org/wiki/Python\" hreflang=\"nb\" lang=\"nb\" title=\"Python (noruego bokmal)\">Norsk bokmål</a></li>,\n",
       " <li class=\"interlanguage-link interwiki-nqo\"><a class=\"interlanguage-link-target\" href=\"https://nqo.wikipedia.org/wiki/%DF%93%DF%8A%DF%A6%DF%8C%DF%95%DF%90%DF%A3\" hreflang=\"nqo\" lang=\"nqo\" title=\"ߓߊߦߌߕߐߣ (n’ko)\">ߒߞߏ</a></li>,\n",
       " <li class=\"interlanguage-link interwiki-or\"><a class=\"interlanguage-link-target\" href=\"https://or.wikipedia.org/wiki/%E0%AC%AA%E0%AC%BE%E0%AC%87%E0%AC%A5%E0%AC%A8%E0%AD%8D_(%E0%AC%AA%E0%AD%8D%E0%AC%B0%E0%AD%8B%E0%AC%97%E0%AD%8D%E0%AC%B0%E0%AC%BE%E0%AC%AE%E0%AC%BF%E0%AC%82_%E0%AC%AD%E0%AC%BE%E0%AC%B7%E0%AC%BE)\" hreflang=\"or\" lang=\"or\" title=\"ପାଇଥନ୍ (ପ୍ରୋଗ୍ରାମିଂ ଭାଷା) (oriya)\">ଓଡ଼ିଆ</a></li>,\n",
       " <li class=\"interlanguage-link interwiki-pa\"><a class=\"interlanguage-link-target\" href=\"https://pa.wikipedia.org/wiki/%E0%A8%AA%E0%A8%BE%E0%A8%88%E0%A8%A5%E0%A8%A8_(%E0%A8%AA%E0%A9%8D%E0%A8%B0%E0%A9%8B%E0%A8%97%E0%A8%B0%E0%A8%BE%E0%A8%AE%E0%A8%BF%E0%A9%B0%E0%A8%97_%E0%A8%AD%E0%A8%BE%E0%A8%B8%E0%A8%BC%E0%A8%BE)\" hreflang=\"pa\" lang=\"pa\" title=\"ਪਾਈਥਨ (ਪ੍ਰੋਗਰਾਮਿੰਗ ਭਾਸ਼ਾ) (punyabí)\">ਪੰਜਾਬੀ</a></li>,\n",
       " <li class=\"interlanguage-link interwiki-pl\"><a class=\"interlanguage-link-target\" href=\"https://pl.wikipedia.org/wiki/Python\" hreflang=\"pl\" lang=\"pl\" title=\"Python (polaco)\">Polski</a></li>,\n",
       " <li class=\"interlanguage-link interwiki-pnb\"><a class=\"interlanguage-link-target\" href=\"https://pnb.wikipedia.org/wiki/%D9%BE%D8%A7%D8%A6%DB%8C%D8%AA%DA%BE%D9%86_(%DA%A9%D9%85%D9%BE%DB%8C%D9%88%D9%B9%D8%B1_%D8%A8%D9%88%D9%84%DB%8C)\" hreflang=\"pnb\" lang=\"pnb\" title=\"پائیتھن (کمپیوٹر بولی) (Western Punjabi)\">پنجابی</a></li>,\n",
       " <li class=\"interlanguage-link interwiki-pt\"><a class=\"interlanguage-link-target\" href=\"https://pt.wikipedia.org/wiki/Python\" hreflang=\"pt\" lang=\"pt\" title=\"Python (portugués)\">Português</a></li>,\n",
       " <li class=\"interlanguage-link interwiki-ro\"><a class=\"interlanguage-link-target\" href=\"https://ro.wikipedia.org/wiki/Python\" hreflang=\"ro\" lang=\"ro\" title=\"Python (rumano)\">Română</a></li>,\n",
       " <li class=\"interlanguage-link interwiki-ru\"><a class=\"interlanguage-link-target\" href=\"https://ru.wikipedia.org/wiki/Python\" hreflang=\"ru\" lang=\"ru\" title=\"Python (ruso)\">Русский</a></li>,\n",
       " <li class=\"interlanguage-link interwiki-sah\"><a class=\"interlanguage-link-target\" href=\"https://sah.wikipedia.org/wiki/Python\" hreflang=\"sah\" lang=\"sah\" title=\"Python (sakha)\">Саха тыла</a></li>,\n",
       " <li class=\"interlanguage-link interwiki-sat\"><a class=\"interlanguage-link-target\" href=\"https://sat.wikipedia.org/wiki/%E1%B1%AF%E1%B1%9F%E1%B1%AD%E1%B1%9B%E1%B1%B7%E1%B1%9A%E1%B1%B1(%E1%B1%AF%E1%B1%A8%E1%B1%B3%E1%B1%9C%E1%B1%BD%E1%B1%A8%E1%B1%9F%E1%B1%A2%E1%B1%A4%E1%B1%9D_%E1%B1%AF%E1%B1%9F%E1%B1%B9%E1%B1%A8%E1%B1%A5%E1%B1%A4)\" hreflang=\"sat\" lang=\"sat\" title=\"ᱯᱟᱭᱛᱷᱚᱱ(ᱯᱨᱳᱜᱽᱨᱟᱢᱤᱝ ᱯᱟᱹᱨᱥᱤ) (santali)\">ᱥᱟᱱᱛᱟᱲᱤ</a></li>,\n",
       " <li class=\"interlanguage-link interwiki-sco\"><a class=\"interlanguage-link-target\" href=\"https://sco.wikipedia.org/wiki/Python_(programmin_leid)\" hreflang=\"sco\" lang=\"sco\" title=\"Python (programmin leid) (escocés)\">Scots</a></li>,\n",
       " <li class=\"interlanguage-link interwiki-sh\"><a class=\"interlanguage-link-target\" href=\"https://sh.wikipedia.org/wiki/Python_programski_jezik\" hreflang=\"sh\" lang=\"sh\" title=\"Python programski jezik (serbocroata)\">Srpskohrvatski / српскохрватски</a></li>,\n",
       " <li class=\"interlanguage-link interwiki-shn\"><a class=\"interlanguage-link-target\" href=\"https://shn.wikipedia.org/wiki/Python_(programming_language)\" hreflang=\"shn\" lang=\"shn\" title=\"Python (programming language) (shan)\">ၽႃႇသႃႇတႆး </a></li>,\n",
       " <li class=\"interlanguage-link interwiki-si\"><a class=\"interlanguage-link-target\" href=\"https://si.wikipedia.org/wiki/%E0%B6%B4%E0%B6%BA%E0%B7%92%E0%B6%AD%E0%B6%B1%E0%B7%8A\" hreflang=\"si\" lang=\"si\" title=\"පයිතන් (cingalés)\">සිංහල</a></li>,\n",
       " <li class=\"interlanguage-link interwiki-simple\"><a class=\"interlanguage-link-target\" href=\"https://simple.wikipedia.org/wiki/Python_(programming_language)\" hreflang=\"en-simple\" lang=\"en-simple\" title=\"Python (programming language) (Simple English)\">Simple English</a></li>,\n",
       " <li class=\"interlanguage-link interwiki-sk\"><a class=\"interlanguage-link-target\" href=\"https://sk.wikipedia.org/wiki/Python_(programovac%C3%AD_jazyk)\" hreflang=\"sk\" lang=\"sk\" title=\"Python (programovací jazyk) (eslovaco)\">Slovenčina</a></li>,\n",
       " <li class=\"interlanguage-link interwiki-sl\"><a class=\"interlanguage-link-target\" href=\"https://sl.wikipedia.org/wiki/Python_(programski_jezik)\" hreflang=\"sl\" lang=\"sl\" title=\"Python (programski jezik) (esloveno)\">Slovenščina</a></li>,\n",
       " <li class=\"interlanguage-link interwiki-sq\"><a class=\"interlanguage-link-target\" href=\"https://sq.wikipedia.org/wiki/Python\" hreflang=\"sq\" lang=\"sq\" title=\"Python (albanés)\">Shqip</a></li>,\n",
       " <li class=\"interlanguage-link interwiki-sr\"><a class=\"interlanguage-link-target\" href=\"https://sr.wikipedia.org/wiki/Python_(%D0%BF%D1%80%D0%BE%D0%B3%D1%80%D0%B0%D0%BC%D1%81%D0%BA%D0%B8_%D1%98%D0%B5%D0%B7%D0%B8%D0%BA)\" hreflang=\"sr\" lang=\"sr\" title=\"Python (програмски језик) (serbio)\">Српски / srpski</a></li>,\n",
       " <li class=\"interlanguage-link interwiki-sv\"><a class=\"interlanguage-link-target\" href=\"https://sv.wikipedia.org/wiki/Python_(programspr%C3%A5k)\" hreflang=\"sv\" lang=\"sv\" title=\"Python (programspråk) (sueco)\">Svenska</a></li>,\n",
       " <li class=\"interlanguage-link interwiki-sw\"><a class=\"interlanguage-link-target\" href=\"https://sw.wikipedia.org/wiki/Python_(Lugha_ya_programu)\" hreflang=\"sw\" lang=\"sw\" title=\"Python (Lugha ya programu) (suajili)\">Kiswahili</a></li>,\n",
       " <li class=\"interlanguage-link interwiki-ta\"><a class=\"interlanguage-link-target\" href=\"https://ta.wikipedia.org/wiki/%E0%AE%AA%E0%AF%88%E0%AE%A4%E0%AF%8D%E0%AE%A4%E0%AE%BE%E0%AE%A9%E0%AF%8D\" hreflang=\"ta\" lang=\"ta\" title=\"பைத்தான் (tamil)\">தமிழ்</a></li>,\n",
       " <li class=\"interlanguage-link interwiki-te\"><a class=\"interlanguage-link-target\" href=\"https://te.wikipedia.org/wiki/%E0%B0%AA%E0%B1%88%E0%B0%A5%E0%B0%BE%E0%B0%A8%E0%B1%8D_(%E0%B0%95%E0%B0%82%E0%B0%AA%E0%B1%8D%E0%B0%AF%E0%B1%82%E0%B0%9F%E0%B0%B0%E0%B1%8D_%E0%B0%AD%E0%B0%BE%E0%B0%B7)\" hreflang=\"te\" lang=\"te\" title=\"పైథాన్ (కంప్యూటర్ భాష) (telugu)\">తెలుగు</a></li>,\n",
       " <li class=\"interlanguage-link interwiki-tg\"><a class=\"interlanguage-link-target\" href=\"https://tg.wikipedia.org/wiki/Python\" hreflang=\"tg\" lang=\"tg\" title=\"Python (tayiko)\">Тоҷикӣ</a></li>,\n",
       " <li class=\"interlanguage-link interwiki-th\"><a class=\"interlanguage-link-target\" href=\"https://th.wikipedia.org/wiki/%E0%B9%84%E0%B8%9E%E0%B8%97%E0%B8%AD%E0%B8%99_(%E0%B8%A0%E0%B8%B2%E0%B8%A9%E0%B8%B2%E0%B9%82%E0%B8%9B%E0%B8%A3%E0%B9%81%E0%B8%81%E0%B8%A3%E0%B8%A1)\" hreflang=\"th\" lang=\"th\" title=\"ไพทอน (ภาษาโปรแกรม) (tailandés)\">ไทย</a></li>,\n",
       " <li class=\"interlanguage-link interwiki-tl\"><a class=\"interlanguage-link-target\" href=\"https://tl.wikipedia.org/wiki/Python_(wikang_pamprograma)\" hreflang=\"tl\" lang=\"tl\" title=\"Python (wikang pamprograma) (tagalo)\">Tagalog</a></li>,\n",
       " <li class=\"interlanguage-link interwiki-tr\"><a class=\"interlanguage-link-target\" href=\"https://tr.wikipedia.org/wiki/Python_(programlama_dili)\" hreflang=\"tr\" lang=\"tr\" title=\"Python (programlama dili) (turco)\">Türkçe</a></li>,\n",
       " <li class=\"interlanguage-link interwiki-tt\"><a class=\"interlanguage-link-target\" href=\"https://tt.wikipedia.org/wiki/Python\" hreflang=\"tt\" lang=\"tt\" title=\"Python (tártaro)\">Татарча/tatarça</a></li>,\n",
       " <li class=\"interlanguage-link interwiki-ug\"><a class=\"interlanguage-link-target\" href=\"https://ug.wikipedia.org/wiki/%D9%BE%D8%A7%D9%8A%D8%B3%D9%88%D9%86\" hreflang=\"ug\" lang=\"ug\" title=\"پايسون (uigur)\">ئۇيغۇرچە / Uyghurche</a></li>,\n",
       " <li class=\"interlanguage-link interwiki-uk\"><a class=\"interlanguage-link-target\" href=\"https://uk.wikipedia.org/wiki/Python\" hreflang=\"uk\" lang=\"uk\" title=\"Python (ucraniano)\">Українська</a></li>,\n",
       " <li class=\"interlanguage-link interwiki-ur\"><a class=\"interlanguage-link-target\" href=\"https://ur.wikipedia.org/wiki/%D9%BE%D8%A7%D8%A6%DB%8C%D8%AA%DA%BE%D9%86_(%D9%BE%D8%B1%D9%88%DA%AF%D8%B1%D8%A7%D9%85%D9%86%DA%AF_%D8%B2%D8%A8%D8%A7%D9%86)\" hreflang=\"ur\" lang=\"ur\" title=\"پائیتھن (پروگرامنگ زبان) (urdu)\">اردو</a></li>,\n",
       " <li class=\"interlanguage-link interwiki-uz\"><a class=\"interlanguage-link-target\" href=\"https://uz.wikipedia.org/wiki/Python\" hreflang=\"uz\" lang=\"uz\" title=\"Python (uzbeko)\">Oʻzbekcha/ўзбекча</a></li>,\n",
       " <li class=\"interlanguage-link interwiki-vi\"><a class=\"interlanguage-link-target\" href=\"https://vi.wikipedia.org/wiki/Python_(ng%C3%B4n_ng%E1%BB%AF_l%E1%BA%ADp_tr%C3%ACnh)\" hreflang=\"vi\" lang=\"vi\" title=\"Python (ngôn ngữ lập trình) (vietnamita)\">Tiếng Việt</a></li>,\n",
       " <li class=\"interlanguage-link interwiki-wa\"><a class=\"interlanguage-link-target\" href=\"https://wa.wikipedia.org/wiki/Python_(lingaedje_%C3%A9ndjolike)\" hreflang=\"wa\" lang=\"wa\" title=\"Python (lingaedje éndjolike) (valón)\">Walon</a></li>,\n",
       " <li class=\"interlanguage-link interwiki-war\"><a class=\"interlanguage-link-target\" href=\"https://war.wikipedia.org/wiki/Python_(programming_language)\" hreflang=\"war\" lang=\"war\" title=\"Python (programming language) (waray)\">Winaray</a></li>,\n",
       " <li class=\"interlanguage-link interwiki-wuu\"><a class=\"interlanguage-link-target\" href=\"https://wuu.wikipedia.org/wiki/Python\" hreflang=\"wuu\" lang=\"wuu\" title=\"Python (chino wu)\">吴语</a></li>,\n",
       " <li class=\"interlanguage-link interwiki-zh\"><a class=\"interlanguage-link-target\" href=\"https://zh.wikipedia.org/wiki/Python\" hreflang=\"zh\" lang=\"zh\" title=\"Python (chino)\">中文</a></li>,\n",
       " <li class=\"interlanguage-link interwiki-zh-min-nan\"><a class=\"interlanguage-link-target\" href=\"https://zh-min-nan.wikipedia.org/wiki/Python\" hreflang=\"nan\" lang=\"nan\" title=\"Python (Chinese (Min Nan))\">Bân-lâm-gú</a></li>,\n",
       " <li class=\"interlanguage-link interwiki-zh-yue\"><a class=\"interlanguage-link-target\" href=\"https://zh-yue.wikipedia.org/wiki/Python\" hreflang=\"yue\" lang=\"yue\" title=\"Python (Cantonese)\">粵語</a></li>,\n",
       " <li id=\"footer-info-lastmod\"> Esta página se editó por última vez el 16 mar 2021 a las 17:42.</li>,\n",
       " <li id=\"footer-info-copyright\">El texto está disponible bajo la <a href=\"//es.wikipedia.org/wiki/Wikipedia:Texto_de_la_Licencia_Creative_Commons_Atribuci%C3%B3n-CompartirIgual_3.0_Unported\" rel=\"license\">Licencia Creative Commons Atribución Compartir Igual 3.0</a><a href=\"http://creativecommons.org/licenses/by-sa/3.0/\" rel=\"license\" style=\"display:none;\"></a>;\n",
       " pueden aplicarse cláusulas adicionales. Al usar este sitio, usted acepta nuestros <a href=\"//wikimediafoundation.org/wiki/Terms_of_Use\">términos de uso</a> y nuestra <a href=\"//wikimediafoundation.org/wiki/Privacy_policy\">política de privacidad</a>. <br/>Wikipedia® es una marca registrada de la <a href=\"//www.wikimediafoundation.org/\">Fundación Wikimedia, Inc.</a>, una organización sin ánimo de lucro.</li>,\n",
       " <li id=\"footer-places-privacy\"><a class=\"extiw\" href=\"https://meta.wikimedia.org/wiki/Privacy_policy/es\" title=\"m:Privacy policy/es\">Política de privacidad</a></li>,\n",
       " <li id=\"footer-places-about\"><a href=\"/wiki/Wikipedia:Acerca_de\" title=\"Wikipedia:Acerca de\">Acerca de Wikipedia</a></li>,\n",
       " <li id=\"footer-places-disclaimer\"><a href=\"/wiki/Wikipedia:Limitaci%C3%B3n_general_de_responsabilidad\" title=\"Wikipedia:Limitación general de responsabilidad\">Limitación de responsabilidad</a></li>,\n",
       " <li id=\"footer-places-mobileview\"><a class=\"noprint stopMobileRedirectToggle\" href=\"//es.m.wikipedia.org/w/index.php?title=Python&amp;mobileaction=toggle_view_mobile\">Versión para móviles</a></li>,\n",
       " <li id=\"footer-places-developers\"><a href=\"https://www.mediawiki.org/wiki/Special:MyLanguage/How_to_contribute\">Desarrolladores</a></li>,\n",
       " <li id=\"footer-places-statslink\"><a href=\"https://stats.wikimedia.org/#/es.wikipedia.org\">Estadísticas</a></li>,\n",
       " <li id=\"footer-places-cookiestatement\"><a href=\"https://foundation.wikimedia.org/wiki/Cookie_statement/es\">Declaración de cookies</a></li>,\n",
       " <li id=\"footer-copyrightico\"><a href=\"https://wikimediafoundation.org/\"><img alt=\"Wikimedia Foundation\" height=\"31\" loading=\"lazy\" src=\"/static/images/footer/wikimedia-button.png\" srcset=\"/static/images/footer/wikimedia-button-1.5x.png 1.5x, /static/images/footer/wikimedia-button-2x.png 2x\" width=\"88\"/></a></li>,\n",
       " <li id=\"footer-poweredbyico\"><a href=\"https://www.mediawiki.org/\"><img alt=\"Powered by MediaWiki\" height=\"31\" loading=\"lazy\" src=\"/static/images/footer/poweredby_mediawiki_88x31.png\" srcset=\"/static/images/footer/poweredby_mediawiki_132x47.png 1.5x, /static/images/footer/poweredby_mediawiki_176x62.png 2x\" width=\"88\"/></a></li>]"
      ]
     },
     "metadata": {},
     "execution_count": 8
    }
   ],
   "source": [
    "soup.find_all(\"li\")"
   ]
  },
  {
   "cell_type": "code",
   "execution_count": 9,
   "metadata": {},
   "outputs": [
    {
     "output_type": "error",
     "ename": "AttributeError",
     "evalue": "'NoneType' object has no attribute 'descendants'",
     "traceback": [
      "\u001b[0;31m---------------------------------------------------------------------------\u001b[0m",
      "\u001b[0;31mAttributeError\u001b[0m                            Traceback (most recent call last)",
      "\u001b[0;32m<ipython-input-9-08560402e36d>\u001b[0m in \u001b[0;36m<module>\u001b[0;34m\u001b[0m\n\u001b[0;32m----> 1\u001b[0;31m \u001b[0;32mfor\u001b[0m \u001b[0md\u001b[0m \u001b[0;32min\u001b[0m \u001b[0msoup\u001b[0m\u001b[0;34m.\u001b[0m\u001b[0mfind\u001b[0m\u001b[0;34m(\u001b[0m\u001b[0;34m'div'\u001b[0m\u001b[0;34m,\u001b[0m \u001b[0mattrs\u001b[0m\u001b[0;34m=\u001b[0m\u001b[0;34m{\u001b[0m\u001b[0;34m'class'\u001b[0m\u001b[0;34m:\u001b[0m \u001b[0;34m'listref'\u001b[0m\u001b[0;34m}\u001b[0m\u001b[0;34m)\u001b[0m\u001b[0;34m.\u001b[0m\u001b[0mdescendants\u001b[0m\u001b[0;34m:\u001b[0m\u001b[0;34m\u001b[0m\u001b[0;34m\u001b[0m\u001b[0m\n\u001b[0m\u001b[1;32m      2\u001b[0m     \u001b[0;32mif\u001b[0m \u001b[0md\u001b[0m\u001b[0;34m.\u001b[0m\u001b[0mname\u001b[0m \u001b[0;34m==\u001b[0m \u001b[0;34m\"span\"\u001b[0m \u001b[0;32mand\u001b[0m \u001b[0md\u001b[0m\u001b[0;34m.\u001b[0m\u001b[0mget\u001b[0m\u001b[0;34m(\u001b[0m\u001b[0;34m'class'\u001b[0m\u001b[0;34m,\u001b[0m \u001b[0;34m''\u001b[0m\u001b[0;34m)\u001b[0m \u001b[0;34m==\u001b[0m \u001b[0;34m[\u001b[0m\u001b[0;34m'reference-text'\u001b[0m\u001b[0;34m]\u001b[0m\u001b[0;34m:\u001b[0m\u001b[0;34m\u001b[0m\u001b[0;34m\u001b[0m\u001b[0m\n\u001b[1;32m      3\u001b[0m         \u001b[0mprint\u001b[0m\u001b[0;34m(\u001b[0m\u001b[0md\u001b[0m\u001b[0;34m.\u001b[0m\u001b[0mtext\u001b[0m\u001b[0;34m)\u001b[0m\u001b[0;34m\u001b[0m\u001b[0;34m\u001b[0m\u001b[0m\n",
      "\u001b[0;31mAttributeError\u001b[0m: 'NoneType' object has no attribute 'descendants'"
     ]
    }
   ],
   "source": [
    "for d in soup.find('div', attrs={'class': 'listref'}).descendants:\n",
    "    if d.name == \"span\" and d.get('class', '') == ['reference-text']:\n",
    "        print(d.text)\n"
   ]
  },
  {
   "cell_type": "code",
   "execution_count": 11,
   "metadata": {},
   "outputs": [
    {
     "output_type": "error",
     "ename": "TypeError",
     "evalue": "'NoneType' object is not iterable",
     "traceback": [
      "\u001b[0;31m---------------------------------------------------------------------------\u001b[0m",
      "\u001b[0;31mTypeError\u001b[0m                                 Traceback (most recent call last)",
      "\u001b[0;32m<ipython-input-11-9b8bd303d248>\u001b[0m in \u001b[0;36m<module>\u001b[0;34m\u001b[0m\n\u001b[1;32m      1\u001b[0m \u001b[0mdata\u001b[0m \u001b[0;34m=\u001b[0m \u001b[0msoup\u001b[0m\u001b[0;34m.\u001b[0m\u001b[0mfind\u001b[0m\u001b[0;34m(\u001b[0m\u001b[0;34m'div'\u001b[0m\u001b[0;34m,\u001b[0m \u001b[0mattrs\u001b[0m\u001b[0;34m=\u001b[0m\u001b[0;34m{\u001b[0m\u001b[0;34m'class'\u001b[0m\u001b[0;34m:\u001b[0m \u001b[0;34m'listref'\u001b[0m\u001b[0;34m}\u001b[0m\u001b[0;34m)\u001b[0m\u001b[0;34m\u001b[0m\u001b[0;34m\u001b[0m\u001b[0m\n\u001b[0;32m----> 2\u001b[0;31m \u001b[0;32mfor\u001b[0m \u001b[0mdiv\u001b[0m \u001b[0;32min\u001b[0m \u001b[0mdata\u001b[0m\u001b[0;34m:\u001b[0m\u001b[0;34m\u001b[0m\u001b[0;34m\u001b[0m\u001b[0m\n\u001b[0m\u001b[1;32m      3\u001b[0m     \u001b[0mlinks\u001b[0m \u001b[0;34m=\u001b[0m \u001b[0mdiv\u001b[0m\u001b[0;34m.\u001b[0m\u001b[0mfindAll\u001b[0m\u001b[0;34m(\u001b[0m\u001b[0;34m'a'\u001b[0m\u001b[0;34m)\u001b[0m\u001b[0;34m\u001b[0m\u001b[0;34m\u001b[0m\u001b[0m\n\u001b[1;32m      4\u001b[0m     \u001b[0;32mfor\u001b[0m \u001b[0ma\u001b[0m \u001b[0;32min\u001b[0m \u001b[0mlinks\u001b[0m\u001b[0;34m:\u001b[0m\u001b[0;34m\u001b[0m\u001b[0;34m\u001b[0m\u001b[0m\n\u001b[1;32m      5\u001b[0m         \u001b[0;32mif\u001b[0m \u001b[0ma\u001b[0m\u001b[0;34m[\u001b[0m\u001b[0;34m'href'\u001b[0m\u001b[0;34m]\u001b[0m\u001b[0;34m.\u001b[0m\u001b[0mstartswith\u001b[0m\u001b[0;34m(\u001b[0m\u001b[0;34m\"http\"\u001b[0m\u001b[0;34m)\u001b[0m\u001b[0;34m:\u001b[0m\u001b[0;34m\u001b[0m\u001b[0;34m\u001b[0m\u001b[0m\n",
      "\u001b[0;31mTypeError\u001b[0m: 'NoneType' object is not iterable"
     ]
    }
   ],
   "source": [
    "data = soup.find('div', attrs={'class': 'listref'})\n",
    "for div in data:\n",
    "    links = div.findAll('a')\n",
    "    for a in links:\n",
    "        if a['href'].startswith(\"http\"):\n",
    "            print(a['href'])"
   ]
  },
  {
   "cell_type": "code",
   "execution_count": null,
   "metadata": {},
   "outputs": [],
   "source": []
  }
 ]
}