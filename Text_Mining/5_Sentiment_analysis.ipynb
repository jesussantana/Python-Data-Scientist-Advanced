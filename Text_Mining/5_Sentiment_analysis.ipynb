{
 "metadata": {
  "language_info": {
   "codemirror_mode": {
    "name": "ipython",
    "version": 3
   },
   "file_extension": ".py",
   "mimetype": "text/x-python",
   "name": "python",
   "nbconvert_exporter": "python",
   "pygments_lexer": "ipython3",
   "version": "3.8.2-final"
  },
  "orig_nbformat": 2,
  "kernelspec": {
   "name": "python3",
   "display_name": "Python 3",
   "language": "python"
  }
 },
 "nbformat": 4,
 "nbformat_minor": 2,
 "cells": [
  {
   "cell_type": "code",
   "execution_count": 4,
   "metadata": {},
   "outputs": [],
   "source": [
    "from sklearn.feature_extraction.text import CountVectorizer\n",
    "from nltk.tokenize import RegexpTokenizer\n",
    "import pandas as pd \n",
    "\n",
    "lista1 = [\"Bueno\",\"Malo\",\"Malo\",\"Malo\",\"Bueno\",\"Malo\",\"Bueno\",\"Bueno\",\"Malo\",\"Malo\"]\n",
    "lista2 = [\"Lo recomendaria a todos mis amigos\",\n",
    "            \"Es el peor producto que he comprado nunca\",\n",
    "            \"Ni loco compraria este producto\",\n",
    "            \"No se lo recomendaria ni a mi enemigo\",\n",
    "            \"Es un buen producto, si que lo recomendaria\",\n",
    "            \"Me ha encantado\",\n",
    "            \"Es una basura absoluta, ni me moleste en lavarlo, lo tire directamente\",\n",
    "            \"El enemigo publico numero de la suciedad\",\n",
    "            \"Es un producto genial, se lo recomienda ria a todos los compradores\",\n",
    "            \"Hay que estar loco para comprar esta basura\"]\n",
    "\n",
    "df = pd.DataFrame({\"Sentimiento\" : lista1, \"Valoracion\" : lista2})\n",
    "\n",
    "token = RegexpTokenizer(r'[a-zA-Z0-9]+')\n",
    "cv= CountVectorizer(lowercase=True, ngram_range=(1,2), tokenizer=token.tokenize) #ngram_range secuencias de palabras\n",
    "text_counts = cv.fit_transform(df['Valoracion'])"
   ]
  },
  {
   "cell_type": "code",
   "execution_count": 5,
   "metadata": {},
   "outputs": [
    {
     "output_type": "stream",
     "name": "stdout",
     "text": [
      "  (0, 50)\t1\n  (0, 91)\t1\n  (0, 0)\t1\n  (0, 105)\t1\n  (0, 64)\t1\n  (0, 5)\t1\n  (0, 51)\t1\n  (0, 92)\t1\n  (0, 2)\t1\n  (0, 107)\t1\n  (0, 65)\t1\n  (1, 28)\t1\n  (1, 20)\t1\n  (1, 79)\t1\n  (1, 81)\t1\n  (1, 87)\t1\n  (1, 44)\t1\n  (1, 10)\t1\n  (1, 76)\t1\n  (1, 29)\t1\n  (1, 22)\t1\n  (1, 80)\t1\n  (1, 83)\t1\n  (1, 89)\t1\n  (1, 45)\t1\n  :\t:\n  (8, 57)\t1\n  (8, 12)\t1\n  (8, 110)\t1\n  (8, 82)\t1\n  (8, 39)\t1\n  (8, 52)\t1\n  (8, 95)\t1\n  (8, 97)\t1\n  (8, 106)\t1\n  (8, 58)\t1\n  (9, 87)\t1\n  (9, 54)\t1\n  (9, 6)\t1\n  (9, 42)\t1\n  (9, 34)\t1\n  (9, 77)\t1\n  (9, 13)\t1\n  (9, 32)\t1\n  (9, 43)\t1\n  (9, 88)\t1\n  (9, 35)\t1\n  (9, 56)\t1\n  (9, 78)\t1\n  (9, 14)\t1\n  (9, 33)\t1\n"
     ]
    }
   ],
   "source": [
    "print(text_counts)"
   ]
  },
  {
   "cell_type": "code",
   "execution_count": null,
   "metadata": {},
   "outputs": [],
   "source": []
  }
 ]
}