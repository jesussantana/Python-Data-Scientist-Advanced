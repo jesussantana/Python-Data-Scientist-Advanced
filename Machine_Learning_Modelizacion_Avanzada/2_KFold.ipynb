{
 "metadata": {
  "language_info": {
   "codemirror_mode": {
    "name": "ipython",
    "version": 3
   },
   "file_extension": ".py",
   "mimetype": "text/x-python",
   "name": "python",
   "nbconvert_exporter": "python",
   "pygments_lexer": "ipython3",
   "version": "3.8.5-final"
  },
  "orig_nbformat": 2,
  "kernelspec": {
   "name": "python3",
   "display_name": "Python 3",
   "language": "python"
  }
 },
 "nbformat": 4,
 "nbformat_minor": 2,
 "cells": [
  {
   "cell_type": "code",
   "execution_count": 1,
   "metadata": {},
   "outputs": [],
   "source": [
    "import pandas as pd \n",
    "from sklearn.model_selection import KFold \n",
    "from sklearn import linear_model\n",
    "from sklearn.metrics import r2_score\n",
    "import numpy as np "
   ]
  },
  {
   "cell_type": "code",
   "execution_count": 2,
   "metadata": {},
   "outputs": [],
   "source": [
    "data = pd.read_csv(\"../Tascas/Data/DelayedFlights.csv\")"
   ]
  },
  {
   "cell_type": "code",
   "execution_count": 3,
   "metadata": {},
   "outputs": [],
   "source": [
    "df = data.dropna(subset = [\"ArrDelay\"])\n",
    "df = df.sample(frac=1).head(5000)\n",
    "\n",
    "df = df.reset_index() # Importante resetear index al hacer seleccion aleatoria\n",
    "\n",
    "X = df[[\"AirTime\", \"Distance\", \"DepDelay\"]]\n",
    "Y = df[\"ArrDelay\"]"
   ]
  },
  {
   "cell_type": "code",
   "execution_count": 4,
   "metadata": {},
   "outputs": [],
   "source": [
    "#X_train, X_test, y_train, y_test =  train_test_split(X,Y, test_size=.2, random_state = 1) "
   ]
  },
  {
   "cell_type": "code",
   "execution_count": 6,
   "metadata": {},
   "outputs": [
    {
     "output_type": "execute_result",
     "data": {
      "text/plain": [
       "10"
      ]
     },
     "metadata": {},
     "execution_count": 6
    }
   ],
   "source": [
    "# Replicar el proceso anterior multiples veces \n",
    "kf = KFold(n_splits= 10, shuffle = True)  # particiones / mezcla de datos\n",
    "\n",
    "kf.get_n_splits(X) # particiones concretas"
   ]
  },
  {
   "cell_type": "code",
   "execution_count": 10,
   "metadata": {},
   "outputs": [
    {
     "output_type": "stream",
     "name": "stdout",
     "text": [
      "R2:  0.9404345684425847\nR2:  0.9408223618715742\nR2:  0.9147694918223245\nR2:  0.9000590701915655\nR2:  0.9628469425410642\nR2:  0.8949969475381534\nR2:  0.9275136497231671\nR2:  0.9330536639203687\nR2:  0.9077714926664231\nR2:  0.9354062690177961\nR2 medio:  0.9257674457735021\n"
     ]
    }
   ],
   "source": [
    "# ajustar un modelo regresion lineal\n",
    "regr = linear_model.LinearRegression()\n",
    "\n",
    "resultados = []\n",
    "\n",
    "for train_index, test_index in kf.split(X):  # indices\n",
    "    X_train, X_test = X.loc[train_index,], X.loc[test_index] # objetos validacion externa\n",
    "    y_train, y_test = Y[train_index], Y[test_index]\n",
    "    regr.fit(X_train, y_train)  #ajustar el modelo\n",
    "    predicciones = regr.predict(X_test)  # prediciones test\n",
    "    print(\"R2: \", r2_score(y_test, predicciones))  # evaluar con test\n",
    "    resultados.append(r2_score(y_test, predicciones))\n",
    "\n",
    "print(\"R2 medio: \", np.mean(resultados))"
   ]
  },
  {
   "cell_type": "code",
   "execution_count": null,
   "metadata": {},
   "outputs": [],
   "source": [
    "# como de dependiente es la evaluacion del modelo en relacion del conjunto train,test utilizado"
   ]
  }
 ]
}