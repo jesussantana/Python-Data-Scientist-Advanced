{
 "metadata": {
  "language_info": {
   "codemirror_mode": {
    "name": "ipython",
    "version": 3
   },
   "file_extension": ".py",
   "mimetype": "text/x-python",
   "name": "python",
   "nbconvert_exporter": "python",
   "pygments_lexer": "ipython3",
   "version": "3.8.2-final"
  },
  "orig_nbformat": 2,
  "kernelspec": {
   "name": "python3",
   "display_name": "Python 3",
   "language": "python"
  }
 },
 "nbformat": 4,
 "nbformat_minor": 2,
 "cells": [
  {
   "cell_type": "code",
   "execution_count": 2,
   "metadata": {
    "tags": [
     "outputPrepend"
    ]
   },
   "outputs": [
    {
     "output_type": "stream",
     "name": "stdout",
     "text": [
      "lass=\"interlanguage-link interwiki-mk\">\n        <a class=\"interlanguage-link-target\" href=\"https://mk.wikipedia.org/wiki/%D0%9F%D0%B0%D1%98%D1%82%D0%BE%D0%BD_(%D0%BF%D1%80%D0%BE%D0%B3%D1%80%D0%B0%D0%BC%D1%81%D0%BA%D0%B8_%D1%98%D0%B0%D0%B7%D0%B8%D0%BA)\" hreflang=\"mk\" lang=\"mk\" title=\"Пајтон (програмски јазик) (macedonio)\">\n         Македонски\n        </a>\n       </li>\n       <li class=\"interlanguage-link interwiki-ml\">\n        <a class=\"interlanguage-link-target\" href=\"https://ml.wikipedia.org/wiki/%E0%B4%AA%E0%B5%88%E0%B4%A4%E0%B5%8D%E0%B4%A4%E0%B5%BA_(%E0%B4%AA%E0%B5%8D%E0%B4%B0%E0%B5%8B%E0%B4%97%E0%B5%8D%E0%B4%B0%E0%B4%BE%E0%B4%AE%E0%B4%BF%E0%B4%99%E0%B5%8D%E0%B4%99%E0%B5%8D_%E0%B4%AD%E0%B4%BE%E0%B4%B7)\" hreflang=\"ml\" lang=\"ml\" title=\"പൈത്തൺ (പ്രോഗ്രാമിങ്ങ് ഭാഷ) (malayalam)\">\n         മലയാളം\n        </a>\n       </li>\n       <li class=\"interlanguage-link interwiki-mn\">\n        <a class=\"interlanguage-link-target\" href=\"https://mn.wikipedia.org/wiki/Python\" hreflang=\"mn\" lang=\"mn\" title=\"Python (mongol)\">\n         Монгол\n        </a>\n       </li>\n       <li class=\"interlanguage-link interwiki-mr\">\n        <a class=\"interlanguage-link-target\" href=\"https://mr.wikipedia.org/wiki/%E0%A4%AA%E0%A4%BE%E0%A4%AF%E0%A4%A5%E0%A5%89%E0%A4%A8\" hreflang=\"mr\" lang=\"mr\" title=\"पायथॉन (maratí)\">\n         मराठी\n        </a>\n       </li>\n       <li class=\"interlanguage-link interwiki-ms\">\n        <a class=\"interlanguage-link-target\" href=\"https://ms.wikipedia.org/wiki/Python\" hreflang=\"ms\" lang=\"ms\" title=\"Python (malayo)\">\n         Bahasa Melayu\n        </a>\n       </li>\n       <li class=\"interlanguage-link interwiki-my\">\n        <a class=\"interlanguage-link-target\" href=\"https://my.wikipedia.org/wiki/Python_(programming_language)\" hreflang=\"my\" lang=\"my\" title=\"Python (programming language) (birmano)\">\n         မြန်မာဘာသာ\n        </a>\n       </li>\n       <li class=\"interlanguage-link interwiki-nds\">\n        <a class=\"interlanguage-link-target\" href=\"https://nds.wikipedia.org/wiki/Python_(Programmeerspraak)\" hreflang=\"nds\" lang=\"nds\" title=\"Python (Programmeerspraak) (bajo alemán)\">\n         Plattdüütsch\n        </a>\n       </li>\n       <li class=\"interlanguage-link interwiki-nl\">\n        <a class=\"interlanguage-link-target\" href=\"https://nl.wikipedia.org/wiki/Python_(programmeertaal)\" hreflang=\"nl\" lang=\"nl\" title=\"Python (programmeertaal) (neerlandés)\">\n         Nederlands\n        </a>\n       </li>\n       <li class=\"interlanguage-link interwiki-nn\">\n        <a class=\"interlanguage-link-target\" href=\"https://nn.wikipedia.org/wiki/Python\" hreflang=\"nn\" lang=\"nn\" title=\"Python (noruego nynorsk)\">\n         Norsk nynorsk\n        </a>\n       </li>\n       <li class=\"interlanguage-link interwiki-no\">\n        <a class=\"interlanguage-link-target\" href=\"https://no.wikipedia.org/wiki/Python\" hreflang=\"nb\" lang=\"nb\" title=\"Python (noruego bokmal)\">\n         Norsk bokmål\n        </a>\n       </li>\n       <li class=\"interlanguage-link interwiki-nqo\">\n        <a class=\"interlanguage-link-target\" href=\"https://nqo.wikipedia.org/wiki/%DF%93%DF%8A%DF%A6%DF%8C%DF%95%DF%90%DF%A3\" hreflang=\"nqo\" lang=\"nqo\" title=\"ߓߊߦߌߕߐߣ (n’ko)\">\n         ߒߞߏ\n        </a>\n       </li>\n       <li class=\"interlanguage-link interwiki-or\">\n        <a class=\"interlanguage-link-target\" href=\"https://or.wikipedia.org/wiki/%E0%AC%AA%E0%AC%BE%E0%AC%87%E0%AC%A5%E0%AC%A8%E0%AD%8D_(%E0%AC%AA%E0%AD%8D%E0%AC%B0%E0%AD%8B%E0%AC%97%E0%AD%8D%E0%AC%B0%E0%AC%BE%E0%AC%AE%E0%AC%BF%E0%AC%82_%E0%AC%AD%E0%AC%BE%E0%AC%B7%E0%AC%BE)\" hreflang=\"or\" lang=\"or\" title=\"ପାଇଥନ୍ (ପ୍ରୋଗ୍ରାମିଂ ଭାଷା) (oriya)\">\n         ଓଡ଼ିଆ\n        </a>\n       </li>\n       <li class=\"interlanguage-link interwiki-pa\">\n        <a class=\"interlanguage-link-target\" href=\"https://pa.wikipedia.org/wiki/%E0%A8%AA%E0%A8%BE%E0%A8%88%E0%A8%A5%E0%A8%A8_(%E0%A8%AA%E0%A9%8D%E0%A8%B0%E0%A9%8B%E0%A8%97%E0%A8%B0%E0%A8%BE%E0%A8%AE%E0%A8%BF%E0%A9%B0%E0%A8%97_%E0%A8%AD%E0%A8%BE%E0%A8%B8%E0%A8%BC%E0%A8%BE)\" hreflang=\"pa\" lang=\"pa\" title=\"ਪਾਈਥਨ (ਪ੍ਰੋਗਰਾਮਿੰਗ ਭਾਸ਼ਾ) (punyabí)\">\n         ਪੰਜਾਬੀ\n        </a>\n       </li>\n       <li class=\"interlanguage-link interwiki-pl\">\n        <a class=\"interlanguage-link-target\" href=\"https://pl.wikipedia.org/wiki/Python\" hreflang=\"pl\" lang=\"pl\" title=\"Python (polaco)\">\n         Polski\n        </a>\n       </li>\n       <li class=\"interlanguage-link interwiki-pnb\">\n        <a class=\"interlanguage-link-target\" href=\"https://pnb.wikipedia.org/wiki/%D9%BE%D8%A7%D8%A6%DB%8C%D8%AA%DA%BE%D9%86_(%DA%A9%D9%85%D9%BE%DB%8C%D9%88%D9%B9%D8%B1_%D8%A8%D9%88%D9%84%DB%8C)\" hreflang=\"pnb\" lang=\"pnb\" title=\"پائیتھن (کمپیوٹر بولی) (Western Punjabi)\">\n         پنجابی\n        </a>\n       </li>\n       <li class=\"interlanguage-link interwiki-pt\">\n        <a class=\"interlanguage-link-target\" href=\"https://pt.wikipedia.org/wiki/Python\" hreflang=\"pt\" lang=\"pt\" title=\"Python (portugués)\">\n         Português\n        </a>\n       </li>\n       <li class=\"interlanguage-link interwiki-ro\">\n        <a class=\"interlanguage-link-target\" href=\"https://ro.wikipedia.org/wiki/Python\" hreflang=\"ro\" lang=\"ro\" title=\"Python (rumano)\">\n         Română\n        </a>\n       </li>\n       <li class=\"interlanguage-link interwiki-ru\">\n        <a class=\"interlanguage-link-target\" href=\"https://ru.wikipedia.org/wiki/Python\" hreflang=\"ru\" lang=\"ru\" title=\"Python (ruso)\">\n         Русский\n        </a>\n       </li>\n       <li class=\"interlanguage-link interwiki-sah\">\n        <a class=\"interlanguage-link-target\" href=\"https://sah.wikipedia.org/wiki/Python\" hreflang=\"sah\" lang=\"sah\" title=\"Python (sakha)\">\n         Саха тыла\n        </a>\n       </li>\n       <li class=\"interlanguage-link interwiki-sat\">\n        <a class=\"interlanguage-link-target\" href=\"https://sat.wikipedia.org/wiki/%E1%B1%AF%E1%B1%9F%E1%B1%AD%E1%B1%9B%E1%B1%B7%E1%B1%9A%E1%B1%B1(%E1%B1%AF%E1%B1%A8%E1%B1%B3%E1%B1%9C%E1%B1%BD%E1%B1%A8%E1%B1%9F%E1%B1%A2%E1%B1%A4%E1%B1%9D_%E1%B1%AF%E1%B1%9F%E1%B1%B9%E1%B1%A8%E1%B1%A5%E1%B1%A4)\" hreflang=\"sat\" lang=\"sat\" title=\"ᱯᱟᱭᱛᱷᱚᱱ(ᱯᱨᱳᱜᱽᱨᱟᱢᱤᱝ ᱯᱟᱹᱨᱥᱤ) (santali)\">\n         ᱥᱟᱱᱛᱟᱲᱤ\n        </a>\n       </li>\n       <li class=\"interlanguage-link interwiki-sco\">\n        <a class=\"interlanguage-link-target\" href=\"https://sco.wikipedia.org/wiki/Python_(programmin_leid)\" hreflang=\"sco\" lang=\"sco\" title=\"Python (programmin leid) (escocés)\">\n         Scots\n        </a>\n       </li>\n       <li class=\"interlanguage-link interwiki-sh\">\n        <a class=\"interlanguage-link-target\" href=\"https://sh.wikipedia.org/wiki/Python_programski_jezik\" hreflang=\"sh\" lang=\"sh\" title=\"Python programski jezik (serbocroata)\">\n         Srpskohrvatski / српскохрватски\n        </a>\n       </li>\n       <li class=\"interlanguage-link interwiki-shn\">\n        <a class=\"interlanguage-link-target\" href=\"https://shn.wikipedia.org/wiki/Python_(programming_language)\" hreflang=\"shn\" lang=\"shn\" title=\"Python (programming language) (shan)\">\n         ၽႃႇသႃႇတႆး\n        </a>\n       </li>\n       <li class=\"interlanguage-link interwiki-si\">\n        <a class=\"interlanguage-link-target\" href=\"https://si.wikipedia.org/wiki/%E0%B6%B4%E0%B6%BA%E0%B7%92%E0%B6%AD%E0%B6%B1%E0%B7%8A\" hreflang=\"si\" lang=\"si\" title=\"පයිතන් (cingalés)\">\n         සිංහල\n        </a>\n       </li>\n       <li class=\"interlanguage-link interwiki-simple\">\n        <a class=\"interlanguage-link-target\" href=\"https://simple.wikipedia.org/wiki/Python_(programming_language)\" hreflang=\"en-simple\" lang=\"en-simple\" title=\"Python (programming language) (Simple English)\">\n         Simple English\n        </a>\n       </li>\n       <li class=\"interlanguage-link interwiki-sk\">\n        <a class=\"interlanguage-link-target\" href=\"https://sk.wikipedia.org/wiki/Python_(programovac%C3%AD_jazyk)\" hreflang=\"sk\" lang=\"sk\" title=\"Python (programovací jazyk) (eslovaco)\">\n         Slovenčina\n        </a>\n       </li>\n       <li class=\"interlanguage-link interwiki-sl\">\n        <a class=\"interlanguage-link-target\" href=\"https://sl.wikipedia.org/wiki/Python_(programski_jezik)\" hreflang=\"sl\" lang=\"sl\" title=\"Python (programski jezik) (esloveno)\">\n         Slovenščina\n        </a>\n       </li>\n       <li class=\"interlanguage-link interwiki-sq\">\n        <a class=\"interlanguage-link-target\" href=\"https://sq.wikipedia.org/wiki/Python\" hreflang=\"sq\" lang=\"sq\" title=\"Python (albanés)\">\n         Shqip\n        </a>\n       </li>\n       <li class=\"interlanguage-link interwiki-sr\">\n        <a class=\"interlanguage-link-target\" href=\"https://sr.wikipedia.org/wiki/Python_(%D0%BF%D1%80%D0%BE%D0%B3%D1%80%D0%B0%D0%BC%D1%81%D0%BA%D0%B8_%D1%98%D0%B5%D0%B7%D0%B8%D0%BA)\" hreflang=\"sr\" lang=\"sr\" title=\"Python (програмски језик) (serbio)\">\n         Српски / srpski\n        </a>\n       </li>\n       <li class=\"interlanguage-link interwiki-sv\">\n        <a class=\"interlanguage-link-target\" href=\"https://sv.wikipedia.org/wiki/Python_(programspr%C3%A5k)\" hreflang=\"sv\" lang=\"sv\" title=\"Python (programspråk) (sueco)\">\n         Svenska\n        </a>\n       </li>\n       <li class=\"interlanguage-link interwiki-sw\">\n        <a class=\"interlanguage-link-target\" href=\"https://sw.wikipedia.org/wiki/Python_(Lugha_ya_programu)\" hreflang=\"sw\" lang=\"sw\" title=\"Python (Lugha ya programu) (suajili)\">\n         Kiswahili\n        </a>\n       </li>\n       <li class=\"interlanguage-link interwiki-ta\">\n        <a class=\"interlanguage-link-target\" href=\"https://ta.wikipedia.org/wiki/%E0%AE%AA%E0%AF%88%E0%AE%A4%E0%AF%8D%E0%AE%A4%E0%AE%BE%E0%AE%A9%E0%AF%8D\" hreflang=\"ta\" lang=\"ta\" title=\"பைத்தான் (tamil)\">\n         தமிழ்\n        </a>\n       </li>\n       <li class=\"interlanguage-link interwiki-te\">\n        <a class=\"interlanguage-link-target\" href=\"https://te.wikipedia.org/wiki/%E0%B0%AA%E0%B1%88%E0%B0%A5%E0%B0%BE%E0%B0%A8%E0%B1%8D_(%E0%B0%95%E0%B0%82%E0%B0%AA%E0%B1%8D%E0%B0%AF%E0%B1%82%E0%B0%9F%E0%B0%B0%E0%B1%8D_%E0%B0%AD%E0%B0%BE%E0%B0%B7)\" hreflang=\"te\" lang=\"te\" title=\"పైథాన్ (కంప్యూటర్ భాష) (telugu)\">\n         తెలుగు\n        </a>\n       </li>\n       <li class=\"interlanguage-link interwiki-tg\">\n        <a class=\"interlanguage-link-target\" href=\"https://tg.wikipedia.org/wiki/Python\" hreflang=\"tg\" lang=\"tg\" title=\"Python (tayiko)\">\n         Тоҷикӣ\n        </a>\n       </li>\n       <li class=\"interlanguage-link interwiki-th\">\n        <a class=\"interlanguage-link-target\" href=\"https://th.wikipedia.org/wiki/%E0%B9%84%E0%B8%9E%E0%B8%97%E0%B8%AD%E0%B8%99_(%E0%B8%A0%E0%B8%B2%E0%B8%A9%E0%B8%B2%E0%B9%82%E0%B8%9B%E0%B8%A3%E0%B9%81%E0%B8%81%E0%B8%A3%E0%B8%A1)\" hreflang=\"th\" lang=\"th\" title=\"ไพทอน (ภาษาโปรแกรม) (tailandés)\">\n         ไทย\n        </a>\n       </li>\n       <li class=\"interlanguage-link interwiki-tl\">\n        <a class=\"interlanguage-link-target\" href=\"https://tl.wikipedia.org/wiki/Python_(wikang_pamprograma)\" hreflang=\"tl\" lang=\"tl\" title=\"Python (wikang pamprograma) (tagalo)\">\n         Tagalog\n        </a>\n       </li>\n       <li class=\"interlanguage-link interwiki-tr\">\n        <a class=\"interlanguage-link-target\" href=\"https://tr.wikipedia.org/wiki/Python_(programlama_dili)\" hreflang=\"tr\" lang=\"tr\" title=\"Python (programlama dili) (turco)\">\n         Türkçe\n        </a>\n       </li>\n       <li class=\"interlanguage-link interwiki-tt\">\n        <a class=\"interlanguage-link-target\" href=\"https://tt.wikipedia.org/wiki/Python\" hreflang=\"tt\" lang=\"tt\" title=\"Python (tártaro)\">\n         Татарча/tatarça\n        </a>\n       </li>\n       <li class=\"interlanguage-link interwiki-ug\">\n        <a class=\"interlanguage-link-target\" href=\"https://ug.wikipedia.org/wiki/%D9%BE%D8%A7%D9%8A%D8%B3%D9%88%D9%86\" hreflang=\"ug\" lang=\"ug\" title=\"پايسون (uigur)\">\n         ئۇيغۇرچە / Uyghurche\n        </a>\n       </li>\n       <li class=\"interlanguage-link interwiki-uk\">\n        <a class=\"interlanguage-link-target\" href=\"https://uk.wikipedia.org/wiki/Python\" hreflang=\"uk\" lang=\"uk\" title=\"Python (ucraniano)\">\n         Українська\n        </a>\n       </li>\n       <li class=\"interlanguage-link interwiki-ur\">\n        <a class=\"interlanguage-link-target\" href=\"https://ur.wikipedia.org/wiki/%D9%BE%D8%A7%D8%A6%DB%8C%D8%AA%DA%BE%D9%86_(%D9%BE%D8%B1%D9%88%DA%AF%D8%B1%D8%A7%D9%85%D9%86%DA%AF_%D8%B2%D8%A8%D8%A7%D9%86)\" hreflang=\"ur\" lang=\"ur\" title=\"پائیتھن (پروگرامنگ زبان) (urdu)\">\n         اردو\n        </a>\n       </li>\n       <li class=\"interlanguage-link interwiki-uz\">\n        <a class=\"interlanguage-link-target\" href=\"https://uz.wikipedia.org/wiki/Python\" hreflang=\"uz\" lang=\"uz\" title=\"Python (uzbeko)\">\n         Oʻzbekcha/ўзбекча\n        </a>\n       </li>\n       <li class=\"interlanguage-link interwiki-vi\">\n        <a class=\"interlanguage-link-target\" href=\"https://vi.wikipedia.org/wiki/Python_(ng%C3%B4n_ng%E1%BB%AF_l%E1%BA%ADp_tr%C3%ACnh)\" hreflang=\"vi\" lang=\"vi\" title=\"Python (ngôn ngữ lập trình) (vietnamita)\">\n         Tiếng Việt\n        </a>\n       </li>\n       <li class=\"interlanguage-link interwiki-wa\">\n        <a class=\"interlanguage-link-target\" href=\"https://wa.wikipedia.org/wiki/Python_(lingaedje_%C3%A9ndjolike)\" hreflang=\"wa\" lang=\"wa\" title=\"Python (lingaedje éndjolike) (valón)\">\n         Walon\n        </a>\n       </li>\n       <li class=\"interlanguage-link interwiki-war\">\n        <a class=\"interlanguage-link-target\" href=\"https://war.wikipedia.org/wiki/Python_(programming_language)\" hreflang=\"war\" lang=\"war\" title=\"Python (programming language) (waray)\">\n         Winaray\n        </a>\n       </li>\n       <li class=\"interlanguage-link interwiki-wuu\">\n        <a class=\"interlanguage-link-target\" href=\"https://wuu.wikipedia.org/wiki/Python\" hreflang=\"wuu\" lang=\"wuu\" title=\"Python (chino wu)\">\n         吴语\n        </a>\n       </li>\n       <li class=\"interlanguage-link interwiki-zh\">\n        <a class=\"interlanguage-link-target\" href=\"https://zh.wikipedia.org/wiki/Python\" hreflang=\"zh\" lang=\"zh\" title=\"Python (chino)\">\n         中文\n        </a>\n       </li>\n       <li class=\"interlanguage-link interwiki-zh-min-nan\">\n        <a class=\"interlanguage-link-target\" href=\"https://zh-min-nan.wikipedia.org/wiki/Python\" hreflang=\"nan\" lang=\"nan\" title=\"Python (Chinese (Min Nan))\">\n         Bân-lâm-gú\n        </a>\n       </li>\n       <li class=\"interlanguage-link interwiki-zh-yue\">\n        <a class=\"interlanguage-link-target\" href=\"https://zh-yue.wikipedia.org/wiki/Python\" hreflang=\"yue\" lang=\"yue\" title=\"Python (Cantonese)\">\n         粵語\n        </a>\n       </li>\n      </ul>\n      <div class=\"after-portlet after-portlet-lang\">\n       <span class=\"wb-langlinks-edit wb-langlinks-link\">\n        <a class=\"wbc-editpage\" href=\"https://www.wikidata.org/wiki/Special:EntityPage/Q28865#sitelinks-wikipedia\" title=\"Editar enlaces interlingüísticos\">\n         Editar enlaces\n        </a>\n       </span>\n      </div>\n     </div>\n    </nav>\n   </div>\n  </div>\n  <footer class=\"mw-footer\" id=\"footer\" role=\"contentinfo\">\n   <ul id=\"footer-info\">\n    <li id=\"footer-info-lastmod\">\n     Esta página se editó por última vez el 16 mar 2021 a las 17:42.\n    </li>\n    <li id=\"footer-info-copyright\">\n     El texto está disponible bajo la\n     <a href=\"//es.wikipedia.org/wiki/Wikipedia:Texto_de_la_Licencia_Creative_Commons_Atribuci%C3%B3n-CompartirIgual_3.0_Unported\" rel=\"license\">\n      Licencia Creative Commons Atribución Compartir Igual 3.0\n     </a>\n     <a href=\"http://creativecommons.org/licenses/by-sa/3.0/\" rel=\"license\" style=\"display:none;\">\n     </a>\n     ;\npueden aplicarse cláusulas adicionales. Al usar este sitio, usted acepta nuestros\n     <a href=\"//wikimediafoundation.org/wiki/Terms_of_Use\">\n      términos de uso\n     </a>\n     y nuestra\n     <a href=\"//wikimediafoundation.org/wiki/Privacy_policy\">\n      política de privacidad\n     </a>\n     .\n     <br/>\n     Wikipedia® es una marca registrada de la\n     <a href=\"//www.wikimediafoundation.org/\">\n      Fundación Wikimedia, Inc.\n     </a>\n     , una organización sin ánimo de lucro.\n    </li>\n   </ul>\n   <ul id=\"footer-places\">\n    <li id=\"footer-places-privacy\">\n     <a class=\"extiw\" href=\"https://meta.wikimedia.org/wiki/Privacy_policy/es\" title=\"m:Privacy policy/es\">\n      Política de privacidad\n     </a>\n    </li>\n    <li id=\"footer-places-about\">\n     <a href=\"/wiki/Wikipedia:Acerca_de\" title=\"Wikipedia:Acerca de\">\n      Acerca de Wikipedia\n     </a>\n    </li>\n    <li id=\"footer-places-disclaimer\">\n     <a href=\"/wiki/Wikipedia:Limitaci%C3%B3n_general_de_responsabilidad\" title=\"Wikipedia:Limitación general de responsabilidad\">\n      Limitación de responsabilidad\n     </a>\n    </li>\n    <li id=\"footer-places-mobileview\">\n     <a class=\"noprint stopMobileRedirectToggle\" href=\"//es.m.wikipedia.org/w/index.php?title=Python&amp;mobileaction=toggle_view_mobile\">\n      Versión para móviles\n     </a>\n    </li>\n    <li id=\"footer-places-developers\">\n     <a href=\"https://www.mediawiki.org/wiki/Special:MyLanguage/How_to_contribute\">\n      Desarrolladores\n     </a>\n    </li>\n    <li id=\"footer-places-statslink\">\n     <a href=\"https://stats.wikimedia.org/#/es.wikipedia.org\">\n      Estadísticas\n     </a>\n    </li>\n    <li id=\"footer-places-cookiestatement\">\n     <a href=\"https://foundation.wikimedia.org/wiki/Cookie_statement/es\">\n      Declaración de cookies\n     </a>\n    </li>\n   </ul>\n   <ul class=\"noprint\" id=\"footer-icons\">\n    <li id=\"footer-copyrightico\">\n     <a href=\"https://wikimediafoundation.org/\">\n      <img alt=\"Wikimedia Foundation\" height=\"31\" loading=\"lazy\" src=\"/static/images/footer/wikimedia-button.png\" srcset=\"/static/images/footer/wikimedia-button-1.5x.png 1.5x, /static/images/footer/wikimedia-button-2x.png 2x\" width=\"88\"/>\n     </a>\n    </li>\n    <li id=\"footer-poweredbyico\">\n     <a href=\"https://www.mediawiki.org/\">\n      <img alt=\"Powered by MediaWiki\" height=\"31\" loading=\"lazy\" src=\"/static/images/footer/poweredby_mediawiki_88x31.png\" srcset=\"/static/images/footer/poweredby_mediawiki_132x47.png 1.5x, /static/images/footer/poweredby_mediawiki_176x62.png 2x\" width=\"88\"/>\n     </a>\n    </li>\n   </ul>\n   <div style=\"clear: both;\">\n   </div>\n  </footer>\n  <script>\n   (RLQ=window.RLQ||[]).push(function(){mw.config.set({\"wgPageParseReport\":{\"limitreport\":{\"cputime\":\"1.115\",\"walltime\":\"1.364\",\"ppvisitednodes\":{\"value\":4118,\"limit\":1000000},\"postexpandincludesize\":{\"value\":62779,\"limit\":2097152},\"templateargumentsize\":{\"value\":5395,\"limit\":2097152},\"expansiondepth\":{\"value\":24,\"limit\":40},\"expensivefunctioncount\":{\"value\":6,\"limit\":500},\"unstrip-depth\":{\"value\":0,\"limit\":20},\"unstrip-size\":{\"value\":92518,\"limit\":5000000},\"entityaccesscount\":{\"value\":7,\"limit\":400},\"timingprofile\":[\"100.00% 1058.846      1 -total\",\" 45.16%  478.223      1 Plantilla:Ficha_de_lenguaje_de_programación\",\" 44.43%  470.433      1 Plantilla:Ficha\",\" 37.98%  402.119     14 Plantilla:Propiedad\",\" 26.04%  275.746      1 Plantilla:Control_de_autoridades\",\" 13.36%  141.480      1 Plantilla:Listaref\",\"  9.34%   98.921     19 Plantilla:Cita_web\",\"  3.57%   37.819      1 Plantilla:Fecha_de_lanzamiento\",\"  2.51%   26.582      3 Plantilla:Otros_usos\",\"  2.07%   21.886      3 Plantilla:Texto_de_la_coletilla_del_título\"]},\"scribunto\":{\"limitreport-timeusage\":{\"value\":\"0.648\",\"limit\":\"10.000\"},\"limitreport-memusage\":{\"value\":12059653,\"limit\":52428800}},\"cachereport\":{\"origin\":\"mw1272\",\"timestamp\":\"20210318002050\",\"ttl\":3600,\"transientcontent\":true}}});});\n  </script>\n  <script type=\"application/ld+json\">\n   {\"@context\":\"https:\\/\\/schema.org\",\"@type\":\"Article\",\"name\":\"Python\",\"url\":\"https:\\/\\/es.wikipedia.org\\/wiki\\/Python\",\"sameAs\":\"http:\\/\\/www.wikidata.org\\/entity\\/Q28865\",\"mainEntity\":\"http:\\/\\/www.wikidata.org\\/entity\\/Q28865\",\"author\":{\"@type\":\"Organization\",\"name\":\"Colaboradores de los proyectos Wikimedia\"},\"publisher\":{\"@type\":\"Organization\",\"name\":\"Wikimedia Foundation, Inc.\",\"logo\":{\"@type\":\"ImageObject\",\"url\":\"https:\\/\\/www.wikimedia.org\\/static\\/images\\/wmf-hor-googpub.png\"}},\"datePublished\":\"2002-02-13T07:52:06Z\",\"dateModified\":\"2021-03-16T17:42:45Z\",\"headline\":\"lenguaje de programaci\\u00f3n de alto nivel\"}\n  </script>\n  <script>\n   (RLQ=window.RLQ||[]).push(function(){mw.config.set({\"wgBackendResponseTime\":244,\"wgHostname\":\"mw1264\"});});\n  </script>\n </body>\n</html>\n"
     ]
    }
   ],
   "source": [
    "# pip install beautifulsoup4\n",
    "from bs4 import BeautifulSoup\n",
    "import requests\n",
    "\n",
    "pagina = requests.get(\"https://es.wikipedia.org/wiki/Python\")\n",
    "soup = BeautifulSoup(pagina.content, 'html.parser')\n",
    "\n",
    "print(soup.prettify())"
   ]
  },
  {
   "cell_type": "code",
   "execution_count": 4,
   "metadata": {},
   "outputs": [
    {
     "output_type": "execute_result",
     "data": {
      "text/plain": [
       "-link interwiki-ja\"><a class=\"interlanguage-link-target\" href=\"https://ja.wikipedia.org/wiki/Python\" hreflang=\"ja\" lang=\"ja\" title=\"Python (japonés)\">日本語</a></li><li class=\"interlanguage-link interwiki-jbo\"><a class=\"interlanguage-link-target\" href=\"https://jbo.wikipedia.org/wiki/paiton\" hreflang=\"jbo\" lang=\"jbo\" title=\"paiton (lojban)\">La .lojban.</a></li><li class=\"interlanguage-link interwiki-ka\"><a class=\"interlanguage-link-target\" href=\"https://ka.wikipedia.org/wiki/%E1%83%9E%E1%83%90%E1%83%98%E1%83%97%E1%83%9D%E1%83%9C%E1%83%98_(%E1%83%9E%E1%83%A0%E1%83%9D%E1%83%92%E1%83%A0%E1%83%90%E1%83%9B%E1%83%98%E1%83%A0%E1%83%94%E1%83%91%E1%83%98%E1%83%A1_%E1%83%94%E1%83%9C%E1%83%90)\" hreflang=\"ka\" lang=\"ka\" title=\"პაითონი (პროგრამირების ენა) (georgiano)\">ქართული</a></li><li class=\"interlanguage-link interwiki-kk\"><a class=\"interlanguage-link-target\" href=\"https://kk.wikipedia.org/wiki/Python\" hreflang=\"kk\" lang=\"kk\" title=\"Python (kazajo)\">Қазақша</a></li><li class=\"interlanguage-link interwiki-km\"><a class=\"interlanguage-link-target\" href=\"https://km.wikipedia.org/wiki/%E1%9E%95%E1%9E%B6%E1%9E%99%E1%9E%90%E1%9E%BB%E1%9E%93\" hreflang=\"km\" lang=\"km\" title=\"ផាយថុន (jemer)\">ភាសាខ្មែរ</a></li><li class=\"interlanguage-link interwiki-ko\"><a class=\"interlanguage-link-target\" href=\"https://ko.wikipedia.org/wiki/%ED%8C%8C%EC%9D%B4%EC%8D%AC\" hreflang=\"ko\" lang=\"ko\" title=\"파이썬 (coreano)\">한국어</a></li><li class=\"interlanguage-link interwiki-ku\"><a class=\"interlanguage-link-target\" href=\"https://ku.wikipedia.org/wiki/Python_(ziman%C3%AA_programkirin%C3%AA)\" hreflang=\"ku\" lang=\"ku\" title=\"Python (zimanê programkirinê) (kurdo)\">Kurdî</a></li><li class=\"interlanguage-link interwiki-ky\"><a class=\"interlanguage-link-target\" href=\"https://ky.wikipedia.org/wiki/Python\" hreflang=\"ky\" lang=\"ky\" title=\"Python (kirguís)\">Кыргызча</a></li><li class=\"interlanguage-link interwiki-la\"><a class=\"interlanguage-link-target\" href=\"https://la.wikipedia.org/wiki/Python_(lingua_programmandi)\" hreflang=\"la\" lang=\"la\" title=\"Python (lingua programmandi) (latín)\">Latina</a></li><li class=\"interlanguage-link interwiki-lmo\"><a class=\"interlanguage-link-target\" href=\"https://lmo.wikipedia.org/wiki/Python\" hreflang=\"lmo\" lang=\"lmo\" title=\"Python (Lombard)\">Lumbaart</a></li><li class=\"interlanguage-link interwiki-lt\"><a class=\"interlanguage-link-target\" href=\"https://lt.wikipedia.org/wiki/Python\" hreflang=\"lt\" lang=\"lt\" title=\"Python (lituano)\">Lietuvių</a></li><li class=\"interlanguage-link interwiki-lv\"><a class=\"interlanguage-link-target\" href=\"https://lv.wikipedia.org/wiki/Python\" hreflang=\"lv\" lang=\"lv\" title=\"Python (letón)\">Latviešu</a></li><li class=\"interlanguage-link interwiki-mk\"><a class=\"interlanguage-link-target\" href=\"https://mk.wikipedia.org/wiki/%D0%9F%D0%B0%D1%98%D1%82%D0%BE%D0%BD_(%D0%BF%D1%80%D0%BE%D0%B3%D1%80%D0%B0%D0%BC%D1%81%D0%BA%D0%B8_%D1%98%D0%B0%D0%B7%D0%B8%D0%BA)\" hreflang=\"mk\" lang=\"mk\" title=\"Пајтон (програмски јазик) (macedonio)\">Македонски</a></li><li class=\"interlanguage-link interwiki-ml\"><a class=\"interlanguage-link-target\" href=\"https://ml.wikipedia.org/wiki/%E0%B4%AA%E0%B5%88%E0%B4%A4%E0%B5%8D%E0%B4%A4%E0%B5%BA_(%E0%B4%AA%E0%B5%8D%E0%B4%B0%E0%B5%8B%E0%B4%97%E0%B5%8D%E0%B4%B0%E0%B4%BE%E0%B4%AE%E0%B4%BF%E0%B4%99%E0%B5%8D%E0%B4%99%E0%B5%8D_%E0%B4%AD%E0%B4%BE%E0%B4%B7)\" hreflang=\"ml\" lang=\"ml\" title=\"പൈത്തൺ (പ്രോഗ്രാമിങ്ങ് ഭാഷ) (malayalam)\">മലയാളം</a></li><li class=\"interlanguage-link interwiki-mn\"><a class=\"interlanguage-link-target\" href=\"https://mn.wikipedia.org/wiki/Python\" hreflang=\"mn\" lang=\"mn\" title=\"Python (mongol)\">Монгол</a></li><li class=\"interlanguage-link interwiki-mr\"><a class=\"interlanguage-link-target\" href=\"https://mr.wikipedia.org/wiki/%E0%A4%AA%E0%A4%BE%E0%A4%AF%E0%A4%A5%E0%A5%89%E0%A4%A8\" hreflang=\"mr\" lang=\"mr\" title=\"पायथॉन (maratí)\">मराठी</a></li><li class=\"interlanguage-link interwiki-ms\"><a class=\"interlanguage-link-target\" href=\"https://ms.wikipedia.org/wiki/Python\" hreflang=\"ms\" lang=\"ms\" title=\"Python (malayo)\">Bahasa Melayu</a></li><li class=\"interlanguage-link interwiki-my\"><a class=\"interlanguage-link-target\" href=\"https://my.wikipedia.org/wiki/Python_(programming_language)\" hreflang=\"my\" lang=\"my\" title=\"Python (programming language) (birmano)\">မြန်မာဘာသာ</a></li><li class=\"interlanguage-link interwiki-nds\"><a class=\"interlanguage-link-target\" href=\"https://nds.wikipedia.org/wiki/Python_(Programmeerspraak)\" hreflang=\"nds\" lang=\"nds\" title=\"Python (Programmeerspraak) (bajo alemán)\">Plattdüütsch</a></li><li class=\"interlanguage-link interwiki-nl\"><a class=\"interlanguage-link-target\" href=\"https://nl.wikipedia.org/wiki/Python_(programmeertaal)\" hreflang=\"nl\" lang=\"nl\" title=\"Python (programmeertaal) (neerlandés)\">Nederlands</a></li><li class=\"interlanguage-link interwiki-nn\"><a class=\"interlanguage-link-target\" href=\"https://nn.wikipedia.org/wiki/Python\" hreflang=\"nn\" lang=\"nn\" title=\"Python (noruego nynorsk)\">Norsk nynorsk</a></li><li class=\"interlanguage-link interwiki-no\"><a class=\"interlanguage-link-target\" href=\"https://no.wikipedia.org/wiki/Python\" hreflang=\"nb\" lang=\"nb\" title=\"Python (noruego bokmal)\">Norsk bokmål</a></li><li class=\"interlanguage-link interwiki-nqo\"><a class=\"interlanguage-link-target\" href=\"https://nqo.wikipedia.org/wiki/%DF%93%DF%8A%DF%A6%DF%8C%DF%95%DF%90%DF%A3\" hreflang=\"nqo\" lang=\"nqo\" title=\"ߓߊߦߌߕߐߣ (n’ko)\">ߒߞߏ</a></li><li class=\"interlanguage-link interwiki-or\"><a class=\"interlanguage-link-target\" href=\"https://or.wikipedia.org/wiki/%E0%AC%AA%E0%AC%BE%E0%AC%87%E0%AC%A5%E0%AC%A8%E0%AD%8D_(%E0%AC%AA%E0%AD%8D%E0%AC%B0%E0%AD%8B%E0%AC%97%E0%AD%8D%E0%AC%B0%E0%AC%BE%E0%AC%AE%E0%AC%BF%E0%AC%82_%E0%AC%AD%E0%AC%BE%E0%AC%B7%E0%AC%BE)\" hreflang=\"or\" lang=\"or\" title=\"ପାଇଥନ୍ (ପ୍ରୋଗ୍ରାମିଂ ଭାଷା) (oriya)\">ଓଡ଼ିଆ</a></li><li class=\"interlanguage-link interwiki-pa\"><a class=\"interlanguage-link-target\" href=\"https://pa.wikipedia.org/wiki/%E0%A8%AA%E0%A8%BE%E0%A8%88%E0%A8%A5%E0%A8%A8_(%E0%A8%AA%E0%A9%8D%E0%A8%B0%E0%A9%8B%E0%A8%97%E0%A8%B0%E0%A8%BE%E0%A8%AE%E0%A8%BF%E0%A9%B0%E0%A8%97_%E0%A8%AD%E0%A8%BE%E0%A8%B8%E0%A8%BC%E0%A8%BE)\" hreflang=\"pa\" lang=\"pa\" title=\"ਪਾਈਥਨ (ਪ੍ਰੋਗਰਾਮਿੰਗ ਭਾਸ਼ਾ) (punyabí)\">ਪੰਜਾਬੀ</a></li><li class=\"interlanguage-link interwiki-pl\"><a class=\"interlanguage-link-target\" href=\"https://pl.wikipedia.org/wiki/Python\" hreflang=\"pl\" lang=\"pl\" title=\"Python (polaco)\">Polski</a></li><li class=\"interlanguage-link interwiki-pnb\"><a class=\"interlanguage-link-target\" href=\"https://pnb.wikipedia.org/wiki/%D9%BE%D8%A7%D8%A6%DB%8C%D8%AA%DA%BE%D9%86_(%DA%A9%D9%85%D9%BE%DB%8C%D9%88%D9%B9%D8%B1_%D8%A8%D9%88%D9%84%DB%8C)\" hreflang=\"pnb\" lang=\"pnb\" title=\"پائیتھن (کمپیوٹر بولی) (Western Punjabi)\">پنجابی</a></li><li class=\"interlanguage-link interwiki-pt\"><a class=\"interlanguage-link-target\" href=\"https://pt.wikipedia.org/wiki/Python\" hreflang=\"pt\" lang=\"pt\" title=\"Python (portugués)\">Português</a></li><li class=\"interlanguage-link interwiki-ro\"><a class=\"interlanguage-link-target\" href=\"https://ro.wikipedia.org/wiki/Python\" hreflang=\"ro\" lang=\"ro\" title=\"Python (rumano)\">Română</a></li><li class=\"interlanguage-link interwiki-ru\"><a class=\"interlanguage-link-target\" href=\"https://ru.wikipedia.org/wiki/Python\" hreflang=\"ru\" lang=\"ru\" title=\"Python (ruso)\">Русский</a></li><li class=\"interlanguage-link interwiki-sah\"><a class=\"interlanguage-link-target\" href=\"https://sah.wikipedia.org/wiki/Python\" hreflang=\"sah\" lang=\"sah\" title=\"Python (sakha)\">Саха тыла</a></li><li class=\"interlanguage-link interwiki-sat\"><a class=\"interlanguage-link-target\" href=\"https://sat.wikipedia.org/wiki/%E1%B1%AF%E1%B1%9F%E1%B1%AD%E1%B1%9B%E1%B1%B7%E1%B1%9A%E1%B1%B1(%E1%B1%AF%E1%B1%A8%E1%B1%B3%E1%B1%9C%E1%B1%BD%E1%B1%A8%E1%B1%9F%E1%B1%A2%E1%B1%A4%E1%B1%9D_%E1%B1%AF%E1%B1%9F%E1%B1%B9%E1%B1%A8%E1%B1%A5%E1%B1%A4)\" hreflang=\"sat\" lang=\"sat\" title=\"ᱯᱟᱭᱛᱷᱚᱱ(ᱯᱨᱳᱜᱽᱨᱟᱢᱤᱝ ᱯᱟᱹᱨᱥᱤ) (santali)\">ᱥᱟᱱᱛᱟᱲᱤ</a></li><li class=\"interlanguage-link interwiki-sco\"><a class=\"interlanguage-link-target\" href=\"https://sco.wikipedia.org/wiki/Python_(programmin_leid)\" hreflang=\"sco\" lang=\"sco\" title=\"Python (programmin leid) (escocés)\">Scots</a></li><li class=\"interlanguage-link interwiki-sh\"><a class=\"interlanguage-link-target\" href=\"https://sh.wikipedia.org/wiki/Python_programski_jezik\" hreflang=\"sh\" lang=\"sh\" title=\"Python programski jezik (serbocroata)\">Srpskohrvatski / српскохрватски</a></li><li class=\"interlanguage-link interwiki-shn\"><a class=\"interlanguage-link-target\" href=\"https://shn.wikipedia.org/wiki/Python_(programming_language)\" hreflang=\"shn\" lang=\"shn\" title=\"Python (programming language) (shan)\">ၽႃႇသႃႇတႆး </a></li><li class=\"interlanguage-link interwiki-si\"><a class=\"interlanguage-link-target\" href=\"https://si.wikipedia.org/wiki/%E0%B6%B4%E0%B6%BA%E0%B7%92%E0%B6%AD%E0%B6%B1%E0%B7%8A\" hreflang=\"si\" lang=\"si\" title=\"පයිතන් (cingalés)\">සිංහල</a></li><li class=\"interlanguage-link interwiki-simple\"><a class=\"interlanguage-link-target\" href=\"https://simple.wikipedia.org/wiki/Python_(programming_language)\" hreflang=\"en-simple\" lang=\"en-simple\" title=\"Python (programming language) (Simple English)\">Simple English</a></li><li class=\"interlanguage-link interwiki-sk\"><a class=\"interlanguage-link-target\" href=\"https://sk.wikipedia.org/wiki/Python_(programovac%C3%AD_jazyk)\" hreflang=\"sk\" lang=\"sk\" title=\"Python (programovací jazyk) (eslovaco)\">Slovenčina</a></li><li class=\"interlanguage-link interwiki-sl\"><a class=\"interlanguage-link-target\" href=\"https://sl.wikipedia.org/wiki/Python_(programski_jezik)\" hreflang=\"sl\" lang=\"sl\" title=\"Python (programski jezik) (esloveno)\">Slovenščina</a></li><li class=\"interlanguage-link interwiki-sq\"><a class=\"interlanguage-link-target\" href=\"https://sq.wikipedia.org/wiki/Python\" hreflang=\"sq\" lang=\"sq\" title=\"Python (albanés)\">Shqip</a></li><li class=\"interlanguage-link interwiki-sr\"><a class=\"interlanguage-link-target\" href=\"https://sr.wikipedia.org/wiki/Python_(%D0%BF%D1%80%D0%BE%D0%B3%D1%80%D0%B0%D0%BC%D1%81%D0%BA%D0%B8_%D1%98%D0%B5%D0%B7%D0%B8%D0%BA)\" hreflang=\"sr\" lang=\"sr\" title=\"Python (програмски језик) (serbio)\">Српски / srpski</a></li><li class=\"interlanguage-link interwiki-sv\"><a class=\"interlanguage-link-target\" href=\"https://sv.wikipedia.org/wiki/Python_(programspr%C3%A5k)\" hreflang=\"sv\" lang=\"sv\" title=\"Python (programspråk) (sueco)\">Svenska</a></li><li class=\"interlanguage-link interwiki-sw\"><a class=\"interlanguage-link-target\" href=\"https://sw.wikipedia.org/wiki/Python_(Lugha_ya_programu)\" hreflang=\"sw\" lang=\"sw\" title=\"Python (Lugha ya programu) (suajili)\">Kiswahili</a></li><li class=\"interlanguage-link interwiki-ta\"><a class=\"interlanguage-link-target\" href=\"https://ta.wikipedia.org/wiki/%E0%AE%AA%E0%AF%88%E0%AE%A4%E0%AF%8D%E0%AE%A4%E0%AE%BE%E0%AE%A9%E0%AF%8D\" hreflang=\"ta\" lang=\"ta\" title=\"பைத்தான் (tamil)\">தமிழ்</a></li><li class=\"interlanguage-link interwiki-te\"><a class=\"interlanguage-link-target\" href=\"https://te.wikipedia.org/wiki/%E0%B0%AA%E0%B1%88%E0%B0%A5%E0%B0%BE%E0%B0%A8%E0%B1%8D_(%E0%B0%95%E0%B0%82%E0%B0%AA%E0%B1%8D%E0%B0%AF%E0%B1%82%E0%B0%9F%E0%B0%B0%E0%B1%8D_%E0%B0%AD%E0%B0%BE%E0%B0%B7)\" hreflang=\"te\" lang=\"te\" title=\"పైథాన్ (కంప్యూటర్ భాష) (telugu)\">తెలుగు</a></li><li class=\"interlanguage-link interwiki-tg\"><a class=\"interlanguage-link-target\" href=\"https://tg.wikipedia.org/wiki/Python\" hreflang=\"tg\" lang=\"tg\" title=\"Python (tayiko)\">Тоҷикӣ</a></li><li class=\"interlanguage-link interwiki-th\"><a class=\"interlanguage-link-target\" href=\"https://th.wikipedia.org/wiki/%E0%B9%84%E0%B8%9E%E0%B8%97%E0%B8%AD%E0%B8%99_(%E0%B8%A0%E0%B8%B2%E0%B8%A9%E0%B8%B2%E0%B9%82%E0%B8%9B%E0%B8%A3%E0%B9%81%E0%B8%81%E0%B8%A3%E0%B8%A1)\" hreflang=\"th\" lang=\"th\" title=\"ไพทอน (ภาษาโปรแกรม) (tailandés)\">ไทย</a></li><li class=\"interlanguage-link interwiki-tl\"><a class=\"interlanguage-link-target\" href=\"https://tl.wikipedia.org/wiki/Python_(wikang_pamprograma)\" hreflang=\"tl\" lang=\"tl\" title=\"Python (wikang pamprograma) (tagalo)\">Tagalog</a></li><li class=\"interlanguage-link interwiki-tr\"><a class=\"interlanguage-link-target\" href=\"https://tr.wikipedia.org/wiki/Python_(programlama_dili)\" hreflang=\"tr\" lang=\"tr\" title=\"Python (programlama dili) (turco)\">Türkçe</a></li><li class=\"interlanguage-link interwiki-tt\"><a class=\"interlanguage-link-target\" href=\"https://tt.wikipedia.org/wiki/Python\" hreflang=\"tt\" lang=\"tt\" title=\"Python (tártaro)\">Татарча/tatarça</a></li><li class=\"interlanguage-link interwiki-ug\"><a class=\"interlanguage-link-target\" href=\"https://ug.wikipedia.org/wiki/%D9%BE%D8%A7%D9%8A%D8%B3%D9%88%D9%86\" hreflang=\"ug\" lang=\"ug\" title=\"پايسون (uigur)\">ئۇيغۇرچە / Uyghurche</a></li><li class=\"interlanguage-link interwiki-uk\"><a class=\"interlanguage-link-target\" href=\"https://uk.wikipedia.org/wiki/Python\" hreflang=\"uk\" lang=\"uk\" title=\"Python (ucraniano)\">Українська</a></li><li class=\"interlanguage-link interwiki-ur\"><a class=\"interlanguage-link-target\" href=\"https://ur.wikipedia.org/wiki/%D9%BE%D8%A7%D8%A6%DB%8C%D8%AA%DA%BE%D9%86_(%D9%BE%D8%B1%D9%88%DA%AF%D8%B1%D8%A7%D9%85%D9%86%DA%AF_%D8%B2%D8%A8%D8%A7%D9%86)\" hreflang=\"ur\" lang=\"ur\" title=\"پائیتھن (پروگرامنگ زبان) (urdu)\">اردو</a></li><li class=\"interlanguage-link interwiki-uz\"><a class=\"interlanguage-link-target\" href=\"https://uz.wikipedia.org/wiki/Python\" hreflang=\"uz\" lang=\"uz\" title=\"Python (uzbeko)\">Oʻzbekcha/ўзбекча</a></li><li class=\"interlanguage-link interwiki-vi\"><a class=\"interlanguage-link-target\" href=\"https://vi.wikipedia.org/wiki/Python_(ng%C3%B4n_ng%E1%BB%AF_l%E1%BA%ADp_tr%C3%ACnh)\" hreflang=\"vi\" lang=\"vi\" title=\"Python (ngôn ngữ lập trình) (vietnamita)\">Tiếng Việt</a></li><li class=\"interlanguage-link interwiki-wa\"><a class=\"interlanguage-link-target\" href=\"https://wa.wikipedia.org/wiki/Python_(lingaedje_%C3%A9ndjolike)\" hreflang=\"wa\" lang=\"wa\" title=\"Python (lingaedje éndjolike) (valón)\">Walon</a></li><li class=\"interlanguage-link interwiki-war\"><a class=\"interlanguage-link-target\" href=\"https://war.wikipedia.org/wiki/Python_(programming_language)\" hreflang=\"war\" lang=\"war\" title=\"Python (programming language) (waray)\">Winaray</a></li><li class=\"interlanguage-link interwiki-wuu\"><a class=\"interlanguage-link-target\" href=\"https://wuu.wikipedia.org/wiki/Python\" hreflang=\"wuu\" lang=\"wuu\" title=\"Python (chino wu)\">吴语</a></li><li class=\"interlanguage-link interwiki-zh\"><a class=\"interlanguage-link-target\" href=\"https://zh.wikipedia.org/wiki/Python\" hreflang=\"zh\" lang=\"zh\" title=\"Python (chino)\">中文</a></li><li class=\"interlanguage-link interwiki-zh-min-nan\"><a class=\"interlanguage-link-target\" href=\"https://zh-min-nan.wikipedia.org/wiki/Python\" hreflang=\"nan\" lang=\"nan\" title=\"Python (Chinese (Min Nan))\">Bân-lâm-gú</a></li><li class=\"interlanguage-link interwiki-zh-yue\"><a class=\"interlanguage-link-target\" href=\"https://zh-yue.wikipedia.org/wiki/Python\" hreflang=\"yue\" lang=\"yue\" title=\"Python (Cantonese)\">粵語</a></li></ul>\n",
       " <div class=\"after-portlet after-portlet-lang\"><span class=\"wb-langlinks-edit wb-langlinks-link\"><a class=\"wbc-editpage\" href=\"https://www.wikidata.org/wiki/Special:EntityPage/Q28865#sitelinks-wikipedia\" title=\"Editar enlaces interlingüísticos\">Editar enlaces</a></span></div>\n",
       " </div>\n",
       " </nav>\n",
       " </div>\n",
       " </div>\n",
       " <footer class=\"mw-footer\" id=\"footer\" role=\"contentinfo\">\n",
       " <ul id=\"footer-info\">\n",
       " <li id=\"footer-info-lastmod\"> Esta página se editó por última vez el 16 mar 2021 a las 17:42.</li>\n",
       " <li id=\"footer-info-copyright\">El texto está disponible bajo la <a href=\"//es.wikipedia.org/wiki/Wikipedia:Texto_de_la_Licencia_Creative_Commons_Atribuci%C3%B3n-CompartirIgual_3.0_Unported\" rel=\"license\">Licencia Creative Commons Atribución Compartir Igual 3.0</a><a href=\"http://creativecommons.org/licenses/by-sa/3.0/\" rel=\"license\" style=\"display:none;\"></a>;\n",
       " pueden aplicarse cláusulas adicionales. Al usar este sitio, usted acepta nuestros <a href=\"//wikimediafoundation.org/wiki/Terms_of_Use\">términos de uso</a> y nuestra <a href=\"//wikimediafoundation.org/wiki/Privacy_policy\">política de privacidad</a>. <br/>Wikipedia® es una marca registrada de la <a href=\"//www.wikimediafoundation.org/\">Fundación Wikimedia, Inc.</a>, una organización sin ánimo de lucro.</li>\n",
       " </ul>\n",
       " <ul id=\"footer-places\">\n",
       " <li id=\"footer-places-privacy\"><a class=\"extiw\" href=\"https://meta.wikimedia.org/wiki/Privacy_policy/es\" title=\"m:Privacy policy/es\">Política de privacidad</a></li>\n",
       " <li id=\"footer-places-about\"><a href=\"/wiki/Wikipedia:Acerca_de\" title=\"Wikipedia:Acerca de\">Acerca de Wikipedia</a></li>\n",
       " <li id=\"footer-places-disclaimer\"><a href=\"/wiki/Wikipedia:Limitaci%C3%B3n_general_de_responsabilidad\" title=\"Wikipedia:Limitación general de responsabilidad\">Limitación de responsabilidad</a></li>\n",
       " <li id=\"footer-places-mobileview\"><a class=\"noprint stopMobileRedirectToggle\" href=\"//es.m.wikipedia.org/w/index.php?title=Python&amp;mobileaction=toggle_view_mobile\">Versión para móviles</a></li>\n",
       " <li id=\"footer-places-developers\"><a href=\"https://www.mediawiki.org/wiki/Special:MyLanguage/How_to_contribute\">Desarrolladores</a></li>\n",
       " <li id=\"footer-places-statslink\"><a href=\"https://stats.wikimedia.org/#/es.wikipedia.org\">Estadísticas</a></li>\n",
       " <li id=\"footer-places-cookiestatement\"><a href=\"https://foundation.wikimedia.org/wiki/Cookie_statement/es\">Declaración de cookies</a></li>\n",
       " </ul>\n",
       " <ul class=\"noprint\" id=\"footer-icons\">\n",
       " <li id=\"footer-copyrightico\"><a href=\"https://wikimediafoundation.org/\"><img alt=\"Wikimedia Foundation\" height=\"31\" loading=\"lazy\" src=\"/static/images/footer/wikimedia-button.png\" srcset=\"/static/images/footer/wikimedia-button-1.5x.png 1.5x, /static/images/footer/wikimedia-button-2x.png 2x\" width=\"88\"/></a></li>\n",
       " <li id=\"footer-poweredbyico\"><a href=\"https://www.mediawiki.org/\"><img alt=\"Powered by MediaWiki\" height=\"31\" loading=\"lazy\" src=\"/static/images/footer/poweredby_mediawiki_88x31.png\" srcset=\"/static/images/footer/poweredby_mediawiki_132x47.png 1.5x, /static/images/footer/poweredby_mediawiki_176x62.png 2x\" width=\"88\"/></a></li>\n",
       " </ul>\n",
       " <div style=\"clear: both;\"></div>\n",
       " </footer>\n",
       " <script>(RLQ=window.RLQ||[]).push(function(){mw.config.set({\"wgPageParseReport\":{\"limitreport\":{\"cputime\":\"1.115\",\"walltime\":\"1.364\",\"ppvisitednodes\":{\"value\":4118,\"limit\":1000000},\"postexpandincludesize\":{\"value\":62779,\"limit\":2097152},\"templateargumentsize\":{\"value\":5395,\"limit\":2097152},\"expansiondepth\":{\"value\":24,\"limit\":40},\"expensivefunctioncount\":{\"value\":6,\"limit\":500},\"unstrip-depth\":{\"value\":0,\"limit\":20},\"unstrip-size\":{\"value\":92518,\"limit\":5000000},\"entityaccesscount\":{\"value\":7,\"limit\":400},\"timingprofile\":[\"100.00% 1058.846      1 -total\",\" 45.16%  478.223      1 Plantilla:Ficha_de_lenguaje_de_programación\",\" 44.43%  470.433      1 Plantilla:Ficha\",\" 37.98%  402.119     14 Plantilla:Propiedad\",\" 26.04%  275.746      1 Plantilla:Control_de_autoridades\",\" 13.36%  141.480      1 Plantilla:Listaref\",\"  9.34%   98.921     19 Plantilla:Cita_web\",\"  3.57%   37.819      1 Plantilla:Fecha_de_lanzamiento\",\"  2.51%   26.582      3 Plantilla:Otros_usos\",\"  2.07%   21.886      3 Plantilla:Texto_de_la_coletilla_del_título\"]},\"scribunto\":{\"limitreport-timeusage\":{\"value\":\"0.648\",\"limit\":\"10.000\"},\"limitreport-memusage\":{\"value\":12059653,\"limit\":52428800}},\"cachereport\":{\"origin\":\"mw1272\",\"timestamp\":\"20210318002050\",\"ttl\":3600,\"transientcontent\":true}}});});</script>\n",
       " <script type=\"application/ld+json\">{\"@context\":\"https:\\/\\/schema.org\",\"@type\":\"Article\",\"name\":\"Python\",\"url\":\"https:\\/\\/es.wikipedia.org\\/wiki\\/Python\",\"sameAs\":\"http:\\/\\/www.wikidata.org\\/entity\\/Q28865\",\"mainEntity\":\"http:\\/\\/www.wikidata.org\\/entity\\/Q28865\",\"author\":{\"@type\":\"Organization\",\"name\":\"Colaboradores de los proyectos Wikimedia\"},\"publisher\":{\"@type\":\"Organization\",\"name\":\"Wikimedia Foundation, Inc.\",\"logo\":{\"@type\":\"ImageObject\",\"url\":\"https:\\/\\/www.wikimedia.org\\/static\\/images\\/wmf-hor-googpub.png\"}},\"datePublished\":\"2002-02-13T07:52:06Z\",\"dateModified\":\"2021-03-16T17:42:45Z\",\"headline\":\"lenguaje de programaci\\u00f3n de alto nivel\"}</script>\n",
       " <script>(RLQ=window.RLQ||[]).push(function(){mw.config.set({\"wgBackendResponseTime\":244,\"wgHostname\":\"mw1264\"});});</script>\n",
       " </body></html>]"
      ]
     },
     "metadata": {},
     "execution_count": 4
    }
   ],
   "source": [
    "list(soup.children)"
   ]
  },
  {
   "cell_type": "code",
   "execution_count": 5,
   "metadata": {},
   "outputs": [
    {
     "output_type": "execute_result",
     "data": {
      "text/plain": [
       "<title>Python - Wikipedia, la enciclopedia libre</title>"
      ]
     },
     "metadata": {},
     "execution_count": 5
    }
   ],
   "source": [
    "soup.title"
   ]
  },
  {
   "cell_type": "code",
   "execution_count": 6,
   "metadata": {},
   "outputs": [
    {
     "output_type": "execute_result",
     "data": {
      "text/plain": [
       "<head>\n",
       "<meta charset=\"utf-8\"/>\n",
       "<title>Python - Wikipedia, la enciclopedia libre</title>\n",
       "<script>document.documentElement.className=\"client-js\";RLCONF={\"wgBreakFrames\":!1,\"wgSeparatorTransformTable\":[\",\\t.\",\" \\t,\"],\"wgDigitTransformTable\":[\"\",\"\"],\"wgDefaultDateFormat\":\"dmy\",\"wgMonthNames\":[\"\",\"enero\",\"febrero\",\"marzo\",\"abril\",\"mayo\",\"junio\",\"julio\",\"agosto\",\"septiembre\",\"octubre\",\"noviembre\",\"diciembre\"],\"wgRequestId\":\"YFKoXMMpor91paIvRkTclwAAAFY\",\"wgCSPNonce\":!1,\"wgCanonicalNamespace\":\"\",\"wgCanonicalSpecialPageName\":!1,\"wgNamespaceNumber\":0,\"wgPageName\":\"Python\",\"wgTitle\":\"Python\",\"wgCurRevisionId\":134024087,\"wgRevisionId\":134024087,\"wgArticleId\":2330,\"wgIsArticle\":!0,\"wgIsRedirect\":!1,\"wgAction\":\"view\",\"wgUserName\":null,\"wgUserGroups\":[\"*\"],\"wgCategories\":[\"Wikipedia:Artículos con datos por trasladar a Wikidata\",\"Wikipedia:Artículos buenos en la Wikipedia en árabe\",\"Wikipedia:Artículos buenos en la Wikipedia en alemán\",\"Wikipedia:Artículos buenos en la Wikipedia en inglés\",\"Wikipedia:Artículos con identificadores BNF\",\n",
       "\"Wikipedia:Artículos con identificadores GND\",\"Wikipedia:Artículos con identificadores LCCN\",\"Wikipedia:Artículos con identificadores Microsoft Academic\",\"Python\",\"Lenguajes de programación orientada a objetos\",\"Lenguajes de programación de alto nivel\",\"Lenguajes de programación dinámicamente tipados\",\"Lenguajes de programación educativos\",\"Software de 1991\",\"Países Bajos en 1991\",\"Ciencia y tecnología de los Países Bajos\"],\"wgPageContentLanguage\":\"es\",\"wgPageContentModel\":\"wikitext\",\"wgRelevantPageName\":\"Python\",\"wgRelevantArticleId\":2330,\"wgIsProbablyEditable\":!0,\"wgRelevantPageIsProbablyEditable\":!0,\"wgRestrictionEdit\":[],\"wgRestrictionMove\":[],\"wgMediaViewerOnClick\":!0,\"wgMediaViewerEnabledByDefault\":!0,\"wgPopupsReferencePreviews\":!1,\"wgPopupsReferencePreviewsBeta\":!0,\"wgPopupsConflictsWithNavPopupGadget\":!1,\"wgPopupsConflictsWithRefTooltipsGadget\":!0,\"wgVisualEditor\":{\"pageLanguageCode\":\"es\",\"pageLanguageDir\":\"ltr\",\"pageVariantFallbacks\":\"es\"},\n",
       "\"wgMFDisplayWikibaseDescriptions\":{\"search\":!0,\"nearby\":!0,\"watchlist\":!0,\"tagline\":!0},\"wgWMESchemaEditAttemptStepOversample\":!1,\"wgULSCurrentAutonym\":\"español\",\"wgNoticeProject\":\"wikipedia\",\"wgCentralAuthMobileDomain\":!1,\"wgEditSubmitButtonLabelPublish\":!0,\"wgULSPosition\":\"interlanguage\",\"wgWikibaseItemId\":\"Q28865\"};RLSTATE={\"ext.gadget.imagenesinfobox\":\"ready\",\"ext.globalCssJs.user.styles\":\"ready\",\"site.styles\":\"ready\",\"noscript\":\"ready\",\"user.styles\":\"ready\",\"ext.globalCssJs.user\":\"ready\",\"user\":\"ready\",\"user.options\":\"loading\",\"ext.cite.styles\":\"ready\",\"ext.pygments\":\"ready\",\"skins.vector.styles.legacy\":\"ready\",\"ext.visualEditor.desktopArticleTarget.noscript\":\"ready\",\"ext.uls.interlanguage\":\"ready\",\"ext.wikimediaBadges\":\"ready\",\"wikibase.client.init\":\"ready\"};RLPAGEMODULES=[\"ext.cite.ux-enhancements\",\"site\",\"mediawiki.page.ready\",\"mediawiki.toc\",\"skins.vector.legacy.js\",\"ext.gadget.a-commons-directo\",\"ext.gadget.ReferenceTooltips\",\"ext.gadget.refToolbar\",\n",
       "\"ext.gadget.switcher\",\"ext.centralauth.centralautologin\",\"mmv.head\",\"mmv.bootstrap.autostart\",\"ext.popups\",\"ext.visualEditor.desktopArticleTarget.init\",\"ext.visualEditor.targetLoader\",\"ext.eventLogging\",\"ext.wikimediaEvents\",\"ext.navigationTiming\",\"ext.uls.compactlinks\",\"ext.uls.interface\",\"ext.cx.eventlogging.campaigns\",\"ext.quicksurveys.init\",\"ext.centralNotice.geoIP\",\"ext.centralNotice.startUp\"];</script>\n",
       "<script>(RLQ=window.RLQ||[]).push(function(){mw.loader.implement(\"user.options@1hzgi\",function($,jQuery,require,module){/*@nomin*/mw.user.tokens.set({\"patrolToken\":\"+\\\\\",\"watchToken\":\"+\\\\\",\"csrfToken\":\"+\\\\\"});mw.user.options.set({\"variant\":\"es\"});\n",
       "});});</script>\n",
       "<link href=\"/w/load.php?lang=es&amp;modules=ext.cite.styles%7Cext.pygments%2CwikimediaBadges%7Cext.uls.interlanguage%7Cext.visualEditor.desktopArticleTarget.noscript%7Cskins.vector.styles.legacy%7Cwikibase.client.init&amp;only=styles&amp;skin=vector\" rel=\"stylesheet\"/>\n",
       "<script async=\"\" src=\"/w/load.php?lang=es&amp;modules=startup&amp;only=scripts&amp;raw=1&amp;skin=vector\"></script>\n",
       "<meta content=\"\" name=\"ResourceLoaderDynamicStyles\"/>\n",
       "<link href=\"/w/load.php?lang=es&amp;modules=ext.gadget.imagenesinfobox&amp;only=styles&amp;skin=vector\" rel=\"stylesheet\"/>\n",
       "<link href=\"/w/load.php?lang=es&amp;modules=site.styles&amp;only=styles&amp;skin=vector\" rel=\"stylesheet\"/>\n",
       "<noscript><link href=\"/w/load.php?lang=es&amp;modules=noscript&amp;only=styles&amp;skin=vector\" rel=\"stylesheet\"/></noscript>\n",
       "<meta content=\"MediaWiki 1.36.0-wmf.34\" name=\"generator\"/>\n",
       "<meta content=\"origin\" name=\"referrer\"/>\n",
       "<meta content=\"origin-when-crossorigin\" name=\"referrer\"/>\n",
       "<meta content=\"origin-when-cross-origin\" name=\"referrer\"/>\n",
       "<meta content=\"Python\" property=\"og:title\"/>\n",
       "<meta content=\"website\" property=\"og:type\"/>\n",
       "<link href=\"//upload.wikimedia.org\" rel=\"preconnect\"/>\n",
       "<link href=\"//es.m.wikipedia.org/wiki/Python\" media=\"only screen and (max-width: 720px)\" rel=\"alternate\"/>\n",
       "<link href=\"/w/index.php?title=Python&amp;action=edit\" rel=\"alternate\" title=\"Editar\" type=\"application/x-wiki\"/>\n",
       "<link href=\"/w/index.php?title=Python&amp;action=edit\" rel=\"edit\" title=\"Editar\"/>\n",
       "<link href=\"/static/apple-touch/wikipedia.png\" rel=\"apple-touch-icon\"/>\n",
       "<link href=\"/static/favicon/wikipedia.ico\" rel=\"shortcut icon\"/>\n",
       "<link href=\"/w/opensearch_desc.php\" rel=\"search\" title=\"Wikipedia (es)\" type=\"application/opensearchdescription+xml\"/>\n",
       "<link href=\"//es.wikipedia.org/w/api.php?action=rsd\" rel=\"EditURI\" type=\"application/rsd+xml\"/>\n",
       "<link href=\"//creativecommons.org/licenses/by-sa/3.0/\" rel=\"license\"/>\n",
       "<link href=\"https://es.wikipedia.org/wiki/Python\" rel=\"canonical\"/>\n",
       "<link href=\"//login.wikimedia.org\" rel=\"dns-prefetch\"/>\n",
       "<link href=\"//meta.wikimedia.org\" rel=\"dns-prefetch\"/>\n",
       "</head>"
      ]
     },
     "metadata": {},
     "execution_count": 6
    }
   ],
   "source": [
    "soup.title.parent"
   ]
  },
  {
   "cell_type": "code",
   "execution_count": 7,
   "metadata": {},
   "outputs": [
    {
     "output_type": "stream",
     "name": "stdout",
     "text": [
      "Python - Wikipedia, la enciclopedia libre\n"
     ]
    }
   ],
   "source": [
    "for child in soup.title.children:\n",
    "    print(child)"
   ]
  },
  {
   "cell_type": "code",
   "execution_count": 10,
   "metadata": {},
   "outputs": [
    {
     "output_type": "execute_result",
     "data": {
      "text/plain": [
       "<list_iterator at 0x7f302e8c2a00>"
      ]
     },
     "metadata": {},
     "execution_count": 10
    }
   ],
   "source": [
    "soup.title.children"
   ]
  },
  {
   "cell_type": "code",
   "execution_count": 8,
   "metadata": {},
   "outputs": [
    {
     "output_type": "execute_result",
     "data": {
      "text/plain": [
       "<a id=\"top\"></a>"
      ]
     },
     "metadata": {},
     "execution_count": 8
    }
   ],
   "source": [
    "soup.a"
   ]
  },
  {
   "cell_type": "code",
   "execution_count": 9,
   "metadata": {},
   "outputs": [
    {
     "output_type": "execute_result",
     "data": {
      "text/plain": [
       "\n",
       " <a class=\"interlanguage-link-target\" href=\"https://bh.wikipedia.org/wiki/%E0%A4%AA%E0%A4%BE%E0%A4%87%E0%A4%A5%E0%A4%A8\" hreflang=\"bh\" lang=\"bh\" title=\"पाइथन (Bhojpuri)\">भोजपुरी</a>,\n",
       " <a class=\"interlanguage-link-target\" href=\"https://bn.wikipedia.org/wiki/%E0%A6%AA%E0%A6%BE%E0%A6%87%E0%A6%A5%E0%A6%A8_(%E0%A6%AA%E0%A7%8D%E0%A6%B0%E0%A7%8B%E0%A6%97%E0%A7%8D%E0%A6%B0%E0%A6%BE%E0%A6%AE%E0%A6%BF%E0%A6%82_%E0%A6%AD%E0%A6%BE%E0%A6%B7%E0%A6%BE)\" hreflang=\"bn\" lang=\"bn\" title=\"পাইথন (প্রোগ্রামিং ভাষা) (bengalí)\">বাংলা</a>,\n",
       " <a class=\"interlanguage-link-target\" href=\"https://bs.wikipedia.org/wiki/Python_(programski_jezik)\" hreflang=\"bs\" lang=\"bs\" title=\"Python (programski jezik) (bosnio)\">Bosanski</a>,\n",
       " <a class=\"interlanguage-link-target\" href=\"https://bug.wikipedia.org/wiki/Python\" hreflang=\"bug\" lang=\"bug\" title=\"Python (buginés)\">ᨅᨔ ᨕᨘᨁᨗ</a>,\n",
       " <a class=\"interlanguage-link-target\" href=\"https://ca.wikipedia.org/wiki/Python\" hreflang=\"ca\" lang=\"ca\" title=\"Python (catalán)\">Català</a>,\n",
       " <a class=\"interlanguage-link-target\" href=\"https://ceb.wikipedia.org/wiki/Python_(programming_language)\" hreflang=\"ceb\" lang=\"ceb\" title=\"Python (programming language) (cebuano)\">Cebuano</a>,\n",
       " <a class=\"interlanguage-link-target\" href=\"https://ckb.wikipedia.org/wiki/%D9%BE%D8%A7%DB%8C%D8%AA%DB%86%D9%86_(%D8%B2%D9%85%D8%A7%D9%86%DB%8C_%D8%A8%DB%95%D8%B1%D9%86%D8%A7%D9%85%DB%95%D8%B3%D8%A7%D8%B2%DB%8C)\" hreflang=\"ckb\" lang=\"ckb\" title=\"پایتۆن (زمانی بەرنامەسازی) (kurdo sorani)\">کوردی</a>,\n",
       " <a class=\"interlanguage-link-target\" href=\"https://cs.wikipedia.org/wiki/Python\" hreflang=\"cs\" lang=\"cs\" title=\"Python (checo)\">Čeština</a>,\n",
       " <a class=\"interlanguage-link-target\" href=\"https://cy.wikipedia.org/wiki/Python_(iaith_raglennu)\" hreflang=\"cy\" lang=\"cy\" title=\"Python (iaith raglennu) (galés)\">Cymraeg</a>,\n",
       " <a class=\"interlanguage-link-target\" href=\"https://da.wikipedia.org/wiki/Python_(programmeringssprog)\" hreflang=\"da\" lang=\"da\" title=\"Python (programmeringssprog) (danés)\">Dansk</a>,\n",
       " <a class=\"interlanguage-link-target\" href=\"https://de.wikipedia.org/wiki/Python_(Programmiersprache)\" hreflang=\"de\" lang=\"de\" title=\"Python (Programmiersprache) (alemán)\">Deutsch</a>,\n",
       " <a class=\"interlanguage-link-target\" href=\"https://el.wikipedia.org/wiki/Python\" hreflang=\"el\" lang=\"el\" title=\"Python (griego)\">Ελληνικά</a>,\n",
       " <a class=\"interlanguage-link-target\" href=\"https://en.wikipedia.org/wiki/Python_(programming_language)\" hreflang=\"en\" lang=\"en\" title=\"Python (programming language) (inglés)\">English</a>,\n",
       " <a class=\"interlanguage-link-target\" href=\"https://eo.wikipedia.org/wiki/Python_(programlingvo)\" hreflang=\"eo\" lang=\"eo\" title=\"Python (programlingvo) (esperanto)\">Esperanto</a>,\n",
       " <a class=\"interlanguage-link-target\" href=\"https://et.wikipedia.org/wiki/Python_(programmeerimiskeel)\" hreflang=\"et\" lang=\"et\" title=\"Python (programmeerimiskeel) (estonio)\">Eesti</a>,\n",
       " <a class=\"interlanguage-link-target\" href=\"https://eu.wikipedia.org/wiki/Python_(informatika)\" hreflang=\"eu\" lang=\"eu\" title=\"Python (informatika) (euskera)\">Euskara</a>,\n",
       " <a class=\"interlanguage-link-target\" href=\"https://fa.wikipedia.org/wiki/%D9%BE%D8%A7%DB%8C%D8%AA%D9%88%D9%86_(%D8%B2%D8%A8%D8%A7%D9%86_%D8%A8%D8%B1%D9%86%D8%A7%D9%85%D9%87%E2%80%8C%D9%86%D9%88%DB%8C%D8%B3%DB%8C)\" hreflang=\"fa\" lang=\"fa\" title=\"پایتون (زبان برنامه‌نویسی) (persa)\">فارسی</a>,\n",
       " <a class=\"interlanguage-link-target\" href=\"https://fi.wikipedia.org/wiki/Python_(ohjelmointikieli)\" hreflang=\"fi\" lang=\"fi\" title=\"Python (ohjelmointikieli) (finés)\">Suomi</a>,\n",
       " <a class=\"interlanguage-link-target\" href=\"https://fj.wikipedia.org/wiki/Python\" hreflang=\"fj\" lang=\"fj\" title=\"Python (fiyiano)\">Na Vosa Vakaviti</a>,\n",
       " <a class=\"interlanguage-link-target\" href=\"https://fr.wikipedia.org/wiki/Python_(langage)\" hreflang=\"fr\" lang=\"fr\" title=\"Python (langage) (francés)\">Français</a>,\n",
       " <a class=\"interlanguage-link-target\" href=\"https://gl.wikipedia.org/wiki/Python\" hreflang=\"gl\" lang=\"gl\" title=\"Python (gallego)\">Galego</a>,\n",
       " <a class=\"interlanguage-link-target\" href=\"https://gu.wikipedia.org/wiki/%E0%AA%AA%E0%AA%BE%E0%AA%AF%E0%AA%A5%E0%AB%8B%E0%AA%A8(%E0%AA%AA%E0%AB%8D%E0%AA%B0%E0%AB%8B%E0%AA%97%E0%AB%8D%E0%AA%B0%E0%AA%BE%E0%AA%AE%E0%AA%BF%E0%AA%82%E0%AA%97_%E0%AA%AD%E0%AA%BE%E0%AA%B7%E0%AA%BE)\" hreflang=\"gu\" lang=\"gu\" title=\"પાયથોન(પ્રોગ્રામિંગ ભાષા) (guyaratí)\">ગુજરાતી</a>,\n",
       " <a class=\"interlanguage-link-target\" href=\"https://he.wikipedia.org/wiki/%D7%A4%D7%99%D7%99%D7%AA%D7%95%D7%9F\" hreflang=\"he\" lang=\"he\" title=\"פייתון (hebreo)\">עברית</a>,\n",
       " <a class=\"interlanguage-link-target\" href=\"https://hi.wikipedia.org/wiki/%E0%A4%AA%E0%A4%BE%E0%A4%87%E0%A4%A5%E0%A4%A8\" hreflang=\"hi\" lang=\"hi\" title=\"पाइथन (hindi)\">हिन्दी</a>,\n",
       " <a class=\"interlanguage-link-target\" href=\"https://hr.wikipedia.org/wiki/Python_(programski_jezik)\" hreflang=\"hr\" lang=\"hr\" title=\"Python (programski jezik) (croata)\">Hrvatski</a>,\n",
       " <a class=\"interlanguage-link-target\" href=\"https://hu.wikipedia.org/wiki/Python_(programoz%C3%A1si_nyelv)\" hreflang=\"hu\" lang=\"hu\" title=\"Python (programozási nyelv) (húngaro)\">Magyar</a>,\n",
       " <a class=\"interlanguage-link-target\" href=\"https://hy.wikipedia.org/wiki/Python\" hreflang=\"hy\" lang=\"hy\" title=\"Python (armenio)\">Հայերեն</a>,\n",
       " <a class=\"interlanguage-link-target\" href=\"https://ia.wikipedia.org/wiki/Python_(linguage_de_programmation)\" hreflang=\"ia\" lang=\"ia\" title=\"Python (linguage de programmation) (interlingua)\">Interlingua</a>,\n",
       " <a class=\"interlanguage-link-target\" href=\"https://id.wikipedia.org/wiki/Python_(bahasa_pemrograman)\" hreflang=\"id\" lang=\"id\" title=\"Python (bahasa pemrograman) (indonesio)\">Bahasa Indonesia</a>,\n",
       " <a class=\"interlanguage-link-target\" href=\"https://is.wikipedia.org/wiki/Python_(forritunarm%C3%A1l)\" hreflang=\"is\" lang=\"is\" title=\"Python (forritunarmál) (islandés)\">Íslenska</a>,\n",
       " <a class=\"interlanguage-link-target\" href=\"https://it.wikipedia.org/wiki/Python\" hreflang=\"it\" lang=\"it\" title=\"Python (italiano)\">Italiano</a>,\n",
       " <a class=\"interlanguage-link-target\" href=\"https://ja.wikipedia.org/wiki/Python\" hreflang=\"ja\" lang=\"ja\" title=\"Python (japonés)\">日本語</a>,\n",
       " <a class=\"interlanguage-link-target\" href=\"https://jbo.wikipedia.org/wiki/paiton\" hreflang=\"jbo\" lang=\"jbo\" title=\"paiton (lojban)\">La .lojban.</a>,\n",
       " <a class=\"interlanguage-link-target\" href=\"https://ka.wikipedia.org/wiki/%E1%83%9E%E1%83%90%E1%83%98%E1%83%97%E1%83%9D%E1%83%9C%E1%83%98_(%E1%83%9E%E1%83%A0%E1%83%9D%E1%83%92%E1%83%A0%E1%83%90%E1%83%9B%E1%83%98%E1%83%A0%E1%83%94%E1%83%91%E1%83%98%E1%83%A1_%E1%83%94%E1%83%9C%E1%83%90)\" hreflang=\"ka\" lang=\"ka\" title=\"პაითონი (პროგრამირების ენა) (georgiano)\">ქართული</a>,\n",
       " <a class=\"interlanguage-link-target\" href=\"https://kk.wikipedia.org/wiki/Python\" hreflang=\"kk\" lang=\"kk\" title=\"Python (kazajo)\">Қазақша</a>,\n",
       " <a class=\"interlanguage-link-target\" href=\"https://km.wikipedia.org/wiki/%E1%9E%95%E1%9E%B6%E1%9E%99%E1%9E%90%E1%9E%BB%E1%9E%93\" hreflang=\"km\" lang=\"km\" title=\"ផាយថុន (jemer)\">ភាសាខ្មែរ</a>,\n",
       " <a class=\"interlanguage-link-target\" href=\"https://ko.wikipedia.org/wiki/%ED%8C%8C%EC%9D%B4%EC%8D%AC\" hreflang=\"ko\" lang=\"ko\" title=\"파이썬 (coreano)\">한국어</a>,\n",
       " <a class=\"interlanguage-link-target\" href=\"https://ku.wikipedia.org/wiki/Python_(ziman%C3%AA_programkirin%C3%AA)\" hreflang=\"ku\" lang=\"ku\" title=\"Python (zimanê programkirinê) (kurdo)\">Kurdî</a>,\n",
       " <a class=\"interlanguage-link-target\" href=\"https://ky.wikipedia.org/wiki/Python\" hreflang=\"ky\" lang=\"ky\" title=\"Python (kirguís)\">Кыргызча</a>,\n",
       " <a class=\"interlanguage-link-target\" href=\"https://la.wikipedia.org/wiki/Python_(lingua_programmandi)\" hreflang=\"la\" lang=\"la\" title=\"Python (lingua programmandi) (latín)\">Latina</a>,\n",
       " <a class=\"interlanguage-link-target\" href=\"https://lmo.wikipedia.org/wiki/Python\" hreflang=\"lmo\" lang=\"lmo\" title=\"Python (Lombard)\">Lumbaart</a>,\n",
       " <a class=\"interlanguage-link-target\" href=\"https://lt.wikipedia.org/wiki/Python\" hreflang=\"lt\" lang=\"lt\" title=\"Python (lituano)\">Lietuvių</a>,\n",
       " <a class=\"interlanguage-link-target\" href=\"https://lv.wikipedia.org/wiki/Python\" hreflang=\"lv\" lang=\"lv\" title=\"Python (letón)\">Latviešu</a>,\n",
       " <a class=\"interlanguage-link-target\" href=\"https://mk.wikipedia.org/wiki/%D0%9F%D0%B0%D1%98%D1%82%D0%BE%D0%BD_(%D0%BF%D1%80%D0%BE%D0%B3%D1%80%D0%B0%D0%BC%D1%81%D0%BA%D0%B8_%D1%98%D0%B0%D0%B7%D0%B8%D0%BA)\" hreflang=\"mk\" lang=\"mk\" title=\"Пајтон (програмски јазик) (macedonio)\">Македонски</a>,\n",
       " <a class=\"interlanguage-link-target\" href=\"https://ml.wikipedia.org/wiki/%E0%B4%AA%E0%B5%88%E0%B4%A4%E0%B5%8D%E0%B4%A4%E0%B5%BA_(%E0%B4%AA%E0%B5%8D%E0%B4%B0%E0%B5%8B%E0%B4%97%E0%B5%8D%E0%B4%B0%E0%B4%BE%E0%B4%AE%E0%B4%BF%E0%B4%99%E0%B5%8D%E0%B4%99%E0%B5%8D_%E0%B4%AD%E0%B4%BE%E0%B4%B7)\" hreflang=\"ml\" lang=\"ml\" title=\"പൈത്തൺ (പ്രോഗ്രാമിങ്ങ് ഭാഷ) (malayalam)\">മലയാളം</a>,\n",
       " <a class=\"interlanguage-link-target\" href=\"https://mn.wikipedia.org/wiki/Python\" hreflang=\"mn\" lang=\"mn\" title=\"Python (mongol)\">Монгол</a>,\n",
       " <a class=\"interlanguage-link-target\" href=\"https://mr.wikipedia.org/wiki/%E0%A4%AA%E0%A4%BE%E0%A4%AF%E0%A4%A5%E0%A5%89%E0%A4%A8\" hreflang=\"mr\" lang=\"mr\" title=\"पायथॉन (maratí)\">मराठी</a>,\n",
       " <a class=\"interlanguage-link-target\" href=\"https://ms.wikipedia.org/wiki/Python\" hreflang=\"ms\" lang=\"ms\" title=\"Python (malayo)\">Bahasa Melayu</a>,\n",
       " <a class=\"interlanguage-link-target\" href=\"https://my.wikipedia.org/wiki/Python_(programming_language)\" hreflang=\"my\" lang=\"my\" title=\"Python (programming language) (birmano)\">မြန်မာဘာသာ</a>,\n",
       " <a class=\"interlanguage-link-target\" href=\"https://nds.wikipedia.org/wiki/Python_(Programmeerspraak)\" hreflang=\"nds\" lang=\"nds\" title=\"Python (Programmeerspraak) (bajo alemán)\">Plattdüütsch</a>,\n",
       " <a class=\"interlanguage-link-target\" href=\"https://nl.wikipedia.org/wiki/Python_(programmeertaal)\" hreflang=\"nl\" lang=\"nl\" title=\"Python (programmeertaal) (neerlandés)\">Nederlands</a>,\n",
       " <a class=\"interlanguage-link-target\" href=\"https://nn.wikipedia.org/wiki/Python\" hreflang=\"nn\" lang=\"nn\" title=\"Python (noruego nynorsk)\">Norsk nynorsk</a>,\n",
       " <a class=\"interlanguage-link-target\" href=\"https://no.wikipedia.org/wiki/Python\" hreflang=\"nb\" lang=\"nb\" title=\"Python (noruego bokmal)\">Norsk bokmål</a>,\n",
       " <a class=\"interlanguage-link-target\" href=\"https://nqo.wikipedia.org/wiki/%DF%93%DF%8A%DF%A6%DF%8C%DF%95%DF%90%DF%A3\" hreflang=\"nqo\" lang=\"nqo\" title=\"ߓߊߦߌߕߐߣ (n’ko)\">ߒߞߏ</a>,\n",
       " <a class=\"interlanguage-link-target\" href=\"https://or.wikipedia.org/wiki/%E0%AC%AA%E0%AC%BE%E0%AC%87%E0%AC%A5%E0%AC%A8%E0%AD%8D_(%E0%AC%AA%E0%AD%8D%E0%AC%B0%E0%AD%8B%E0%AC%97%E0%AD%8D%E0%AC%B0%E0%AC%BE%E0%AC%AE%E0%AC%BF%E0%AC%82_%E0%AC%AD%E0%AC%BE%E0%AC%B7%E0%AC%BE)\" hreflang=\"or\" lang=\"or\" title=\"ପାଇଥନ୍ (ପ୍ରୋଗ୍ରାମିଂ ଭାଷା) (oriya)\">ଓଡ଼ିଆ</a>,\n",
       " <a class=\"interlanguage-link-target\" href=\"https://pa.wikipedia.org/wiki/%E0%A8%AA%E0%A8%BE%E0%A8%88%E0%A8%A5%E0%A8%A8_(%E0%A8%AA%E0%A9%8D%E0%A8%B0%E0%A9%8B%E0%A8%97%E0%A8%B0%E0%A8%BE%E0%A8%AE%E0%A8%BF%E0%A9%B0%E0%A8%97_%E0%A8%AD%E0%A8%BE%E0%A8%B8%E0%A8%BC%E0%A8%BE)\" hreflang=\"pa\" lang=\"pa\" title=\"ਪਾਈਥਨ (ਪ੍ਰੋਗਰਾਮਿੰਗ ਭਾਸ਼ਾ) (punyabí)\">ਪੰਜਾਬੀ</a>,\n",
       " <a class=\"interlanguage-link-target\" href=\"https://pl.wikipedia.org/wiki/Python\" hreflang=\"pl\" lang=\"pl\" title=\"Python (polaco)\">Polski</a>,\n",
       " <a class=\"interlanguage-link-target\" href=\"https://pnb.wikipedia.org/wiki/%D9%BE%D8%A7%D8%A6%DB%8C%D8%AA%DA%BE%D9%86_(%DA%A9%D9%85%D9%BE%DB%8C%D9%88%D9%B9%D8%B1_%D8%A8%D9%88%D9%84%DB%8C)\" hreflang=\"pnb\" lang=\"pnb\" title=\"پائیتھن (کمپیوٹر بولی) (Western Punjabi)\">پنجابی</a>,\n",
       " <a class=\"interlanguage-link-target\" href=\"https://pt.wikipedia.org/wiki/Python\" hreflang=\"pt\" lang=\"pt\" title=\"Python (portugués)\">Português</a>,\n",
       " <a class=\"interlanguage-link-target\" href=\"https://ro.wikipedia.org/wiki/Python\" hreflang=\"ro\" lang=\"ro\" title=\"Python (rumano)\">Română</a>,\n",
       " <a class=\"interlanguage-link-target\" href=\"https://ru.wikipedia.org/wiki/Python\" hreflang=\"ru\" lang=\"ru\" title=\"Python (ruso)\">Русский</a>,\n",
       " <a class=\"interlanguage-link-target\" href=\"https://sah.wikipedia.org/wiki/Python\" hreflang=\"sah\" lang=\"sah\" title=\"Python (sakha)\">Саха тыла</a>,\n",
       " <a class=\"interlanguage-link-target\" href=\"https://sat.wikipedia.org/wiki/%E1%B1%AF%E1%B1%9F%E1%B1%AD%E1%B1%9B%E1%B1%B7%E1%B1%9A%E1%B1%B1(%E1%B1%AF%E1%B1%A8%E1%B1%B3%E1%B1%9C%E1%B1%BD%E1%B1%A8%E1%B1%9F%E1%B1%A2%E1%B1%A4%E1%B1%9D_%E1%B1%AF%E1%B1%9F%E1%B1%B9%E1%B1%A8%E1%B1%A5%E1%B1%A4)\" hreflang=\"sat\" lang=\"sat\" title=\"ᱯᱟᱭᱛᱷᱚᱱ(ᱯᱨᱳᱜᱽᱨᱟᱢᱤᱝ ᱯᱟᱹᱨᱥᱤ) (santali)\">ᱥᱟᱱᱛᱟᱲᱤ</a>,\n",
       " <a class=\"interlanguage-link-target\" href=\"https://sco.wikipedia.org/wiki/Python_(programmin_leid)\" hreflang=\"sco\" lang=\"sco\" title=\"Python (programmin leid) (escocés)\">Scots</a>,\n",
       " <a class=\"interlanguage-link-target\" href=\"https://sh.wikipedia.org/wiki/Python_programski_jezik\" hreflang=\"sh\" lang=\"sh\" title=\"Python programski jezik (serbocroata)\">Srpskohrvatski / српскохрватски</a>,\n",
       " <a class=\"interlanguage-link-target\" href=\"https://shn.wikipedia.org/wiki/Python_(programming_language)\" hreflang=\"shn\" lang=\"shn\" title=\"Python (programming language) (shan)\">ၽႃႇသႃႇတႆး </a>,\n",
       " <a class=\"interlanguage-link-target\" href=\"https://si.wikipedia.org/wiki/%E0%B6%B4%E0%B6%BA%E0%B7%92%E0%B6%AD%E0%B6%B1%E0%B7%8A\" hreflang=\"si\" lang=\"si\" title=\"පයිතන් (cingalés)\">සිංහල</a>,\n",
       " <a class=\"interlanguage-link-target\" href=\"https://simple.wikipedia.org/wiki/Python_(programming_language)\" hreflang=\"en-simple\" lang=\"en-simple\" title=\"Python (programming language) (Simple English)\">Simple English</a>,\n",
       " <a class=\"interlanguage-link-target\" href=\"https://sk.wikipedia.org/wiki/Python_(programovac%C3%AD_jazyk)\" hreflang=\"sk\" lang=\"sk\" title=\"Python (programovací jazyk) (eslovaco)\">Slovenčina</a>,\n",
       " <a class=\"interlanguage-link-target\" href=\"https://sl.wikipedia.org/wiki/Python_(programski_jezik)\" hreflang=\"sl\" lang=\"sl\" title=\"Python (programski jezik) (esloveno)\">Slovenščina</a>,\n",
       " <a class=\"interlanguage-link-target\" href=\"https://sq.wikipedia.org/wiki/Python\" hreflang=\"sq\" lang=\"sq\" title=\"Python (albanés)\">Shqip</a>,\n",
       " <a class=\"interlanguage-link-target\" href=\"https://sr.wikipedia.org/wiki/Python_(%D0%BF%D1%80%D0%BE%D0%B3%D1%80%D0%B0%D0%BC%D1%81%D0%BA%D0%B8_%D1%98%D0%B5%D0%B7%D0%B8%D0%BA)\" hreflang=\"sr\" lang=\"sr\" title=\"Python (програмски језик) (serbio)\">Српски / srpski</a>,\n",
       " <a class=\"interlanguage-link-target\" href=\"https://sv.wikipedia.org/wiki/Python_(programspr%C3%A5k)\" hreflang=\"sv\" lang=\"sv\" title=\"Python (programspråk) (sueco)\">Svenska</a>,\n",
       " <a class=\"interlanguage-link-target\" href=\"https://sw.wikipedia.org/wiki/Python_(Lugha_ya_programu)\" hreflang=\"sw\" lang=\"sw\" title=\"Python (Lugha ya programu) (suajili)\">Kiswahili</a>,\n",
       " <a class=\"interlanguage-link-target\" href=\"https://ta.wikipedia.org/wiki/%E0%AE%AA%E0%AF%88%E0%AE%A4%E0%AF%8D%E0%AE%A4%E0%AE%BE%E0%AE%A9%E0%AF%8D\" hreflang=\"ta\" lang=\"ta\" title=\"பைத்தான் (tamil)\">தமிழ்</a>,\n",
       " <a class=\"interlanguage-link-target\" href=\"https://te.wikipedia.org/wiki/%E0%B0%AA%E0%B1%88%E0%B0%A5%E0%B0%BE%E0%B0%A8%E0%B1%8D_(%E0%B0%95%E0%B0%82%E0%B0%AA%E0%B1%8D%E0%B0%AF%E0%B1%82%E0%B0%9F%E0%B0%B0%E0%B1%8D_%E0%B0%AD%E0%B0%BE%E0%B0%B7)\" hreflang=\"te\" lang=\"te\" title=\"పైథాన్ (కంప్యూటర్ భాష) (telugu)\">తెలుగు</a>,\n",
       " <a class=\"interlanguage-link-target\" href=\"https://tg.wikipedia.org/wiki/Python\" hreflang=\"tg\" lang=\"tg\" title=\"Python (tayiko)\">Тоҷикӣ</a>,\n",
       " <a class=\"interlanguage-link-target\" href=\"https://th.wikipedia.org/wiki/%E0%B9%84%E0%B8%9E%E0%B8%97%E0%B8%AD%E0%B8%99_(%E0%B8%A0%E0%B8%B2%E0%B8%A9%E0%B8%B2%E0%B9%82%E0%B8%9B%E0%B8%A3%E0%B9%81%E0%B8%81%E0%B8%A3%E0%B8%A1)\" hreflang=\"th\" lang=\"th\" title=\"ไพทอน (ภาษาโปรแกรม) (tailandés)\">ไทย</a>,\n",
       " <a class=\"interlanguage-link-target\" href=\"https://tl.wikipedia.org/wiki/Python_(wikang_pamprograma)\" hreflang=\"tl\" lang=\"tl\" title=\"Python (wikang pamprograma) (tagalo)\">Tagalog</a>,\n",
       " <a class=\"interlanguage-link-target\" href=\"https://tr.wikipedia.org/wiki/Python_(programlama_dili)\" hreflang=\"tr\" lang=\"tr\" title=\"Python (programlama dili) (turco)\">Türkçe</a>,\n",
       " <a class=\"interlanguage-link-target\" href=\"https://tt.wikipedia.org/wiki/Python\" hreflang=\"tt\" lang=\"tt\" title=\"Python (tártaro)\">Татарча/tatarça</a>,\n",
       " <a class=\"interlanguage-link-target\" href=\"https://ug.wikipedia.org/wiki/%D9%BE%D8%A7%D9%8A%D8%B3%D9%88%D9%86\" hreflang=\"ug\" lang=\"ug\" title=\"پايسون (uigur)\">ئۇيغۇرچە / Uyghurche</a>,\n",
       " <a class=\"interlanguage-link-target\" href=\"https://uk.wikipedia.org/wiki/Python\" hreflang=\"uk\" lang=\"uk\" title=\"Python (ucraniano)\">Українська</a>,\n",
       " <a class=\"interlanguage-link-target\" href=\"https://ur.wikipedia.org/wiki/%D9%BE%D8%A7%D8%A6%DB%8C%D8%AA%DA%BE%D9%86_(%D9%BE%D8%B1%D9%88%DA%AF%D8%B1%D8%A7%D9%85%D9%86%DA%AF_%D8%B2%D8%A8%D8%A7%D9%86)\" hreflang=\"ur\" lang=\"ur\" title=\"پائیتھن (پروگرامنگ زبان) (urdu)\">اردو</a>,\n",
       " <a class=\"interlanguage-link-target\" href=\"https://uz.wikipedia.org/wiki/Python\" hreflang=\"uz\" lang=\"uz\" title=\"Python (uzbeko)\">Oʻzbekcha/ўзбекча</a>,\n",
       " <a class=\"interlanguage-link-target\" href=\"https://vi.wikipedia.org/wiki/Python_(ng%C3%B4n_ng%E1%BB%AF_l%E1%BA%ADp_tr%C3%ACnh)\" hreflang=\"vi\" lang=\"vi\" title=\"Python (ngôn ngữ lập trình) (vietnamita)\">Tiếng Việt</a>,\n",
       " <a class=\"interlanguage-link-target\" href=\"https://wa.wikipedia.org/wiki/Python_(lingaedje_%C3%A9ndjolike)\" hreflang=\"wa\" lang=\"wa\" title=\"Python (lingaedje éndjolike) (valón)\">Walon</a>,\n",
       " <a class=\"interlanguage-link-target\" href=\"https://war.wikipedia.org/wiki/Python_(programming_language)\" hreflang=\"war\" lang=\"war\" title=\"Python (programming language) (waray)\">Winaray</a>,\n",
       " <a class=\"interlanguage-link-target\" href=\"https://wuu.wikipedia.org/wiki/Python\" hreflang=\"wuu\" lang=\"wuu\" title=\"Python (chino wu)\">吴语</a>,\n",
       " <a class=\"interlanguage-link-target\" href=\"https://zh.wikipedia.org/wiki/Python\" hreflang=\"zh\" lang=\"zh\" title=\"Python (chino)\">中文</a>,\n",
       " <a class=\"interlanguage-link-target\" href=\"https://zh-min-nan.wikipedia.org/wiki/Python\" hreflang=\"nan\" lang=\"nan\" title=\"Python (Chinese (Min Nan))\">Bân-lâm-gú</a>,\n",
       " <a class=\"interlanguage-link-target\" href=\"https://zh-yue.wikipedia.org/wiki/Python\" hreflang=\"yue\" lang=\"yue\" title=\"Python (Cantonese)\">粵語</a>,\n",
       " <a class=\"wbc-editpage\" href=\"https://www.wikidata.org/wiki/Special:EntityPage/Q28865#sitelinks-wikipedia\" title=\"Editar enlaces interlingüísticos\">Editar enlaces</a>,\n",
       " <a href=\"//es.wikipedia.org/wiki/Wikipedia:Texto_de_la_Licencia_Creative_Commons_Atribuci%C3%B3n-CompartirIgual_3.0_Unported\" rel=\"license\">Licencia Creative Commons Atribución Compartir Igual 3.0</a>,\n",
       " <a href=\"http://creativecommons.org/licenses/by-sa/3.0/\" rel=\"license\" style=\"display:none;\"></a>,\n",
       " <a href=\"//wikimediafoundation.org/wiki/Terms_of_Use\">términos de uso</a>,\n",
       " <a href=\"//wikimediafoundation.org/wiki/Privacy_policy\">política de privacidad</a>,\n",
       " <a href=\"//www.wikimediafoundation.org/\">Fundación Wikimedia, Inc.</a>,\n",
       " <a class=\"extiw\" href=\"https://meta.wikimedia.org/wiki/Privacy_policy/es\" title=\"m:Privacy policy/es\">Política de privacidad</a>,\n",
       " <a href=\"/wiki/Wikipedia:Acerca_de\" title=\"Wikipedia:Acerca de\">Acerca de Wikipedia</a>,\n",
       " <a href=\"/wiki/Wikipedia:Limitaci%C3%B3n_general_de_responsabilidad\" title=\"Wikipedia:Limitación general de responsabilidad\">Limitación de responsabilidad</a>,\n",
       " <a class=\"noprint stopMobileRedirectToggle\" href=\"//es.m.wikipedia.org/w/index.php?title=Python&amp;mobileaction=toggle_view_mobile\">Versión para móviles</a>,\n",
       " <a href=\"https://www.mediawiki.org/wiki/Special:MyLanguage/How_to_contribute\">Desarrolladores</a>,\n",
       " <a href=\"https://stats.wikimedia.org/#/es.wikipedia.org\">Estadísticas</a>,\n",
       " <a href=\"https://foundation.wikimedia.org/wiki/Cookie_statement/es\">Declaración de cookies</a>,\n",
       " <a href=\"https://wikimediafoundation.org/\"><img alt=\"Wikimedia Foundation\" height=\"31\" loading=\"lazy\" src=\"/static/images/footer/wikimedia-button.png\" srcset=\"/static/images/footer/wikimedia-button-1.5x.png 1.5x, /static/images/footer/wikimedia-button-2x.png 2x\" width=\"88\"/></a>,\n",
       " <a href=\"https://www.mediawiki.org/\"><img alt=\"Powered by MediaWiki\" height=\"31\" loading=\"lazy\" src=\"/static/images/footer/poweredby_mediawiki_88x31.png\" srcset=\"/static/images/footer/poweredby_mediawiki_132x47.png 1.5x, /static/images/footer/poweredby_mediawiki_176x62.png 2x\" width=\"88\"/></a>]"
      ]
     },
     "metadata": {},
     "execution_count": 9
    }
   ],
   "source": [
    "soup.find_all(\"a\")"
   ]
  },
  {
   "cell_type": "code",
   "execution_count": 11,
   "metadata": {},
   "outputs": [
    {
     "output_type": "execute_result",
     "data": {
      "text/plain": [
       "ogramación funcional</a> <a href=\"/wiki/Haskell\" title=\"Haskell\">Haskell</a>: listas por comprensión. La sintaxis de Python para esta construcción es muy similar a la de Haskell, salvo por la preferencia de los caracteres de puntuación en Haskell, y la preferencia de Python por palabras claves alfabéticas. Python 2.0 introdujo además un sistema de <a class=\"mw-redirect\" href=\"/wiki/Recolecci%C3%B3n_de_basura\" title=\"Recolección de basura\">recolección de basura</a> capaz de recolectar referencias cíclicas.<sup class=\"reference separada\" id=\"cite_ref-newin-2.0_13-1\"><a href=\"#cite_note-newin-2.0-13\"><span class=\"corchete-llamada\">[</span>13<span class=\"corchete-llamada\">]</span></a></sup>​\n",
       " </p>,\n",
       " <p>Posterior a este doble lanzamiento, y después que van Rossum dejara CNRI para trabajar con desarrolladores de software comercial, quedó claro que la opción de usar Python con software disponible bajo <a href=\"/wiki/GNU_General_Public_License\" title=\"GNU General Public License\">GNU GPL</a> era muy deseable. La licencia usada entonces, la <a class=\"mw-redirect\" href=\"/wiki/Python_License\" title=\"Python License\">Python License</a>, incluía una cláusula estipulando que la licencia estaba gobernada por el estado de <a href=\"/wiki/Virginia\" title=\"Virginia\">Virginia</a>, por lo que, bajo la óptica de los abogados de <a href=\"/wiki/Free_Software_Foundation\" title=\"Free Software Foundation\">Free Software Foundation</a> (FSF), se hacía incompatible con GPL. Para las versiones 1.61 y 2.1, CNRI y FSF  \n",
       " hicieron compatibles la licencia de Python con GPL, renombrandola <a href=\"/wiki/Python_Software_Foundation_License\" title=\"Python Software Foundation License\">Python Software Foundation License</a>. En el año 2001, van Rossum fue premiado con <a href=\"/wiki/FSF_Award_for_the_Advancement_of_Free_Software\" title=\"FSF Award for the Advancement of Free Software\">FSF Award for the Advancement of Free Software</a>.\n",
       " </p>,\n",
       " <p><br/>\n",
       " </p>,\n",
       " <p>Python 2.1 fue un trabajo derivado de las versiones 1.6.1 y 2.0. Es a partir de este momento que  <a href=\"/wiki/Python_Software_Foundation\" title=\"Python Software Foundation\">Python Software Foundation</a> (PSF) pasa a ser dueño del proyecto, organizada como una organización sin ánimo de lucro fundada en el año 2001, tomando como modelo la <a href=\"/wiki/Apache_Software_Foundation\" title=\"Apache Software Foundation\">Apache Software Foundation</a>.<sup class=\"reference separada\" id=\"cite_ref-lib-history_3-1\"><a href=\"#cite_note-lib-history-3\"><span class=\"corchete-llamada\">[</span>3<span class=\"corchete-llamada\">]</span></a></sup>​ Incluido en este lanzamiento fue una implementación del scoping más parecida a las reglas de <a class=\"new\" href=\"/w/index.php?title=Static_scoping&amp;action=edit&amp;redlink=1\" title=\"Static scoping (aún no redactado)\">static scoping</a> (del cual <a href=\"/wiki/Scheme\" title=\"Scheme\">Scheme</a> es el originador).<sup class=\"reference separada\" id=\"cite_ref-14\"><a href=\"#cite_note-14\"><span class=\"corchete-llamada\">[</span>14<span class=\"corchete-llamada\">]</span></a></sup>​\n",
       " </p>,\n",
       " <p>Una innovación mayor en Python 2.2 fue la unificación de los tipos en Python (tipos escritos en C), y clases (tipos escritos en Python) dentro de una jerarquía. Esa unificación logró un modelo de objetos de Python puro y consistente.<sup class=\"reference separada\" id=\"cite_ref-15\"><a href=\"#cite_note-15\"><span class=\"corchete-llamada\">[</span>15<span class=\"corchete-llamada\">]</span></a></sup>​ También fueron agregados los <a href=\"/wiki/Generador_(inform%C3%A1tica)\" title=\"Generador (informática)\">generadores</a> que fueron inspirados por el lenguaje <a href=\"/wiki/Icon\" title=\"Icon\">Icon</a>.<sup class=\"reference separada\" id=\"cite_ref-16\"><a href=\"#cite_note-16\"><span class=\"corchete-llamada\">[</span>16<span class=\"corchete-llamada\">]</span></a></sup>​\n",
       " </p>,\n",
       " <p>Las adiciones a la biblioteca estándar de Python y las decisiones sintácticas fueron influenciadas fuertemente por <a class=\"mw-redirect\" href=\"/wiki/Lenguaje_de_programaci%C3%B3n_Java\" title=\"Lenguaje de programación Java\">Java</a> en algunos casos: el package <code>logging</code>,<sup class=\"reference separada\" id=\"cite_ref-17\"><a href=\"#cite_note-17\"><span class=\"corchete-llamada\">[</span>17<span class=\"corchete-llamada\">]</span></a></sup>​ introducido en la versión 2.3, está basado en <a href=\"/wiki/Log4j\" title=\"Log4j\">log4j</a>; el parser <a href=\"/wiki/Simple_API_for_XML\" title=\"Simple API for XML\">SAX</a>, introducido en 2.0; el package <code>threading</code>,<sup class=\"reference separada\" id=\"cite_ref-18\"><a href=\"#cite_note-18\"><span class=\"corchete-llamada\">[</span>18<span class=\"corchete-llamada\">]</span></a></sup>​ cuya clase <i>Thread</i> expone un subconjunto de la interfaz de la clase homónima en Java.\n",
       " </p>,\n",
       " <p>Python 2, es decir Python 2.7.x, fue oficialmente descontinuado el 1 de enero de 2020 (primero planeado para 2015) después de lo cual no se publicarán parches de seguridad y otras mejoras para él.<sup class=\"reference separada\" id=\"cite_ref-19\"><a href=\"#cite_note-19\"><span class=\"corchete-llamada\">[</span>19<span class=\"corchete-llamada\">]</span></a></sup>​<sup class=\"reference separada\" id=\"cite_ref-20\"><a href=\"#cite_note-20\"><span class=\"corchete-llamada\">[</span>20<span class=\"corchete-llamada\">]</span></a></sup>​ Con el final del ciclo de vida de Python 2, solo tienen soporte la rama Python 3.6.x<sup class=\"reference separada\" id=\"cite_ref-21\"><a href=\"#cite_note-21\"><span class=\"corchete-llamada\">[</span>21<span class=\"corchete-llamada\">]</span></a></sup>​ y posteriores.\n",
       " </p>,\n",
       " <p>En la actualidad, Python se aplica en los campos de inteligencia artificial y machine learning.<sup class=\"reference separada\" id=\"cite_ref-22\"><a href=\"#cite_note-22\"><span class=\"corchete-llamada\">[</span>22<span class=\"corchete-llamada\">]</span></a></sup>​\n",
       " </p>,\n",
       " <p>Python es un lenguaje de programación <a href=\"/wiki/Lenguaje_de_programaci%C3%B3n#Paradigma_de_programación\" title=\"Lenguaje de programación\">multiparadigma</a>. Esto significa que más que forzar a los programadores a adoptar un estilo particular de programación, permite varios estilos: <a href=\"/wiki/Programaci%C3%B3n_orientada_a_objetos\" title=\"Programación orientada a objetos\">programación orientada a objetos</a>, <a href=\"/wiki/Lenguaje_de_programaci%C3%B3n#Clasificación_por_paradigmas\" title=\"Lenguaje de programación\">programación imperativa</a> y <a href=\"/wiki/Programaci%C3%B3n_funcional\" title=\"Programación funcional\">programación funcional</a>. Otros paradigmas están soportados mediante el uso de extensiones.\n",
       " </p>,\n",
       " <p>Python usa <a href=\"/wiki/Tipado_din%C3%A1mico\" title=\"Tipado dinámico\">tipado dinámico</a> y <a href=\"/wiki/Conteo_de_referencias\" title=\"Conteo de referencias\">conteo de referencias</a> para la administración de memoria.\n",
       " </p>,\n",
       " <p>Una característica importante de Python es la resolución dinámica de nombres; es decir, lo que enlaza un método y un nombre de variable durante la ejecución del programa (también llamado enlace dinámico de métodos).\n",
       " </p>,\n",
       " <p>Otro objetivo del diseño del lenguaje es la facilidad de extensión. Se pueden escribir nuevos módulos fácilmente en <a href=\"/wiki/C_(lenguaje_de_programaci%C3%B3n)\" title=\"C (lenguaje de programación)\">C</a> o <a href=\"/wiki/C%2B%2B\" title=\"C++\">C++</a>. Python puede incluirse en aplicaciones que necesitan una interfaz programable.\n",
       " </p>,\n",
       " <p>Aunque la programación en Python podría considerarse en algunas situaciones hostil a la programación funcional tradicional del <a href=\"/wiki/Lisp\" title=\"Lisp\">Lisp</a>, existen bastantes analogías entre Python y los lenguajes minimalistas de la familia Lisp como puede ser <a href=\"/wiki/Scheme\" title=\"Scheme\">Scheme</a>.\n",
       " </p>,\n",
       " <p>Los usuarios de Python se refieren a menudo a la <b>filosofía de Python</b> que es bastante análoga a la filosofía de <a href=\"/wiki/Unix\" title=\"Unix\">Unix</a>. El código que siga los principios de Python se dice que es \"pythonico\". Estos principios fueron descritos por el desarrollador de Python <a class=\"new\" href=\"/w/index.php?title=Tim_Peters&amp;action=edit&amp;redlink=1\" title=\"Tim Peters (aún no redactado)\">Tim Peters</a> en <a href=\"/wiki/Zen_de_Python\" title=\"Zen de Python\">El Zen de Python</a>\n",
       " </p>,\n",
       " <p>Desde la versión 2.1.2, Python incluye estos puntos (en su versión original en inglés) como un <a href=\"/wiki/Huevo_de_pascua_(virtual)\" title=\"Huevo de pascua (virtual)\">huevo de pascua</a> que se muestra al ejecutar <code>import this</code>.<sup class=\"reference separada\" id=\"cite_ref-24\"><a href=\"#cite_note-24\"><span class=\"corchete-llamada\">[</span>24<span class=\"corchete-llamada\">]</span></a></sup>​\n",
       " </p>,\n",
       " <p>El intérprete de Python estándar incluye un <i>modo interactivo</i> en el cual se escriben las instrucciones en una especie de <a href=\"/wiki/Int%C3%A9rprete_de_comandos\" title=\"Intérprete de comandos\">intérprete de comandos</a>: las expresiones pueden ser introducidas una a una, pudiendo verse el resultado de su evaluación inmediatamente, lo que da la posibilidad de probar porciones de código en el modo interactivo antes de integrarlo como parte de un programa. Esto resulta útil tanto para las personas que se están familiarizando con el lenguaje como para los programadores más avanzados.\n",
       " </p>,\n",
       " <p>Existen otros programas, tales como <a href=\"/wiki/IDLE\" title=\"IDLE\">IDLE</a>, <a class=\"external text\" href=\"http://bpython-interpreter.org/\" rel=\"nofollow\">bpython</a> o <a href=\"/wiki/IPython\" title=\"IPython\">IPython</a>,<sup class=\"reference separada\" id=\"cite_ref-25\"><a href=\"#cite_note-25\"><span class=\"corchete-llamada\">[</span>25<span class=\"corchete-llamada\">]</span></a></sup>​ que añaden funcionalidades extra al modo interactivo, como la compleción automática de código y el <a class=\"mw-redirect\" href=\"/wiki/Coloreado_de_sintaxis\" title=\"Coloreado de sintaxis\">coloreado de la sintaxis</a> del lenguaje.\n",
       " </p>,\n",
       " <p>Ejemplo del modo interactivo:\n",
       " </p>,\n",
       " <p>Python fue diseñado para ser leído con facilidad. Una de sus características es el uso de palabras donde otros lenguajes utilizarían símbolos. Por ejemplo, los operadores lógicos <code>!</code>, <code>||</code> y <code>&amp;&amp;</code> en Python se escriben <code>not</code>, <code>or</code> y <code>and</code>, respectivamente. Curiosamente el lenguaje <a href=\"/wiki/Pascal_(lenguaje_de_programaci%C3%B3n)\" title=\"Pascal (lenguaje de programación)\">Pascal</a> es junto con <a href=\"/wiki/COBOL\" title=\"COBOL\">COBOL</a> uno de los lenguajes con muy clara sintaxis y ambos son de la década del 70. La idea del código claro y legible no es algo nuevo.\n",
       " </p>,\n",
       " <p>El contenido de los bloques de código (bucles, funciones, clases, etc.) es delimitado mediante espacios o tabuladores, conocidos como <a href=\"/wiki/Indentaci%C3%B3n\" title=\"Indentación\">indentación</a>, antes de cada línea de órdenes pertenecientes al bloque.<sup class=\"reference separada\" id=\"cite_ref-26\"><a href=\"#cite_note-26\"><span class=\"corchete-llamada\">[</span>26<span class=\"corchete-llamada\">]</span></a></sup>​ Python se diferencia así de otros lenguajes de programación que mantienen como costumbre declarar los bloques mediante un conjunto de caracteres, normalmente entre llaves <code>{}</code>.<sup class=\"reference separada\" id=\"cite_ref-27\"><a href=\"#cite_note-27\"><span class=\"corchete-llamada\">[</span>27<span class=\"corchete-llamada\">]</span></a></sup>​<sup class=\"reference separada\" id=\"cite_ref-28\"><a href=\"#cite_note-28\"><span class=\"corchete-llamada\">[</span>28<span class=\"corchete-llamada\">]</span></a></sup>​ Se pueden utilizar tanto espacios como tabuladores para sangrar el código, pero se recomienda no mezclarlos.<sup class=\"reference separada\" id=\"cite_ref-29\"><a href=\"#cite_note-29\"><span class=\"corchete-llamada\">[</span>29<span class=\"corchete-llamada\">]</span></a></sup>​ \n",
       " </p>,\n",
       " <p>Debido al significado sintáctico de la sangría, cada instrucción debe estar contenida en una sola línea. No obstante, si por legibilidad se quiere dividir la instrucción en varias líneas, añadiendo una barra invertida <code>\\</code> al final de una línea, se indica que la instrucción continúa en la siguiente.\n",
       " </p>,\n",
       " <p>Estas instrucciones son equivalentes:\n",
       " </p>,\n",
       " <p>Los <i>comentarios</i> se pueden poner de dos formas. La primera y más apropiada para comentarios largos es utilizando la notación ''' comentario ''', tres apóstrofos de apertura y tres de cierre. La segunda notación utiliza el símbolo <code>#</code>, y se extienden hasta el final de la línea. \n",
       " </p>,\n",
       " <p>El intérprete no tiene en cuenta los <i>comentarios</i>, lo cual es útil si deseamos poner información adicional en el código. Por ejemplo, una explicación sobre el comportamiento de una sección del programa.\n",
       " </p>,\n",
       " <p>Las <i>variables</i> se definen de forma <a href=\"/wiki/Tipado_din%C3%A1mico\" title=\"Tipado dinámico\">dinámica</a>, lo que significa que no se tiene que especificar cuál es su tipo de antemano y puede tomar distintos valores en otro momento, incluso de un tipo diferente al que tenía previamente. Se usa el símbolo <code>=</code> para asignar valores.\n",
       " </p>,\n",
       " <p>Los nombres de variables pueden contener números y letras pero deben comenzar por una letra, además existen 28 palabras reservadas:<sup class=\"reference separada\" id=\"cite_ref-Green_Tea_Press,_2002_30-0\"><a href=\"#cite_note-Green_Tea_Press,_2002-30\"><span class=\"corchete-llamada\">[</span>30<span class=\"corchete-llamada\">]</span></a></sup>​\n",
       " </p>,\n",
       " <p>Los <i>tipos de datos</i> se pueden resumir en esta tabla:\n",
       " </p>,\n",
       " <p>Una <a href=\"/wiki/Sentencia_condicional\" title=\"Sentencia condicional\">sentencia condicional</a> (<i>if</i>) ejecuta su <a href=\"/wiki/Bloque_de_c%C3%B3digo\" title=\"Bloque de código\">bloque de código</a> interno solo si se cumple cierta condición. Se define usando la palabra clave <code>if</code> seguida de la condición, y el bloque de código. Condiciones adicionales, si las hay, se introducen usando <code>elif</code> seguida de la condición y su bloque de código. Todas las condiciones se evalúan secuencialmente hasta encontrar la primera que sea verdadera, y su bloque de código asociado es el único que se ejecuta. Opcionalmente, puede haber un bloque final (la palabra clave <code>else</code> seguida de un bloque de código) que se ejecuta solo cuando todas las condiciones fueron falsas.\n",
       " </p>,\n",
       " <p>El bucle <i>for</i> es similar a <a href=\"/wiki/Bucle_for#Bucle_Por_Cada_(For_Each)\" title=\"Bucle for\"><i>foreach</i></a> en otros lenguajes. Recorre un objeto iterable, como una <i>lista</i>, una <i>tupla</i> o un generador, y por cada elemento del iterable ejecuta el bloque de código interno. Se define con la palabra clave <code>for</code> seguida de un nombre de variable, seguido de <code>in</code>, seguido del iterable, y finalmente el bloque de código interno. En cada iteración, el elemento siguiente del iterable se asigna al nombre de variable especificado:\n",
       " </p>,\n",
       " <p>El bucle <a href=\"/wiki/Bucle_while\" title=\"Bucle while\"><i>while</i></a> evalúa una condición y, si es verdadera, ejecuta el bloque de código interno. Continúa evaluando y ejecutando mientras la condición sea verdadera. Se define con la palabra clave <code>while</code> seguida de la condición, y a continuación el bloque de código interno:\n",
       " </p>,\n",
       " <p>Si bien Python no tiene la estructura Switch, hay varias formas de realizar la operación típica que realizaríamos con una sentencia switch case.\n",
       " </p>,\n",
       " <p>Podemos usar la estructura de la siguiente manera:\n",
       " </p>,\n",
       " <p>En esa estructura se ejecutara controlando la condicion1, si no se cumple pasara a la siguiente y así sucesivamente hasta entrar en el else.\n",
       " Un ejemplo práctico sería:\n",
       " </p>,\n",
       " <p>Podriamos decir que el lado negativo de la sentencia armada con if, elif y else es que si la lista de posibles operaciones es muy larga, las tiene que recorrer una por una hasta llegar a la correcta.\n",
       " </p>,\n",
       " <p>Podemos usar un diccionario para el mismo ejemplo:\n",
       " </p>,\n",
       " <p>De esta manera, si las opciones fueran muchas, no recorrería todas; solo iría directamente a la operación buscada en la última línea  <i>.get(op, lambda: None)()</i> estamos dando la opción por defecto.\n",
       " </p>,\n",
       " <p>Una <i>lista por comprensión</i> (en inglés: list comprehension) es una expresión compacta para definir <i>listas</i>. Al igual que <code>lambda</code>, aparece en lenguajes funcionales. Ejemplos:\n",
       " </p>,\n",
       " <p><code>def</code>:\n",
       " </p>,\n",
       " <p><code>lambda</code>:\n",
       " </p>,\n",
       " <p>Existen muchas propiedades que se pueden agregar al lenguaje importando módulos, que son \"minicódigos\" (la mayoría escritos también en Python) que proveen de ciertas funciones y clases para realizar determinadas tareas. Un ejemplo es el módulo <a href=\"/wiki/Tkinter\" title=\"Tkinter\">Tkinter</a><sup class=\"reference separada\" id=\"cite_ref-33\"><a href=\"#cite_note-33\"><span class=\"corchete-llamada\">[</span>33<span class=\"corchete-llamada\">]</span></a></sup>​, que permite crear interfaces gráficas basadas en la biblioteca <a href=\"/wiki/Tk\" title=\"Tk\">Tk</a>. Otro ejemplo es el módulo <i>os</i>, que provee acceso a muchas funciones del sistema operativo. Los módulos se agregan a los códigos escribiendo <code>import</code> seguida del nombre del módulo que queramos usar.<sup class=\"reference separada\" id=\"cite_ref-34\"><a href=\"#cite_note-34\"><span class=\"corchete-llamada\">[</span>34<span class=\"corchete-llamada\">]</span></a></sup>​\n",
       " </p>,\n",
       " <p>La instalación de módulos en Python se puede realizar mediante la <a href=\"/wiki/Software\" title=\"Software\">herramienta de software</a> (suele venir incluida con las instalaciones de Python) <a href=\"/wiki/Pip_(administrador_de_paquetes)\" title=\"Pip (administrador de paquetes)\">Pip</a>. Esta herramienta permite la gestión de los distintos paquetes o módulos instalables para Python, incluyendo así las siguientes características:\n",
       " </p>,\n",
       " <p>El módulo <b>os</b> provee funciones para interactuar con el sistema operativo:\n",
       " </p>,\n",
       " <p>Para tareas de administración de archivos, el módulo <b>shutil</b> provee una interfaz de más alto nivel:\n",
       " </p>,\n",
       " <p>El módulo <b>glob</b> provee una función para crear listas de archivos a partir de búsquedas con comodines en carpetas:\n",
       " </p>,\n",
       " <p>Los argumentos de línea de órdenes se almacenan en el atributo argv del módulo <b>sys</b> como una lista.\n",
       " </p>,\n",
       " <p>El módulo <b>math</b> permite acceder a las funciones de matemática de punto flotante:\n",
       " </p>,\n",
       " <p>El módulo <b>random</b> se utiliza para realizar selecciones al azar:\n",
       " </p>,\n",
       " <p>El módulo <b>statistics</b> se utiliza para estadística básica, por ejemplo: media, mediana, varianza, etc.:\n",
       " </p>,\n",
       " <p>El módulo <b>datetime</b> permite manejar fechas y tiempos:\n",
       " </p>,\n",
       " <p>En <b>Python</b> todo es un <i>objeto</i> (incluso las <a href=\"/wiki/Clase_(inform%C3%A1tica)\" title=\"Clase (informática)\">clases</a>). Las <i>clases</i>, al ser <i>objetos</i>, son instancias de una <a href=\"/wiki/Metaclase\" title=\"Metaclase\">metaclase</a>. <b>Python</b> además soporta <a href=\"/wiki/Herencia_m%C3%BAltiple\" title=\"Herencia múltiple\">herencia múltiple</a> y <a href=\"/wiki/Polimorfismo_(inform%C3%A1tica)\" title=\"Polimorfismo (informática)\">polimorfismo</a>.\n",
       " </p>,\n",
       " <p>Python tiene una gran biblioteca estándar, usada para una diversidad de tareas. Esto viene de la filosofía \"pilas incluidas\" (<i>\"batteries included\"</i>) en referencia a los módulos de Python. Los módulos de la biblioteca estándar pueden mejorarse por módulos personalizados escritos tanto en C como en Python. Debido a la gran variedad de herramientas incluidas en la biblioteca estándar, combinada con la habilidad de usar lenguajes de bajo nivel como C y C++, los cuales son capaces de interactuar con otras bibliotecas, Python es un lenguaje que combina su clara sintaxis con el inmenso poder de lenguajes menos elegantes.\n",
       " </p>,\n",
       " <p>Existen diversas implementaciones del lenguaje:\n",
       " </p>,\n",
       " <p>A lo largo de su historia, Python ha presentado una serie de incidencias, de las cuales las más importantes han sido las siguientes:\n",
       " </p>]"
      ]
     },
     "metadata": {},
     "execution_count": 11
    }
   ],
   "source": [
    "soup.find_all(\"p\")"
   ]
  },
  {
   "cell_type": "code",
   "execution_count": null,
   "metadata": {},
   "outputs": [],
   "source": []
  }
 ]
}