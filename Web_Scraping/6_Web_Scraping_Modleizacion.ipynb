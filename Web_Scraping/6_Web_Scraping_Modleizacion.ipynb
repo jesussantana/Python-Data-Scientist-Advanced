{
 "metadata": {
  "language_info": {
   "codemirror_mode": {
    "name": "ipython",
    "version": 3
   },
   "file_extension": ".py",
   "mimetype": "text/x-python",
   "name": "python",
   "nbconvert_exporter": "python",
   "pygments_lexer": "ipython3",
   "version": "3.8.2-final"
  },
  "orig_nbformat": 2,
  "kernelspec": {
   "name": "python3",
   "display_name": "Python 3",
   "language": "python"
  }
 },
 "nbformat": 4,
 "nbformat_minor": 2,
 "cells": [
  {
   "source": [
    "# Web Scraping \n",
    "### Lista de paises incluyendo media general de la tabla de años\n",
    "### Modelo para predecir valor 2017, basandote en 3 anteriores y predecir valor 2018"
   ],
   "cell_type": "markdown",
   "metadata": {}
  },
  {
   "cell_type": "code",
   "execution_count": 1,
   "metadata": {},
   "outputs": [],
   "source": [
    "from sklearn.model_selection import train_test_split, KFold\n",
    "from sklearn.metrics import r2_score\n",
    "from sklearn import linear_model\n",
    "from bs4 import BeautifulSoup\n",
    "import requests, re, time\n",
    "import pandas as pd \n",
    "import numpy as np\n",
    "\n",
    "pagina = requests.get(\"https://es.wikipedia.org/wiki/Anexo:Pa%C3%ADses_de_Am%C3%A9rica_Latina_por_%C3%ADndice_de_desarrollo_humano\")\n",
    "soup = BeautifulSoup(pagina.content, \"html.parser\")"
   ]
  },
  {
   "cell_type": "code",
   "execution_count": 2,
   "metadata": {},
   "outputs": [],
   "source": [
    "tabla = soup.find(\"table\")"
   ]
  },
  {
   "cell_type": "code",
   "execution_count": 3,
   "metadata": {
    "tags": [
     "outputPrepend"
    ]
   },
   "outputs": [
    {
     "output_type": "stream",
     "name": "stdout",
     "text": [
      "height=\"13\" src=\"//upload.wikimedia.org/wikipedia/commons/thumb/c/cf/Flag_of_Peru.svg/20px-Flag_of_Peru.svg.png\" srcset=\"//upload.wikimedia.org/wikipedia/commons/thumb/c/cf/Flag_of_Peru.svg/30px-Flag_of_Peru.svg.png 1.5x, //upload.wikimedia.org/wikipedia/commons/thumb/c/cf/Flag_of_Peru.svg/40px-Flag_of_Peru.svg.png 2x\" title=\"Bandera de Perú\" width=\"20\"/></span> <a href=\"/wiki/Per%C3%BA\" title=\"Perú\">Perú</a>\n</td>\n<td><span title=\"Crecimiento\"><img alt=\"Crecimiento\" data-file-height=\"300\" data-file-width=\"300\" decoding=\"async\" height=\"11\" src=\"//upload.wikimedia.org/wikipedia/commons/thumb/b/b0/Increase2.svg/11px-Increase2.svg.png\" srcset=\"//upload.wikimedia.org/wikipedia/commons/thumb/b/b0/Increase2.svg/17px-Increase2.svg.png 1.5x, //upload.wikimedia.org/wikipedia/commons/thumb/b/b0/Increase2.svg/22px-Increase2.svg.png 2x\" width=\"11\"/></span> 0,777\n</td>\n<td>79\n</td>\n<td><span title=\"Crecimiento\"><img alt=\"Crecimiento\" data-file-height=\"300\" data-file-width=\"300\" decoding=\"async\" height=\"11\" src=\"//upload.wikimedia.org/wikipedia/commons/thumb/b/b0/Increase2.svg/11px-Increase2.svg.png\" srcset=\"//upload.wikimedia.org/wikipedia/commons/thumb/b/b0/Increase2.svg/17px-Increase2.svg.png 1.5x, //upload.wikimedia.org/wikipedia/commons/thumb/b/b0/Increase2.svg/22px-Increase2.svg.png 2x\" width=\"11\"/></span> 0,018\n</td></tr>\n<tr>\n<td>9</td>\n<td><span class=\"flagicon\"><img alt=\"Bandera de Colombia\" class=\"thumbborder\" data-file-height=\"600\" data-file-width=\"900\" decoding=\"async\" height=\"13\" src=\"//upload.wikimedia.org/wikipedia/commons/thumb/2/21/Flag_of_Colombia.svg/20px-Flag_of_Colombia.svg.png\" srcset=\"//upload.wikimedia.org/wikipedia/commons/thumb/2/21/Flag_of_Colombia.svg/30px-Flag_of_Colombia.svg.png 1.5x, //upload.wikimedia.org/wikipedia/commons/thumb/2/21/Flag_of_Colombia.svg/40px-Flag_of_Colombia.svg.png 2x\" title=\"Bandera de Colombia\" width=\"20\"/></span> <a href=\"/wiki/Colombia\" title=\"Colombia\">Colombia</a>\n</td>\n<td><span title=\"Crecimiento\"><img alt=\"Crecimiento\" data-file-height=\"300\" data-file-width=\"300\" decoding=\"async\" height=\"11\" src=\"//upload.wikimedia.org/wikipedia/commons/thumb/b/b0/Increase2.svg/11px-Increase2.svg.png\" srcset=\"//upload.wikimedia.org/wikipedia/commons/thumb/b/b0/Increase2.svg/17px-Increase2.svg.png 1.5x, //upload.wikimedia.org/wikipedia/commons/thumb/b/b0/Increase2.svg/22px-Increase2.svg.png 2x\" width=\"11\"/></span> 0,767\n</td>\n<td>83\n</td>\n<td><span title=\"Crecimiento\"><img alt=\"Crecimiento\" data-file-height=\"300\" data-file-width=\"300\" decoding=\"async\" height=\"11\" src=\"//upload.wikimedia.org/wikipedia/commons/thumb/b/b0/Increase2.svg/11px-Increase2.svg.png\" srcset=\"//upload.wikimedia.org/wikipedia/commons/thumb/b/b0/Increase2.svg/17px-Increase2.svg.png 1.5x, //upload.wikimedia.org/wikipedia/commons/thumb/b/b0/Increase2.svg/22px-Increase2.svg.png 2x\" width=\"11\"/></span> 0,006\n</td></tr>\n<tr>\n<td>10</td>\n<td><span class=\"flagicon\"><img alt=\"Bandera de Brasil\" class=\"thumbborder\" data-file-height=\"504\" data-file-width=\"720\" decoding=\"async\" height=\"14\" src=\"//upload.wikimedia.org/wikipedia/commons/thumb/0/05/Flag_of_Brazil.svg/20px-Flag_of_Brazil.svg.png\" srcset=\"//upload.wikimedia.org/wikipedia/commons/thumb/0/05/Flag_of_Brazil.svg/30px-Flag_of_Brazil.svg.png 1.5x, //upload.wikimedia.org/wikipedia/commons/thumb/0/05/Flag_of_Brazil.svg/40px-Flag_of_Brazil.svg.png 2x\" title=\"Bandera de Brasil\" width=\"20\"/></span> <a href=\"/wiki/Brasil\" title=\"Brasil\">Brasil</a>\n</td>\n<td><span title=\"Crecimiento\"><img alt=\"Crecimiento\" data-file-height=\"300\" data-file-width=\"300\" decoding=\"async\" height=\"11\" src=\"//upload.wikimedia.org/wikipedia/commons/thumb/b/b0/Increase2.svg/11px-Increase2.svg.png\" srcset=\"//upload.wikimedia.org/wikipedia/commons/thumb/b/b0/Increase2.svg/17px-Increase2.svg.png 1.5x, //upload.wikimedia.org/wikipedia/commons/thumb/b/b0/Increase2.svg/22px-Increase2.svg.png 2x\" width=\"11\"/></span> 0,765\n</td>\n<td>84\n</td>\n<td><span title=\"Crecimiento\"><img alt=\"Crecimiento\" data-file-height=\"300\" data-file-width=\"300\" decoding=\"async\" height=\"11\" src=\"//upload.wikimedia.org/wikipedia/commons/thumb/b/b0/Increase2.svg/11px-Increase2.svg.png\" srcset=\"//upload.wikimedia.org/wikipedia/commons/thumb/b/b0/Increase2.svg/17px-Increase2.svg.png 1.5x, //upload.wikimedia.org/wikipedia/commons/thumb/b/b0/Increase2.svg/22px-Increase2.svg.png 2x\" width=\"11\"/></span> 0,004\n</td></tr>\n<tr>\n<td>11</td>\n<td><span class=\"flagicon\"><img alt=\"Bandera de Ecuador\" class=\"thumbborder\" data-file-height=\"960\" data-file-width=\"1440\" decoding=\"async\" height=\"13\" src=\"//upload.wikimedia.org/wikipedia/commons/thumb/e/e8/Flag_of_Ecuador.svg/20px-Flag_of_Ecuador.svg.png\" srcset=\"//upload.wikimedia.org/wikipedia/commons/thumb/e/e8/Flag_of_Ecuador.svg/30px-Flag_of_Ecuador.svg.png 1.5x, //upload.wikimedia.org/wikipedia/commons/thumb/e/e8/Flag_of_Ecuador.svg/40px-Flag_of_Ecuador.svg.png 2x\" title=\"Bandera de Ecuador\" width=\"20\"/></span> <a href=\"/wiki/Ecuador\" title=\"Ecuador\">Ecuador</a>\n</td>\n<td><span title=\"Crecimiento\"><img alt=\"Crecimiento\" data-file-height=\"300\" data-file-width=\"300\" decoding=\"async\" height=\"11\" src=\"//upload.wikimedia.org/wikipedia/commons/thumb/b/b0/Increase2.svg/11px-Increase2.svg.png\" srcset=\"//upload.wikimedia.org/wikipedia/commons/thumb/b/b0/Increase2.svg/17px-Increase2.svg.png 1.5x, //upload.wikimedia.org/wikipedia/commons/thumb/b/b0/Increase2.svg/22px-Increase2.svg.png 2x\" width=\"11\"/></span> 0,759\n</td>\n<td>86\n</td>\n<td><span title=\"Crecimiento\"><img alt=\"Crecimiento\" data-file-height=\"300\" data-file-width=\"300\" decoding=\"async\" height=\"11\" src=\"//upload.wikimedia.org/wikipedia/commons/thumb/b/b0/Increase2.svg/11px-Increase2.svg.png\" srcset=\"//upload.wikimedia.org/wikipedia/commons/thumb/b/b0/Increase2.svg/17px-Increase2.svg.png 1.5x, //upload.wikimedia.org/wikipedia/commons/thumb/b/b0/Increase2.svg/22px-Increase2.svg.png 2x\" width=\"11\"/></span> 0,001\n</td></tr>\n<tr>\n<td>12</td>\n<td><span class=\"flagicon\"><img alt=\"Bandera de la República Dominicana\" class=\"thumbborder\" data-file-height=\"600\" data-file-width=\"900\" decoding=\"async\" height=\"13\" src=\"//upload.wikimedia.org/wikipedia/commons/thumb/9/9f/Flag_of_the_Dominican_Republic.svg/20px-Flag_of_the_Dominican_Republic.svg.png\" srcset=\"//upload.wikimedia.org/wikipedia/commons/thumb/9/9f/Flag_of_the_Dominican_Republic.svg/30px-Flag_of_the_Dominican_Republic.svg.png 1.5x, //upload.wikimedia.org/wikipedia/commons/thumb/9/9f/Flag_of_the_Dominican_Republic.svg/40px-Flag_of_the_Dominican_Republic.svg.png 2x\" title=\"Bandera de la República Dominicana\" width=\"20\"/></span> <a href=\"/wiki/Rep%C3%BAblica_Dominicana\" title=\"República Dominicana\">República Dominicana</a>\n</td>\n<td><span title=\"Crecimiento\"><img alt=\"Crecimiento\" data-file-height=\"300\" data-file-width=\"300\" decoding=\"async\" height=\"11\" src=\"//upload.wikimedia.org/wikipedia/commons/thumb/b/b0/Increase2.svg/11px-Increase2.svg.png\" srcset=\"//upload.wikimedia.org/wikipedia/commons/thumb/b/b0/Increase2.svg/17px-Increase2.svg.png 1.5x, //upload.wikimedia.org/wikipedia/commons/thumb/b/b0/Increase2.svg/22px-Increase2.svg.png 2x\" width=\"11\"/></span> 0,756\n</td>\n<td>88\n</td>\n<td><span title=\"Crecimiento\"><img alt=\"Crecimiento\" data-file-height=\"300\" data-file-width=\"300\" decoding=\"async\" height=\"11\" src=\"//upload.wikimedia.org/wikipedia/commons/thumb/b/b0/Increase2.svg/11px-Increase2.svg.png\" srcset=\"//upload.wikimedia.org/wikipedia/commons/thumb/b/b0/Increase2.svg/17px-Increase2.svg.png 1.5x, //upload.wikimedia.org/wikipedia/commons/thumb/b/b0/Increase2.svg/22px-Increase2.svg.png 2x\" width=\"11\"/></span> 0,011\n</td></tr>\n<tr>\n<td>13</td>\n<td><span class=\"flagicon\"><img alt=\"Bandera de Paraguay\" class=\"thumbborder\" data-file-height=\"660\" data-file-width=\"1200\" decoding=\"async\" height=\"11\" src=\"//upload.wikimedia.org/wikipedia/commons/thumb/2/27/Flag_of_Paraguay.svg/20px-Flag_of_Paraguay.svg.png\" srcset=\"//upload.wikimedia.org/wikipedia/commons/thumb/2/27/Flag_of_Paraguay.svg/30px-Flag_of_Paraguay.svg.png 1.5x, //upload.wikimedia.org/wikipedia/commons/thumb/2/27/Flag_of_Paraguay.svg/40px-Flag_of_Paraguay.svg.png 2x\" title=\"Bandera de Paraguay\" width=\"20\"/></span> <a href=\"/wiki/Paraguay\" title=\"Paraguay\">Paraguay</a>\n</td>\n<td><span title=\"Crecimiento\"><img alt=\"Crecimiento\" data-file-height=\"300\" data-file-width=\"300\" decoding=\"async\" height=\"11\" src=\"//upload.wikimedia.org/wikipedia/commons/thumb/b/b0/Increase2.svg/11px-Increase2.svg.png\" srcset=\"//upload.wikimedia.org/wikipedia/commons/thumb/b/b0/Increase2.svg/17px-Increase2.svg.png 1.5x, //upload.wikimedia.org/wikipedia/commons/thumb/b/b0/Increase2.svg/22px-Increase2.svg.png 2x\" width=\"11\"/></span> 0,728\n</td>\n<td>103\n</td>\n<td><span title=\"Crecimiento\"><img alt=\"Crecimiento\" data-file-height=\"300\" data-file-width=\"300\" decoding=\"async\" height=\"11\" src=\"//upload.wikimedia.org/wikipedia/commons/thumb/b/b0/Increase2.svg/11px-Increase2.svg.png\" srcset=\"//upload.wikimedia.org/wikipedia/commons/thumb/b/b0/Increase2.svg/17px-Increase2.svg.png 1.5x, //upload.wikimedia.org/wikipedia/commons/thumb/b/b0/Increase2.svg/22px-Increase2.svg.png 2x\" width=\"11\"/></span> 0,004\n</td></tr>\n<tr>\n<td>14</td>\n<td><span class=\"flagicon\"><img alt=\"Bandera de Bolivia\" class=\"thumbborder\" data-file-height=\"750\" data-file-width=\"1100\" decoding=\"async\" height=\"14\" src=\"//upload.wikimedia.org/wikipedia/commons/thumb/4/48/Flag_of_Bolivia.svg/20px-Flag_of_Bolivia.svg.png\" srcset=\"//upload.wikimedia.org/wikipedia/commons/thumb/4/48/Flag_of_Bolivia.svg/30px-Flag_of_Bolivia.svg.png 1.5x, //upload.wikimedia.org/wikipedia/commons/thumb/4/48/Flag_of_Bolivia.svg/40px-Flag_of_Bolivia.svg.png 2x\" title=\"Bandera de Bolivia\" width=\"20\"/></span> <a href=\"/wiki/Bolivia\" title=\"Bolivia\">Bolivia</a>\n</td>\n<td><span title=\"Crecimiento\"><img alt=\"Crecimiento\" data-file-height=\"300\" data-file-width=\"300\" decoding=\"async\" height=\"11\" src=\"//upload.wikimedia.org/wikipedia/commons/thumb/b/b0/Increase2.svg/11px-Increase2.svg.png\" srcset=\"//upload.wikimedia.org/wikipedia/commons/thumb/b/b0/Increase2.svg/17px-Increase2.svg.png 1.5x, //upload.wikimedia.org/wikipedia/commons/thumb/b/b0/Increase2.svg/22px-Increase2.svg.png 2x\" width=\"11\"/></span> 0,718\n</td>\n<td>107\n</td>\n<td><span title=\"Crecimiento\"><img alt=\"Crecimiento\" data-file-height=\"300\" data-file-width=\"300\" decoding=\"async\" height=\"11\" src=\"//upload.wikimedia.org/wikipedia/commons/thumb/b/b0/Increase2.svg/11px-Increase2.svg.png\" srcset=\"//upload.wikimedia.org/wikipedia/commons/thumb/b/b0/Increase2.svg/17px-Increase2.svg.png 1.5x, //upload.wikimedia.org/wikipedia/commons/thumb/b/b0/Increase2.svg/22px-Increase2.svg.png 2x\" width=\"11\"/></span> 0,015\n</td></tr>\n<tr>\n<td>15</td>\n<td><span class=\"flagicon\"><img alt=\"Bandera de Venezuela\" class=\"thumbborder\" data-file-height=\"600\" data-file-width=\"900\" decoding=\"async\" height=\"13\" src=\"//upload.wikimedia.org/wikipedia/commons/thumb/0/06/Flag_of_Venezuela.svg/20px-Flag_of_Venezuela.svg.png\" srcset=\"//upload.wikimedia.org/wikipedia/commons/thumb/0/06/Flag_of_Venezuela.svg/30px-Flag_of_Venezuela.svg.png 1.5x, //upload.wikimedia.org/wikipedia/commons/thumb/0/06/Flag_of_Venezuela.svg/40px-Flag_of_Venezuela.svg.png 2x\" title=\"Bandera de Venezuela\" width=\"20\"/></span> <a href=\"/wiki/Venezuela\" title=\"Venezuela\">Venezuela</a>\n</td>\n<td><span title=\"Decrecimiento\"><img alt=\"Decrecimiento\" data-file-height=\"300\" data-file-width=\"300\" decoding=\"async\" height=\"11\" src=\"//upload.wikimedia.org/wikipedia/commons/thumb/e/ed/Decrease2.svg/11px-Decrease2.svg.png\" srcset=\"//upload.wikimedia.org/wikipedia/commons/thumb/e/ed/Decrease2.svg/17px-Decrease2.svg.png 1.5x, //upload.wikimedia.org/wikipedia/commons/thumb/e/ed/Decrease2.svg/22px-Decrease2.svg.png 2x\" width=\"11\"/></span> 0,711\n</td>\n<td>113\n</td>\n<td><span title=\"Decrecimiento\"><img alt=\"Decrecimiento\" data-file-height=\"300\" data-file-width=\"300\" decoding=\"async\" height=\"11\" src=\"//upload.wikimedia.org/wikipedia/commons/thumb/e/ed/Decrease2.svg/11px-Decrease2.svg.png\" srcset=\"//upload.wikimedia.org/wikipedia/commons/thumb/e/ed/Decrease2.svg/17px-Decrease2.svg.png 1.5x, //upload.wikimedia.org/wikipedia/commons/thumb/e/ed/Decrease2.svg/22px-Decrease2.svg.png 2x\" width=\"11\"/></span> 0,015\n</td></tr>\n<tr>\n<th colspan=\"5\" style=\"color:#FFCC00\">IDH Medio\n</th></tr>\n<tr>\n<td>16</td>\n<td><span class=\"flagicon\"><img alt=\"Bandera de El Salvador\" class=\"thumbborder\" data-file-height=\"567\" data-file-width=\"1005\" decoding=\"async\" height=\"11\" src=\"//upload.wikimedia.org/wikipedia/commons/thumb/3/34/Flag_of_El_Salvador.svg/20px-Flag_of_El_Salvador.svg.png\" srcset=\"//upload.wikimedia.org/wikipedia/commons/thumb/3/34/Flag_of_El_Salvador.svg/30px-Flag_of_El_Salvador.svg.png 1.5x, //upload.wikimedia.org/wikipedia/commons/thumb/3/34/Flag_of_El_Salvador.svg/40px-Flag_of_El_Salvador.svg.png 2x\" title=\"Bandera de El Salvador\" width=\"20\"/></span> <a href=\"/wiki/El_Salvador\" title=\"El Salvador\">El Salvador</a>\n</td>\n<td><span title=\"Crecimiento\"><img alt=\"Crecimiento\" data-file-height=\"300\" data-file-width=\"300\" decoding=\"async\" height=\"11\" src=\"//upload.wikimedia.org/wikipedia/commons/thumb/b/b0/Increase2.svg/11px-Increase2.svg.png\" srcset=\"//upload.wikimedia.org/wikipedia/commons/thumb/b/b0/Increase2.svg/17px-Increase2.svg.png 1.5x, //upload.wikimedia.org/wikipedia/commons/thumb/b/b0/Increase2.svg/22px-Increase2.svg.png 2x\" width=\"11\"/></span> 0,673\n</td>\n<td>124\n</td>\n<td><span title=\"Crecimiento\"><img alt=\"Crecimiento\" data-file-height=\"300\" data-file-width=\"300\" decoding=\"async\" height=\"11\" src=\"//upload.wikimedia.org/wikipedia/commons/thumb/b/b0/Increase2.svg/11px-Increase2.svg.png\" srcset=\"//upload.wikimedia.org/wikipedia/commons/thumb/b/b0/Increase2.svg/17px-Increase2.svg.png 1.5x, //upload.wikimedia.org/wikipedia/commons/thumb/b/b0/Increase2.svg/22px-Increase2.svg.png 2x\" width=\"11\"/></span> 0,006\n</td></tr>\n<tr>\n<td>17</td>\n<td><span class=\"flagicon\"><img alt=\"Bandera de Guatemala\" class=\"thumbborder\" data-file-height=\"600\" data-file-width=\"960\" decoding=\"async\" height=\"13\" src=\"//upload.wikimedia.org/wikipedia/commons/thumb/e/ec/Flag_of_Guatemala.svg/20px-Flag_of_Guatemala.svg.png\" srcset=\"//upload.wikimedia.org/wikipedia/commons/thumb/e/ec/Flag_of_Guatemala.svg/30px-Flag_of_Guatemala.svg.png 1.5x, //upload.wikimedia.org/wikipedia/commons/thumb/e/ec/Flag_of_Guatemala.svg/40px-Flag_of_Guatemala.svg.png 2x\" title=\"Bandera de Guatemala\" width=\"20\"/></span> <a href=\"/wiki/Guatemala\" title=\"Guatemala\">Guatemala</a>\n</td>\n<td><span title=\"Crecimiento\"><img alt=\"Crecimiento\" data-file-height=\"300\" data-file-width=\"300\" decoding=\"async\" height=\"11\" src=\"//upload.wikimedia.org/wikipedia/commons/thumb/b/b0/Increase2.svg/11px-Increase2.svg.png\" srcset=\"//upload.wikimedia.org/wikipedia/commons/thumb/b/b0/Increase2.svg/17px-Increase2.svg.png 1.5x, //upload.wikimedia.org/wikipedia/commons/thumb/b/b0/Increase2.svg/22px-Increase2.svg.png 2x\" width=\"11\"/></span> 0,663\n</td>\n<td>127\n</td>\n<td><span title=\"Crecimiento\"><img alt=\"Crecimiento\" data-file-height=\"300\" data-file-width=\"300\" decoding=\"async\" height=\"11\" src=\"//upload.wikimedia.org/wikipedia/commons/thumb/b/b0/Increase2.svg/11px-Increase2.svg.png\" srcset=\"//upload.wikimedia.org/wikipedia/commons/thumb/b/b0/Increase2.svg/17px-Increase2.svg.png 1.5x, //upload.wikimedia.org/wikipedia/commons/thumb/b/b0/Increase2.svg/22px-Increase2.svg.png 2x\" width=\"11\"/></span> 0,012\n</td></tr>\n<tr>\n<td>18</td>\n<td><span class=\"flagicon\"><img alt=\"Bandera de Nicaragua\" class=\"thumbborder\" data-file-height=\"600\" data-file-width=\"1000\" decoding=\"async\" height=\"12\" src=\"//upload.wikimedia.org/wikipedia/commons/thumb/1/19/Flag_of_Nicaragua.svg/20px-Flag_of_Nicaragua.svg.png\" srcset=\"//upload.wikimedia.org/wikipedia/commons/thumb/1/19/Flag_of_Nicaragua.svg/30px-Flag_of_Nicaragua.svg.png 1.5x, //upload.wikimedia.org/wikipedia/commons/thumb/1/19/Flag_of_Nicaragua.svg/40px-Flag_of_Nicaragua.svg.png 2x\" title=\"Bandera de Nicaragua\" width=\"20\"/></span> <a href=\"/wiki/Nicaragua\" title=\"Nicaragua\">Nicaragua</a>\n</td>\n<td><span title=\"Crecimiento\"><img alt=\"Crecimiento\" data-file-height=\"300\" data-file-width=\"300\" decoding=\"async\" height=\"11\" src=\"//upload.wikimedia.org/wikipedia/commons/thumb/b/b0/Increase2.svg/11px-Increase2.svg.png\" srcset=\"//upload.wikimedia.org/wikipedia/commons/thumb/b/b0/Increase2.svg/17px-Increase2.svg.png 1.5x, //upload.wikimedia.org/wikipedia/commons/thumb/b/b0/Increase2.svg/22px-Increase2.svg.png 2x\" width=\"11\"/></span> 0,660\n</td>\n<td>128\n</td>\n<td><span title=\"Crecimiento\"><img alt=\"Crecimiento\" data-file-height=\"300\" data-file-width=\"300\" decoding=\"async\" height=\"11\" src=\"//upload.wikimedia.org/wikipedia/commons/thumb/b/b0/Increase2.svg/11px-Increase2.svg.png\" srcset=\"//upload.wikimedia.org/wikipedia/commons/thumb/b/b0/Increase2.svg/17px-Increase2.svg.png 1.5x, //upload.wikimedia.org/wikipedia/commons/thumb/b/b0/Increase2.svg/22px-Increase2.svg.png 2x\" width=\"11\"/></span> 0,009\n</td></tr>\n<tr>\n<td>19</td>\n<td><span class=\"flagicon\"><img alt=\"Bandera de Honduras\" class=\"thumbborder\" data-file-height=\"630\" data-file-width=\"1260\" decoding=\"async\" height=\"10\" src=\"//upload.wikimedia.org/wikipedia/commons/thumb/8/82/Flag_of_Honduras.svg/20px-Flag_of_Honduras.svg.png\" srcset=\"//upload.wikimedia.org/wikipedia/commons/thumb/8/82/Flag_of_Honduras.svg/30px-Flag_of_Honduras.svg.png 1.5x, //upload.wikimedia.org/wikipedia/commons/thumb/8/82/Flag_of_Honduras.svg/40px-Flag_of_Honduras.svg.png 2x\" title=\"Bandera de Honduras\" width=\"20\"/></span> <a href=\"/wiki/Honduras\" title=\"Honduras\">Honduras</a>\n</td>\n<td><span title=\"Crecimiento\"><img alt=\"Crecimiento\" data-file-height=\"300\" data-file-width=\"300\" decoding=\"async\" height=\"11\" src=\"//upload.wikimedia.org/wikipedia/commons/thumb/b/b0/Increase2.svg/11px-Increase2.svg.png\" srcset=\"//upload.wikimedia.org/wikipedia/commons/thumb/b/b0/Increase2.svg/17px-Increase2.svg.png 1.5x, //upload.wikimedia.org/wikipedia/commons/thumb/b/b0/Increase2.svg/22px-Increase2.svg.png 2x\" width=\"11\"/></span> 0,634\n</td>\n<td>132\n</td>\n<td><span title=\"Crecimiento\"><img alt=\"Crecimiento\" data-file-height=\"300\" data-file-width=\"300\" decoding=\"async\" height=\"11\" src=\"//upload.wikimedia.org/wikipedia/commons/thumb/b/b0/Increase2.svg/11px-Increase2.svg.png\" srcset=\"//upload.wikimedia.org/wikipedia/commons/thumb/b/b0/Increase2.svg/17px-Increase2.svg.png 1.5x, //upload.wikimedia.org/wikipedia/commons/thumb/b/b0/Increase2.svg/22px-Increase2.svg.png 2x\" width=\"11\"/></span> 0,011\n</td></tr>\n<tr>\n<th colspan=\"5\" style=\"color:#990000\">IDH Bajo\n</th></tr>\n<tr>\n<td>20</td>\n<td><span class=\"flagicon\"><img alt=\"Bandera de Haití\" class=\"thumbborder\" data-file-height=\"600\" data-file-width=\"1000\" decoding=\"async\" height=\"12\" src=\"//upload.wikimedia.org/wikipedia/commons/thumb/5/56/Flag_of_Haiti.svg/20px-Flag_of_Haiti.svg.png\" srcset=\"//upload.wikimedia.org/wikipedia/commons/thumb/5/56/Flag_of_Haiti.svg/30px-Flag_of_Haiti.svg.png 1.5x, //upload.wikimedia.org/wikipedia/commons/thumb/5/56/Flag_of_Haiti.svg/40px-Flag_of_Haiti.svg.png 2x\" title=\"Bandera de Haití\" width=\"20\"/></span> <a href=\"/wiki/Hait%C3%AD\" title=\"Haití\">Haití</a>\n</td>\n<td><span title=\"Crecimiento\"><img alt=\"Crecimiento\" data-file-height=\"300\" data-file-width=\"300\" decoding=\"async\" height=\"11\" src=\"//upload.wikimedia.org/wikipedia/commons/thumb/b/b0/Increase2.svg/11px-Increase2.svg.png\" srcset=\"//upload.wikimedia.org/wikipedia/commons/thumb/b/b0/Increase2.svg/17px-Increase2.svg.png 1.5x, //upload.wikimedia.org/wikipedia/commons/thumb/b/b0/Increase2.svg/22px-Increase2.svg.png 2x\" width=\"11\"/></span> 0,510\n</td>\n<td>170\n</td>\n<td><span title=\"Crecimiento\"><img alt=\"Crecimiento\" data-file-height=\"300\" data-file-width=\"300\" decoding=\"async\" height=\"11\" src=\"//upload.wikimedia.org/wikipedia/commons/thumb/b/b0/Increase2.svg/11px-Increase2.svg.png\" srcset=\"//upload.wikimedia.org/wikipedia/commons/thumb/b/b0/Increase2.svg/17px-Increase2.svg.png 1.5x, //upload.wikimedia.org/wikipedia/commons/thumb/b/b0/Increase2.svg/22px-Increase2.svg.png 2x\" width=\"11\"/></span> 0,007\n</td></tr>\n</tbody></table>\n"
     ]
    }
   ],
   "source": [
    "print(tabla)"
   ]
  },
  {
   "cell_type": "code",
   "execution_count": 4,
   "metadata": {},
   "outputs": [],
   "source": [
    "nombrecolumnas = []\n",
    "for elem in tabla.find_all(\"th\"):\n",
    "    if str(elem.string)[0] == \"2\":\n",
    "        nombrecolumnas.append(elem.string[:-1])\n",
    "        print(elem.string[:-1])"
   ]
  },
  {
   "cell_type": "code",
   "execution_count": 5,
   "metadata": {},
   "outputs": [
    {
     "output_type": "stream",
     "name": "stdout",
     "text": [
      "1\nNone\nNone\n43\n\nNone\n2\nNone\nNone\n46\n\nNone\n3\nNone\nNone\n55\n\nNone\n4\nNone\nNone\n57\n\nNone\n5\nNone\nNone\n62\n\nNone\n6\nNone\nNone\n70\n\nNone\n7\nNone\nNone\n74\n\nNone\n8\nNone\nNone\n79\n\nNone\n9\nNone\nNone\n83\n\nNone\n10\nNone\nNone\n84\n\nNone\n11\nNone\nNone\n86\n\nNone\n12\nNone\nNone\n88\n\nNone\n13\nNone\nNone\n103\n\nNone\n14\nNone\nNone\n107\n\nNone\n15\nNone\nNone\n113\n\nNone\n16\nNone\nNone\n124\n\nNone\n17\nNone\nNone\n127\n\nNone\n18\nNone\nNone\n128\n\nNone\n19\nNone\nNone\n132\n\nNone\n20\nNone\nNone\n170\n\nNone\n"
     ]
    }
   ],
   "source": [
    "for elem in tabla.find_all(\"td\"):\n",
    "    print(elem.string)"
   ]
  },
  {
   "cell_type": "code",
   "execution_count": 6,
   "metadata": {},
   "outputs": [],
   "source": [
    "for elem in tabla.find_all(\"td\"):\n",
    "    if str(elem.string)[0] == \"0\":\n",
    "        print(elem.string)"
   ]
  },
  {
   "cell_type": "code",
   "execution_count": 7,
   "metadata": {},
   "outputs": [],
   "source": [
    "for elem in tabla.find_all(\"td\"):\n",
    "    if str(elem.string)[0] == \"0\":\n",
    "        print(elem.string)"
   ]
  },
  {
   "cell_type": "code",
   "execution_count": 8,
   "metadata": {},
   "outputs": [
    {
     "output_type": "stream",
     "name": "stdout",
     "text": [
      "Chile\nArgentina\nArgentina\nArgentina\nUruguay\nUruguay\nUruguay\nPanamá\nPanamá\nPanamá\nCosta Rica\nCosta Rica\nCosta Rica\nCuba\nCuba\nCuba\nMéxico\nMéxico\nMéxico\nPerú\nPerú\nPerú\nColombia\nColombia\nColombia\nBrasil\nBrasil\nBrasil\nEcuador\nEcuador\nEcuador\nRepública Dominicana\nRepública Dominicana\nRepública Dominicana\nParaguay\nParaguay\nParaguay\nBolivia\nBolivia\nBolivia\nVenezuela\nVenezuela\nVenezuela\nEl Salvador\nEl Salvador\nEl Salvador\nGuatemala\nGuatemala\nGuatemala\nNicaragua\nNicaragua\nNicaragua\nHonduras\nHonduras\nHonduras\nHaití\nHaití\nHaití\neditar\neditar\n"
     ]
    }
   ],
   "source": [
    "paises = []\n",
    "for elem in tabla.find_all([\"td\",\"img\"]):\n",
    "    #print(elem.a)\n",
    "    if str(elem.string).find(\"América Latina y el Caribe\") != -1:\n",
    "        print(elem.string)\n",
    "        paises.append(elem.string)\n",
    "    if elem.img is not None:\n",
    "        print(elem.find_next(\"a\").string)\n",
    "        paises.append(elem.find_next(\"a\").string)"
   ]
  },
  {
   "cell_type": "code",
   "execution_count": 9,
   "metadata": {},
   "outputs": [
    {
     "output_type": "execute_result",
     "data": {
      "text/plain": [
       "['Chile',\n",
       " 'Argentina',\n",
       " 'Argentina',\n",
       " 'Argentina',\n",
       " 'Uruguay',\n",
       " 'Uruguay',\n",
       " 'Uruguay',\n",
       " 'Panamá',\n",
       " 'Panamá',\n",
       " 'Panamá',\n",
       " 'Costa Rica',\n",
       " 'Costa Rica',\n",
       " 'Costa Rica',\n",
       " 'Cuba',\n",
       " 'Cuba',\n",
       " 'Cuba',\n",
       " 'México',\n",
       " 'México',\n",
       " 'México',\n",
       " 'Perú',\n",
       " 'Perú',\n",
       " 'Perú',\n",
       " 'Colombia',\n",
       " 'Colombia',\n",
       " 'Colombia',\n",
       " 'Brasil',\n",
       " 'Brasil',\n",
       " 'Brasil',\n",
       " 'Ecuador',\n",
       " 'Ecuador',\n",
       " 'Ecuador',\n",
       " 'República Dominicana',\n",
       " 'República Dominicana',\n",
       " 'República Dominicana',\n",
       " 'Paraguay',\n",
       " 'Paraguay',\n",
       " 'Paraguay',\n",
       " 'Bolivia',\n",
       " 'Bolivia',\n",
       " 'Bolivia',\n",
       " 'Venezuela',\n",
       " 'Venezuela',\n",
       " 'Venezuela',\n",
       " 'El Salvador',\n",
       " 'El Salvador',\n",
       " 'El Salvador',\n",
       " 'Guatemala',\n",
       " 'Guatemala',\n",
       " 'Guatemala',\n",
       " 'Nicaragua',\n",
       " 'Nicaragua',\n",
       " 'Nicaragua',\n",
       " 'Honduras',\n",
       " 'Honduras',\n",
       " 'Honduras',\n",
       " 'Haití',\n",
       " 'Haití',\n",
       " 'Haití',\n",
       " 'editar',\n",
       " 'editar']"
      ]
     },
     "metadata": {},
     "execution_count": 9
    }
   ],
   "source": [
    "paises"
   ]
  },
  {
   "cell_type": "code",
   "execution_count": 10,
   "metadata": {},
   "outputs": [
    {
     "output_type": "execute_result",
     "data": {
      "text/plain": [
       "[]"
      ]
     },
     "metadata": {},
     "execution_count": 10
    }
   ],
   "source": [
    "valores = []\n",
    "for elem in tabla.find_all(\"td\"):\n",
    "    if str(elem.string)[0] == \"0\":\n",
    "        valores.append(float(elem.string[:-1].replace(\",\",\".\")))\n",
    "valores"
   ]
  },
  {
   "cell_type": "code",
   "execution_count": 11,
   "metadata": {},
   "outputs": [],
   "source": [
    "valores = np.array(valores)"
   ]
  },
  {
   "cell_type": "code",
   "execution_count": 12,
   "metadata": {},
   "outputs": [],
   "source": [
    "valores.shape = (len(paises), len(nombrecolumnas))"
   ]
  },
  {
   "cell_type": "code",
   "execution_count": 13,
   "metadata": {},
   "outputs": [
    {
     "output_type": "execute_result",
     "data": {
      "text/plain": [
       "array([], shape=(60, 0), dtype=float64)"
      ]
     },
     "metadata": {},
     "execution_count": 13
    }
   ],
   "source": [
    "valores"
   ]
  },
  {
   "cell_type": "code",
   "execution_count": 14,
   "metadata": {},
   "outputs": [],
   "source": [
    "df = pd.DataFrame(valores, columns=nombrecolumnas)  # index = paises"
   ]
  },
  {
   "cell_type": "code",
   "execution_count": null,
   "metadata": {},
   "outputs": [],
   "source": [
    "df"
   ]
  },
  {
   "cell_type": "code",
   "execution_count": null,
   "metadata": {},
   "outputs": [],
   "source": [
    "X = df.iloc[:,1:len(df.columns)]\n",
    "Y = df.iloc[:0]"
   ]
  },
  {
   "cell_type": "code",
   "execution_count": null,
   "metadata": {},
   "outputs": [],
   "source": [
    "kf = KFold(n_splits=4)\n",
    "kf.get_n_splits(X)\n",
    "\n",
    "regr = linear_model.LinearRegression\n",
    "\n",
    "resultados = []\n",
    "\n",
    "for train_index, test_index in kf.split(X):\n",
    "    X_train, X_test = X.loc[train_index,], X.loc[test_index,]\n",
    "    y_train, y_test = Y[train_index], Y[test_index]\n",
    "    regr.fit(X_train, y_train)\n",
    "    predicciones = regr.predict(X_test)\n",
    "    print(\"R2: \", r2_score(y_test, predicciones))\n",
    "    resultados.append(r2_score(y_test, predicciones))\n",
    "\n",
    "print(\"R2 medio: \", np.mean(resultados))"
   ]
  },
  {
   "cell_type": "code",
   "execution_count": null,
   "metadata": {},
   "outputs": [],
   "source": [
    "regr = linear_model.LinearRegression()\n",
    "regr.fit(X, Y)"
   ]
  },
  {
   "cell_type": "code",
   "execution_count": null,
   "metadata": {},
   "outputs": [],
   "source": [
    "r2_score(Y, regr.predict(X))"
   ]
  },
  {
   "cell_type": "code",
   "execution_count": null,
   "metadata": {},
   "outputs": [],
   "source": [
    "regr.coef_"
   ]
  },
  {
   "cell_type": "code",
   "execution_count": null,
   "metadata": {},
   "outputs": [],
   "source": [
    "regr.intercept_"
   ]
  },
  {
   "cell_type": "code",
   "execution_count": null,
   "metadata": {},
   "outputs": [],
   "source": [
    "np.sum[df.iloc[:,0:3] * regr.coef_ , axis=1]"
   ]
  }
 ]
}