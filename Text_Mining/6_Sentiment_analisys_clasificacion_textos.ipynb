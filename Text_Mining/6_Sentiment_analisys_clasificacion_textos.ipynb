{
 "metadata": {
  "language_info": {
   "codemirror_mode": {
    "name": "ipython",
    "version": 3
   },
   "file_extension": ".py",
   "mimetype": "text/x-python",
   "name": "python",
   "nbconvert_exporter": "python",
   "pygments_lexer": "ipython3",
   "version": "3.8.2-final"
  },
  "orig_nbformat": 2,
  "kernelspec": {
   "name": "python3",
   "display_name": "Python 3",
   "language": "python"
  }
 },
 "nbformat": 4,
 "nbformat_minor": 2,
 "cells": [
  {
   "cell_type": "code",
   "execution_count": 1,
   "metadata": {},
   "outputs": [],
   "source": [
    "from sklearn.feature_extraction.text import CountVectorizer\n",
    "from nltk.tokenize import RegexpTokenizer\n",
    "import pandas as pd \n",
    "\n",
    "lista1 = [\"Bueno\",\"Malo\",\"Malo\",\"Malo\",\"Bueno\",\"Malo\",\"Bueno\",\"Bueno\",\"Malo\",\"Malo\"]\n",
    "lista2 = [\"Lo recomendaria a todos mis amigos\",\n",
    "            \"Es el peor producto que he comprado nunca\",\n",
    "            \"Ni loco compraria este producto\",\n",
    "            \"No se lo recomendaria ni a mi enemigo\",\n",
    "            \"Es un buen producto, si que lo recomendaria\",\n",
    "            \"Me ha encantado\",\n",
    "            \"Es una basura absoluta, ni me moleste en lavarlo, lo tire directamente\",\n",
    "            \"El enemigo publico numero de la suciedad\",\n",
    "            \"Es un producto genial, se lo recomienda ria a todos los compradores\",\n",
    "            \"Hay que estar loco para comprar esta basura\"]\n",
    "\n",
    "df = pd.DataFrame({\"Sentimiento\" : lista1, \"Valoracion\" : lista2})\n",
    "\n",
    "token = RegexpTokenizer(r'[a-zA-Z0-9]+')\n",
    "cv= CountVectorizer(lowercase=True, ngram_range=(1,2), tokenizer=token.tokenize) \n",
    "text_counts = cv.fit_transform(df['Valoracion'])"
   ]
  },
  {
   "cell_type": "code",
   "execution_count": 7,
   "metadata": {},
   "outputs": [],
   "source": [
    "from sklearn.model_selection import train_test_split\n",
    "X_train, X_test, y_train, y_test = train_test_split(text_counts, df['Sentimiento'], test_size=0.5, random_state=1) # random_state podemos variar precision"
   ]
  },
  {
   "cell_type": "code",
   "execution_count": 8,
   "metadata": {},
   "outputs": [
    {
     "output_type": "stream",
     "name": "stdout",
     "text": [
      "MultinomialNB Accuracy: 0.4\n"
     ]
    }
   ],
   "source": [
    "# ajustar el modelo\n",
    "from  sklearn.naive_bayes import MultinomialNB\n",
    "from sklearn import metrics\n",
    "\n",
    "clf = MultinomialNB().fit(X_train, y_train)\n",
    "\n",
    "predicted = clf.predict(X_test)\n",
    "\n",
    "print (\"MultinomialNB Accuracy:\", metrics.accuracy_score(y_test, predicted))"
   ]
  },
  {
   "cell_type": "code",
   "execution_count": 9,
   "metadata": {},
   "outputs": [
    {
     "output_type": "execute_result",
     "data": {
      "text/plain": [
       "2     Malo\n",
       "9     Malo\n",
       "6    Bueno\n",
       "4    Bueno\n",
       "0    Bueno\n",
       "Name: Sentimiento, dtype: object"
      ]
     },
     "metadata": {},
     "execution_count": 9
    }
   ],
   "source": [
    "y_test"
   ]
  },
  {
   "cell_type": "code",
   "execution_count": 10,
   "metadata": {},
   "outputs": [
    {
     "output_type": "execute_result",
     "data": {
      "text/plain": [
       "array(['Malo', 'Bueno', 'Bueno', 'Malo', 'Malo'], dtype='<U5')"
      ]
     },
     "metadata": {},
     "execution_count": 10
    }
   ],
   "source": [
    "predicted"
   ]
  },
  {
   "cell_type": "code",
   "execution_count": null,
   "metadata": {},
   "outputs": [],
   "source": []
  }
 ]
}