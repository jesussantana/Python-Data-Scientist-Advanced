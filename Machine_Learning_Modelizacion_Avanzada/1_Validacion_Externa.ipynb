{
 "metadata": {
  "language_info": {
   "codemirror_mode": {
    "name": "ipython",
    "version": 3
   },
   "file_extension": ".py",
   "mimetype": "text/x-python",
   "name": "python",
   "nbconvert_exporter": "python",
   "pygments_lexer": "ipython3",
   "version": "3.8.5-final"
  },
  "orig_nbformat": 2,
  "kernelspec": {
   "name": "python3",
   "display_name": "Python 3",
   "language": "python"
  }
 },
 "nbformat": 4,
 "nbformat_minor": 2,
 "cells": [
  {
   "cell_type": "code",
   "execution_count": 1,
   "metadata": {},
   "outputs": [],
   "source": [
    "import pandas as pd \n",
    "from sklearn.model_selection import train_test_split  # Partir datos en train(entrenar) y test(evaluacion)\n",
    "from sklearn import linear_model\n",
    "from sklearn.metrics import r2_score"
   ]
  },
  {
   "cell_type": "code",
   "execution_count": 2,
   "metadata": {},
   "outputs": [],
   "source": [
    "data = pd.read_csv(\"../Tascas/Data/DelayedFlights.csv\")"
   ]
  },
  {
   "cell_type": "code",
   "execution_count": 5,
   "metadata": {},
   "outputs": [],
   "source": [
    "df = data.dropna(subset = [\"ArrDelay\"])\n",
    "df = df.sample(frac=1).head(1000)\n",
    "\n",
    "X = df[[\"AirTime\", \"Distance\", \"DepDelay\"]]\n",
    "Y = df[\"ArrDelay\"]"
   ]
  },
  {
   "cell_type": "code",
   "execution_count": 9,
   "metadata": {},
   "outputs": [],
   "source": [
    "# partir base de datos 2 regresoras 2 respuestas, test_size % destinado a test, random_state semilla para proximas pruebas\n",
    "X_train, X_test, y_train, y_test =  train_test_split(X,Y, test_size=.2, random_state = 10) "
   ]
  },
  {
   "cell_type": "code",
   "execution_count": 10,
   "metadata": {},
   "outputs": [
    {
     "output_type": "stream",
     "name": "stdout",
     "text": [
      "R2:  0.923822946172545\nR2:  0.9566867844411185\n"
     ]
    }
   ],
   "source": [
    "# regresiones lineales Interna, Externa\n",
    "regrINTERNA = linear_model.LinearRegression()\n",
    "regrINTERNA.fit(X,Y)\n",
    "prediccionesINTERNA = regrINTERNA.predict(X)\n",
    "print(\"R2: \", r2_score(Y, prediccionesINTERNA))\n",
    "\n",
    "regrEXTERNA = linear_model.LinearRegression()\n",
    "regrEXTERNA.fit(X_train,y_train)\n",
    "prediccionesEXTERNA = regrEXTERNA.predict(X_test)\n",
    "print(\"R2: \", r2_score(y_test, prediccionesEXTERNA))"
   ]
  },
  {
   "cell_type": "code",
   "execution_count": null,
   "metadata": {},
   "outputs": [],
   "source": [
    "# Interno normalmente esta sobreajustado al evaluarlo con los mismos datos que usamos para el entrenamiento\n",
    "# Externo al entrenar con unos datos y evaluar con datos diferentes el modelo sea mas real"
   ]
  }
 ]
}